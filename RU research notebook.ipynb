{
 "cells": [
  {
   "cell_type": "markdown",
   "metadata": {},
   "source": [
    "# Определение перспективного тарифа для телеком-компании"
   ]
  },
  {
   "cell_type": "markdown",
   "metadata": {},
   "source": [
    "Заказчик - компания «Мегалайн», федеральный оператор сотовой связи. \n",
    "\n",
    "Клиентам предлагают два тарифных плана: «Смарт» и «Ультра». Чтобы скорректировать рекламный бюджет, коммерческий департамент хочет понять, какой тариф приносит больше денег.\n",
    "\n",
    "Необходимо сделать предварительный анализ тарифов на небольшой выборке клиентов. Предоставлены данные 500 пользователей «Мегалайна»: кто они, откуда, каким тарифом пользуются, сколько звонков и сообщений каждый отправил за 2018 год. Нужно проанализировать поведение клиентов и сделать вывод — какой тариф лучше."
   ]
  },
  {
   "cell_type": "markdown",
   "metadata": {},
   "source": [
    "<b>Описание тарифов</b>\n",
    "\n",
    "Тариф «Смарт»\n",
    "\n",
    "1. Ежемесячная плата: 550 рублей\n",
    "2. Включено 500 минут разговора, 50 сообщений и 15 Гб интернет-трафика\n",
    "3. Стоимость услуг сверх тарифного пакета:\n",
    "    - минута разговора: 3 рубля\n",
    "    - сообщение: 3 рубля\n",
    "    - 1 Гб интернет-трафика: 200 рублей\n",
    "    \n",
    "Тариф «Ультра»\n",
    "\n",
    "1. Ежемесячная плата: 1950 рублей\n",
    "2. Включено 3000 минут разговора, 1000 сообщений и 30 Гб интернет-трафика\n",
    "3. Стоимость услуг сверх тарифного пакета:\n",
    "    - минута разговора: 1 рубль\n",
    "    - сообщение: 1 рубль\n",
    "    - 1 Гб интернет-трафика: 150 рублей"
   ]
  },
  {
   "cell_type": "markdown",
   "metadata": {},
   "source": [
    "<b>Примечание</b>\n",
    "\n",
    "«Мегалайн» всегда округляет секунды до минут, а мегабайты — до гигабайт. Каждый звонок округляется отдельно: даже если он длился всего 1 секунду, будет засчитан как 1 минута.\n",
    "\n",
    "Для веб-трафика отдельные сессии не считаются. Вместо этого общая сумма за месяц округляется в бо́льшую сторону. Если абонент использует 1025 мегабайт в этом месяце, с него возьмут плату за 2 гигабайта.\n",
    "\n",
    "Примите, что неиспользованные за предыдущий месяц звонки, смс, интернет на следующий месяц не переносятся."
   ]
  },
  {
   "cell_type": "markdown",
   "metadata": {},
   "source": [
    "<b> Описание данных </b>\n",
    "\n",
    "Таблица users (информация о пользователях):\n",
    "\n",
    "- user_id — уникальный идентификатор пользователя\n",
    "- first_name — имя пользователя\n",
    "- last_name — фамилия пользователя\n",
    "- age — возраст пользователя (годы)\n",
    "- reg_date — дата подключения тарифа (день, месяц, год)\n",
    "- churn_date — дата прекращения пользования тарифом (если значение пропущено, то тариф ещё действовал на момент выгрузки данных)\n",
    "- city — город проживания пользователя\n",
    "- tariff — название тарифного плана\n",
    "\n",
    "Таблица calls (информация о звонках):\n",
    "\n",
    "- id — уникальный номер звонка\n",
    "- call_date — дата звонка\n",
    "- duration — длительность звонка в минутах\n",
    "- user_id — идентификатор пользователя, сделавшего звонок\n",
    "\n",
    "Таблица messages (информация о сообщениях):\n",
    "\n",
    "- id — уникальный номер сообщения\n",
    "- message_date — дата сообщения\n",
    "- user_id — идентификатор пользователя, отправившего сообщение\n",
    "\n",
    "Таблица internet (информация об интернет-сессиях):\n",
    "\n",
    "- id — уникальный номер сессии\n",
    "- mb_used — объём потраченного за сессию интернет-трафика (в мегабайтах)\n",
    "- session_date — дата интернет-сессии\n",
    "- user_id — идентификатор пользователя\n",
    "\n",
    "Таблица tariffs (информация о тарифах):\n",
    "\n",
    "- tariff_name — название тарифа\n",
    "- rub_monthly_fee — ежемесячная абонентская плата в рублях\n",
    "- minutes_included — количество минут разговора в месяц, включённых в абонентскую плату\n",
    "- messages_included — количество сообщений в месяц, включённых в абонентскую плату\n",
    "- mb_per_month_included — объём интернет-трафика, включённого в абонентскую плату (в мегабайтах)\n",
    "- rub_per_minute — стоимость минуты разговора сверх тарифного пакета (например, если в тарифе 100 минут разговора в месяц, то со 101 минуты будет взиматься плата)\n",
    "- rub_per_message — стоимость отправки сообщения сверх тарифного пакета\n",
    "- rub_per_gb — стоимость дополнительного гигабайта интернет-трафика сверх тарифного пакета (1 гигабайт = 1024 мегабайта)"
   ]
  },
  {
   "cell_type": "markdown",
   "metadata": {},
   "source": [
    "## Описание хода работы"
   ]
  },
  {
   "cell_type": "markdown",
   "metadata": {},
   "source": [
    "Шаг 1. Изучить общую информацию\n",
    "\n",
    "Путь к файлам: \n",
    "\n",
    "- datasets/calls.csv\n",
    "- datasets/internet.csv\n",
    "- datasets/messages.csv\n",
    "- datasets/tariffs.csv\n",
    "- datasets/users.csv\n",
    "\n",
    "Шаг 2. Подготовить данные\n",
    "\n",
    "1. Привести данные к нужным типам;\n",
    "2. Найти и исправить ошибки в данных, если они есть.\n",
    "3. Пояснить, какие ошибки найдены и исправлены. В данных присутствуют звонки с нулевой продолжительностью. Это не ошибка: нулями обозначены пропущенные звонки, поэтому их не нужно удалять. \n",
    "4. Посчитать для каждого пользователя:\n",
    "    - количество сделанных звонков и израсходованных минут разговора по месяцам;\n",
    "    - количество отправленных сообщений по месяцам;\n",
    "    - объем израсходованного интернет-трафика по месяцам;\n",
    "    - помесячную выручку с каждого пользователя\n",
    "\n",
    "Шаг 3. Проанализировать данные\n",
    "\n",
    "Описать поведение клиентов оператора, исходя из выборки. Сколько минут разговора, сколько сообщений и какой объём интернет-трафика требуется пользователям каждого тарифа в месяц? Посчитать среднее количество, дисперсию и стандартное отклонение. Построить гистограммы. Описать распределения.\n",
    "\n",
    "Шаг 4. Проверить гипотезы\n",
    "\n",
    "- средняя выручка пользователей тарифов «Ультра» и «Смарт» различаются;\n",
    "- средняя выручка пользователей из Москвы отличается от выручки пользователей из других регионов.\n",
    "\n",
    "Пороговое значение alpha задать самостоятельно.\n",
    "\n",
    "- Пояснить:\n",
    "    - как сформулированы нулевая и альтернативная гипотезы;\n",
    "    - какой критерий использован для проверки гипотез и почему.\n",
    "\n",
    "Шаг 5. Написать общий вывод"
   ]
  },
  {
   "cell_type": "markdown",
   "metadata": {
    "tags": []
   },
   "source": [
    "## Настройки рабочей тетради"
   ]
  },
  {
   "cell_type": "code",
   "execution_count": 1,
   "metadata": {},
   "outputs": [],
   "source": [
    "# Импорт библиотек\n",
    "\n",
    "import pandas as pd\n",
    "from scipy import stats as st\n",
    "import numpy as np\n",
    "import matplotlib.pyplot as plt\n",
    "import math\n",
    "import random\n",
    "import time\n",
    "\n",
    "import os"
   ]
  },
  {
   "cell_type": "code",
   "execution_count": 2,
   "metadata": {},
   "outputs": [],
   "source": [
    "# Настройки библиотек\n",
    "\n",
    " \n",
    "# Сброс ограничений на число столбцов\n",
    "pd.set_option('display.max_columns', None)"
   ]
  },
  {
   "cell_type": "code",
   "execution_count": 3,
   "metadata": {},
   "outputs": [],
   "source": [
    "# Путь к директории с данными\n",
    "\n",
    "path = 'datasets/'"
   ]
  },
  {
   "cell_type": "markdown",
   "metadata": {
    "tags": []
   },
   "source": [
    "## Изучение общей информации"
   ]
  },
  {
   "cell_type": "code",
   "execution_count": 4,
   "metadata": {},
   "outputs": [],
   "source": [
    "data_calls = pd.read_csv(os.path.join(path, 'calls.csv'))\n",
    "data_internet = pd.read_csv(os.path.join(path, 'internet.csv'))\n",
    "data_msg = pd.read_csv(os.path.join(path, 'messages.csv'))\n",
    "data_tariffs = pd.read_csv(os.path.join(path, 'tariffs.csv'))\n",
    "data_users = pd.read_csv(os.path.join(path, 'users.csv'))"
   ]
  },
  {
   "cell_type": "code",
   "execution_count": 5,
   "metadata": {},
   "outputs": [
    {
     "name": "stdout",
     "output_type": "stream",
     "text": [
      "Информация о звонках\n"
     ]
    },
    {
     "data": {
      "text/html": [
       "<div>\n",
       "<style scoped>\n",
       "    .dataframe tbody tr th:only-of-type {\n",
       "        vertical-align: middle;\n",
       "    }\n",
       "\n",
       "    .dataframe tbody tr th {\n",
       "        vertical-align: top;\n",
       "    }\n",
       "\n",
       "    .dataframe thead th {\n",
       "        text-align: right;\n",
       "    }\n",
       "</style>\n",
       "<table border=\"1\" class=\"dataframe\">\n",
       "  <thead>\n",
       "    <tr style=\"text-align: right;\">\n",
       "      <th></th>\n",
       "      <th>id</th>\n",
       "      <th>call_date</th>\n",
       "      <th>duration</th>\n",
       "      <th>user_id</th>\n",
       "    </tr>\n",
       "  </thead>\n",
       "  <tbody>\n",
       "    <tr>\n",
       "      <th>0</th>\n",
       "      <td>1000_0</td>\n",
       "      <td>2018-07-25</td>\n",
       "      <td>0.00</td>\n",
       "      <td>1000</td>\n",
       "    </tr>\n",
       "    <tr>\n",
       "      <th>1</th>\n",
       "      <td>1000_1</td>\n",
       "      <td>2018-08-17</td>\n",
       "      <td>0.00</td>\n",
       "      <td>1000</td>\n",
       "    </tr>\n",
       "    <tr>\n",
       "      <th>2</th>\n",
       "      <td>1000_2</td>\n",
       "      <td>2018-06-11</td>\n",
       "      <td>2.85</td>\n",
       "      <td>1000</td>\n",
       "    </tr>\n",
       "    <tr>\n",
       "      <th>3</th>\n",
       "      <td>1000_3</td>\n",
       "      <td>2018-09-21</td>\n",
       "      <td>13.80</td>\n",
       "      <td>1000</td>\n",
       "    </tr>\n",
       "    <tr>\n",
       "      <th>4</th>\n",
       "      <td>1000_4</td>\n",
       "      <td>2018-12-15</td>\n",
       "      <td>5.18</td>\n",
       "      <td>1000</td>\n",
       "    </tr>\n",
       "  </tbody>\n",
       "</table>\n",
       "</div>"
      ],
      "text/plain": [
       "       id   call_date  duration  user_id\n",
       "0  1000_0  2018-07-25      0.00     1000\n",
       "1  1000_1  2018-08-17      0.00     1000\n",
       "2  1000_2  2018-06-11      2.85     1000\n",
       "3  1000_3  2018-09-21     13.80     1000\n",
       "4  1000_4  2018-12-15      5.18     1000"
      ]
     },
     "metadata": {},
     "output_type": "display_data"
    },
    {
     "name": "stdout",
     "output_type": "stream",
     "text": [
      "<class 'pandas.core.frame.DataFrame'>\n",
      "RangeIndex: 202607 entries, 0 to 202606\n",
      "Data columns (total 4 columns):\n",
      " #   Column     Non-Null Count   Dtype  \n",
      "---  ------     --------------   -----  \n",
      " 0   id         202607 non-null  object \n",
      " 1   call_date  202607 non-null  object \n",
      " 2   duration   202607 non-null  float64\n",
      " 3   user_id    202607 non-null  int64  \n",
      "dtypes: float64(1), int64(1), object(2)\n",
      "memory usage: 6.2+ MB\n",
      "Информация об интернет трафике\n"
     ]
    },
    {
     "data": {
      "text/html": [
       "<div>\n",
       "<style scoped>\n",
       "    .dataframe tbody tr th:only-of-type {\n",
       "        vertical-align: middle;\n",
       "    }\n",
       "\n",
       "    .dataframe tbody tr th {\n",
       "        vertical-align: top;\n",
       "    }\n",
       "\n",
       "    .dataframe thead th {\n",
       "        text-align: right;\n",
       "    }\n",
       "</style>\n",
       "<table border=\"1\" class=\"dataframe\">\n",
       "  <thead>\n",
       "    <tr style=\"text-align: right;\">\n",
       "      <th></th>\n",
       "      <th>Unnamed: 0</th>\n",
       "      <th>id</th>\n",
       "      <th>mb_used</th>\n",
       "      <th>session_date</th>\n",
       "      <th>user_id</th>\n",
       "    </tr>\n",
       "  </thead>\n",
       "  <tbody>\n",
       "    <tr>\n",
       "      <th>0</th>\n",
       "      <td>0</td>\n",
       "      <td>1000_0</td>\n",
       "      <td>112.95</td>\n",
       "      <td>2018-11-25</td>\n",
       "      <td>1000</td>\n",
       "    </tr>\n",
       "    <tr>\n",
       "      <th>1</th>\n",
       "      <td>1</td>\n",
       "      <td>1000_1</td>\n",
       "      <td>1052.81</td>\n",
       "      <td>2018-09-07</td>\n",
       "      <td>1000</td>\n",
       "    </tr>\n",
       "    <tr>\n",
       "      <th>2</th>\n",
       "      <td>2</td>\n",
       "      <td>1000_2</td>\n",
       "      <td>1197.26</td>\n",
       "      <td>2018-06-25</td>\n",
       "      <td>1000</td>\n",
       "    </tr>\n",
       "    <tr>\n",
       "      <th>3</th>\n",
       "      <td>3</td>\n",
       "      <td>1000_3</td>\n",
       "      <td>550.27</td>\n",
       "      <td>2018-08-22</td>\n",
       "      <td>1000</td>\n",
       "    </tr>\n",
       "    <tr>\n",
       "      <th>4</th>\n",
       "      <td>4</td>\n",
       "      <td>1000_4</td>\n",
       "      <td>302.56</td>\n",
       "      <td>2018-09-24</td>\n",
       "      <td>1000</td>\n",
       "    </tr>\n",
       "  </tbody>\n",
       "</table>\n",
       "</div>"
      ],
      "text/plain": [
       "   Unnamed: 0      id  mb_used session_date  user_id\n",
       "0           0  1000_0   112.95   2018-11-25     1000\n",
       "1           1  1000_1  1052.81   2018-09-07     1000\n",
       "2           2  1000_2  1197.26   2018-06-25     1000\n",
       "3           3  1000_3   550.27   2018-08-22     1000\n",
       "4           4  1000_4   302.56   2018-09-24     1000"
      ]
     },
     "metadata": {},
     "output_type": "display_data"
    },
    {
     "name": "stdout",
     "output_type": "stream",
     "text": [
      "<class 'pandas.core.frame.DataFrame'>\n",
      "RangeIndex: 149396 entries, 0 to 149395\n",
      "Data columns (total 5 columns):\n",
      " #   Column        Non-Null Count   Dtype  \n",
      "---  ------        --------------   -----  \n",
      " 0   Unnamed: 0    149396 non-null  int64  \n",
      " 1   id            149396 non-null  object \n",
      " 2   mb_used       149396 non-null  float64\n",
      " 3   session_date  149396 non-null  object \n",
      " 4   user_id       149396 non-null  int64  \n",
      "dtypes: float64(1), int64(2), object(2)\n",
      "memory usage: 5.7+ MB\n",
      "Информация о сообщениях\n"
     ]
    },
    {
     "data": {
      "text/html": [
       "<div>\n",
       "<style scoped>\n",
       "    .dataframe tbody tr th:only-of-type {\n",
       "        vertical-align: middle;\n",
       "    }\n",
       "\n",
       "    .dataframe tbody tr th {\n",
       "        vertical-align: top;\n",
       "    }\n",
       "\n",
       "    .dataframe thead th {\n",
       "        text-align: right;\n",
       "    }\n",
       "</style>\n",
       "<table border=\"1\" class=\"dataframe\">\n",
       "  <thead>\n",
       "    <tr style=\"text-align: right;\">\n",
       "      <th></th>\n",
       "      <th>id</th>\n",
       "      <th>message_date</th>\n",
       "      <th>user_id</th>\n",
       "    </tr>\n",
       "  </thead>\n",
       "  <tbody>\n",
       "    <tr>\n",
       "      <th>0</th>\n",
       "      <td>1000_0</td>\n",
       "      <td>2018-06-27</td>\n",
       "      <td>1000</td>\n",
       "    </tr>\n",
       "    <tr>\n",
       "      <th>1</th>\n",
       "      <td>1000_1</td>\n",
       "      <td>2018-10-08</td>\n",
       "      <td>1000</td>\n",
       "    </tr>\n",
       "    <tr>\n",
       "      <th>2</th>\n",
       "      <td>1000_2</td>\n",
       "      <td>2018-08-04</td>\n",
       "      <td>1000</td>\n",
       "    </tr>\n",
       "    <tr>\n",
       "      <th>3</th>\n",
       "      <td>1000_3</td>\n",
       "      <td>2018-06-16</td>\n",
       "      <td>1000</td>\n",
       "    </tr>\n",
       "    <tr>\n",
       "      <th>4</th>\n",
       "      <td>1000_4</td>\n",
       "      <td>2018-12-05</td>\n",
       "      <td>1000</td>\n",
       "    </tr>\n",
       "  </tbody>\n",
       "</table>\n",
       "</div>"
      ],
      "text/plain": [
       "       id message_date  user_id\n",
       "0  1000_0   2018-06-27     1000\n",
       "1  1000_1   2018-10-08     1000\n",
       "2  1000_2   2018-08-04     1000\n",
       "3  1000_3   2018-06-16     1000\n",
       "4  1000_4   2018-12-05     1000"
      ]
     },
     "metadata": {},
     "output_type": "display_data"
    },
    {
     "name": "stdout",
     "output_type": "stream",
     "text": [
      "<class 'pandas.core.frame.DataFrame'>\n",
      "RangeIndex: 123036 entries, 0 to 123035\n",
      "Data columns (total 3 columns):\n",
      " #   Column        Non-Null Count   Dtype \n",
      "---  ------        --------------   ----- \n",
      " 0   id            123036 non-null  object\n",
      " 1   message_date  123036 non-null  object\n",
      " 2   user_id       123036 non-null  int64 \n",
      "dtypes: int64(1), object(2)\n",
      "memory usage: 2.8+ MB\n",
      "Информация о тарифах\n"
     ]
    },
    {
     "data": {
      "text/html": [
       "<div>\n",
       "<style scoped>\n",
       "    .dataframe tbody tr th:only-of-type {\n",
       "        vertical-align: middle;\n",
       "    }\n",
       "\n",
       "    .dataframe tbody tr th {\n",
       "        vertical-align: top;\n",
       "    }\n",
       "\n",
       "    .dataframe thead th {\n",
       "        text-align: right;\n",
       "    }\n",
       "</style>\n",
       "<table border=\"1\" class=\"dataframe\">\n",
       "  <thead>\n",
       "    <tr style=\"text-align: right;\">\n",
       "      <th></th>\n",
       "      <th>messages_included</th>\n",
       "      <th>mb_per_month_included</th>\n",
       "      <th>minutes_included</th>\n",
       "      <th>rub_monthly_fee</th>\n",
       "      <th>rub_per_gb</th>\n",
       "      <th>rub_per_message</th>\n",
       "      <th>rub_per_minute</th>\n",
       "      <th>tariff_name</th>\n",
       "    </tr>\n",
       "  </thead>\n",
       "  <tbody>\n",
       "    <tr>\n",
       "      <th>0</th>\n",
       "      <td>50</td>\n",
       "      <td>15360</td>\n",
       "      <td>500</td>\n",
       "      <td>550</td>\n",
       "      <td>200</td>\n",
       "      <td>3</td>\n",
       "      <td>3</td>\n",
       "      <td>smart</td>\n",
       "    </tr>\n",
       "    <tr>\n",
       "      <th>1</th>\n",
       "      <td>1000</td>\n",
       "      <td>30720</td>\n",
       "      <td>3000</td>\n",
       "      <td>1950</td>\n",
       "      <td>150</td>\n",
       "      <td>1</td>\n",
       "      <td>1</td>\n",
       "      <td>ultra</td>\n",
       "    </tr>\n",
       "  </tbody>\n",
       "</table>\n",
       "</div>"
      ],
      "text/plain": [
       "   messages_included  mb_per_month_included  minutes_included  \\\n",
       "0                 50                  15360               500   \n",
       "1               1000                  30720              3000   \n",
       "\n",
       "   rub_monthly_fee  rub_per_gb  rub_per_message  rub_per_minute tariff_name  \n",
       "0              550         200                3               3       smart  \n",
       "1             1950         150                1               1       ultra  "
      ]
     },
     "metadata": {},
     "output_type": "display_data"
    },
    {
     "name": "stdout",
     "output_type": "stream",
     "text": [
      "<class 'pandas.core.frame.DataFrame'>\n",
      "RangeIndex: 2 entries, 0 to 1\n",
      "Data columns (total 8 columns):\n",
      " #   Column                 Non-Null Count  Dtype \n",
      "---  ------                 --------------  ----- \n",
      " 0   messages_included      2 non-null      int64 \n",
      " 1   mb_per_month_included  2 non-null      int64 \n",
      " 2   minutes_included       2 non-null      int64 \n",
      " 3   rub_monthly_fee        2 non-null      int64 \n",
      " 4   rub_per_gb             2 non-null      int64 \n",
      " 5   rub_per_message        2 non-null      int64 \n",
      " 6   rub_per_minute         2 non-null      int64 \n",
      " 7   tariff_name            2 non-null      object\n",
      "dtypes: int64(7), object(1)\n",
      "memory usage: 256.0+ bytes\n",
      "Информация о пользователях\n"
     ]
    },
    {
     "data": {
      "text/html": [
       "<div>\n",
       "<style scoped>\n",
       "    .dataframe tbody tr th:only-of-type {\n",
       "        vertical-align: middle;\n",
       "    }\n",
       "\n",
       "    .dataframe tbody tr th {\n",
       "        vertical-align: top;\n",
       "    }\n",
       "\n",
       "    .dataframe thead th {\n",
       "        text-align: right;\n",
       "    }\n",
       "</style>\n",
       "<table border=\"1\" class=\"dataframe\">\n",
       "  <thead>\n",
       "    <tr style=\"text-align: right;\">\n",
       "      <th></th>\n",
       "      <th>user_id</th>\n",
       "      <th>age</th>\n",
       "      <th>churn_date</th>\n",
       "      <th>city</th>\n",
       "      <th>first_name</th>\n",
       "      <th>last_name</th>\n",
       "      <th>reg_date</th>\n",
       "      <th>tariff</th>\n",
       "    </tr>\n",
       "  </thead>\n",
       "  <tbody>\n",
       "    <tr>\n",
       "      <th>0</th>\n",
       "      <td>1000</td>\n",
       "      <td>52</td>\n",
       "      <td>NaN</td>\n",
       "      <td>Краснодар</td>\n",
       "      <td>Рафаил</td>\n",
       "      <td>Верещагин</td>\n",
       "      <td>2018-05-25</td>\n",
       "      <td>ultra</td>\n",
       "    </tr>\n",
       "    <tr>\n",
       "      <th>1</th>\n",
       "      <td>1001</td>\n",
       "      <td>41</td>\n",
       "      <td>NaN</td>\n",
       "      <td>Москва</td>\n",
       "      <td>Иван</td>\n",
       "      <td>Ежов</td>\n",
       "      <td>2018-11-01</td>\n",
       "      <td>smart</td>\n",
       "    </tr>\n",
       "    <tr>\n",
       "      <th>2</th>\n",
       "      <td>1002</td>\n",
       "      <td>59</td>\n",
       "      <td>NaN</td>\n",
       "      <td>Стерлитамак</td>\n",
       "      <td>Евгений</td>\n",
       "      <td>Абрамович</td>\n",
       "      <td>2018-06-17</td>\n",
       "      <td>smart</td>\n",
       "    </tr>\n",
       "    <tr>\n",
       "      <th>3</th>\n",
       "      <td>1003</td>\n",
       "      <td>23</td>\n",
       "      <td>NaN</td>\n",
       "      <td>Москва</td>\n",
       "      <td>Белла</td>\n",
       "      <td>Белякова</td>\n",
       "      <td>2018-08-17</td>\n",
       "      <td>ultra</td>\n",
       "    </tr>\n",
       "    <tr>\n",
       "      <th>4</th>\n",
       "      <td>1004</td>\n",
       "      <td>68</td>\n",
       "      <td>NaN</td>\n",
       "      <td>Новокузнецк</td>\n",
       "      <td>Татьяна</td>\n",
       "      <td>Авдеенко</td>\n",
       "      <td>2018-05-14</td>\n",
       "      <td>ultra</td>\n",
       "    </tr>\n",
       "  </tbody>\n",
       "</table>\n",
       "</div>"
      ],
      "text/plain": [
       "   user_id  age churn_date         city first_name  last_name    reg_date  \\\n",
       "0     1000   52        NaN    Краснодар     Рафаил  Верещагин  2018-05-25   \n",
       "1     1001   41        NaN       Москва       Иван       Ежов  2018-11-01   \n",
       "2     1002   59        NaN  Стерлитамак    Евгений  Абрамович  2018-06-17   \n",
       "3     1003   23        NaN       Москва      Белла   Белякова  2018-08-17   \n",
       "4     1004   68        NaN  Новокузнецк    Татьяна   Авдеенко  2018-05-14   \n",
       "\n",
       "  tariff  \n",
       "0  ultra  \n",
       "1  smart  \n",
       "2  smart  \n",
       "3  ultra  \n",
       "4  ultra  "
      ]
     },
     "metadata": {},
     "output_type": "display_data"
    },
    {
     "name": "stdout",
     "output_type": "stream",
     "text": [
      "<class 'pandas.core.frame.DataFrame'>\n",
      "RangeIndex: 500 entries, 0 to 499\n",
      "Data columns (total 8 columns):\n",
      " #   Column      Non-Null Count  Dtype \n",
      "---  ------      --------------  ----- \n",
      " 0   user_id     500 non-null    int64 \n",
      " 1   age         500 non-null    int64 \n",
      " 2   churn_date  38 non-null     object\n",
      " 3   city        500 non-null    object\n",
      " 4   first_name  500 non-null    object\n",
      " 5   last_name   500 non-null    object\n",
      " 6   reg_date    500 non-null    object\n",
      " 7   tariff      500 non-null    object\n",
      "dtypes: int64(2), object(6)\n",
      "memory usage: 31.4+ KB\n"
     ]
    }
   ],
   "source": [
    "print('Информация о звонках')\n",
    "display(data_calls.head(5))\n",
    "data_calls.info()\n",
    "\n",
    "print('Информация об интернет трафике')\n",
    "display(data_internet.head(5))\n",
    "data_internet.info()\n",
    "\n",
    "print('Информация о сообщениях')\n",
    "display(data_msg.head(5))\n",
    "data_msg.info()\n",
    "\n",
    "print('Информация о тарифах')\n",
    "display(data_tariffs.head(5))\n",
    "data_tariffs.info()\n",
    "\n",
    "print('Информация о пользователях')\n",
    "display(data_users.head(5))\n",
    "data_users.info()"
   ]
  },
  {
   "cell_type": "markdown",
   "metadata": {},
   "source": [
    "<b>Вывод</b>\n",
    "\n",
    "Во всех таблицах необходимо перевести столбцы с датами в тип datetime, чтобы можно работать с помощью встроенных инструментов, как с датами.\n",
    "\n",
    "В таблице с информацией о звонках необходимо округлить продолжительность сверху, т.к. оператор округляет подобным образом, не учитывая секунды.\n",
    "\n",
    "В таблице с информацией об интернет трафике есть столбец \"Unnamed: 0\", повторяющий значения индексов, т.е. по сути является бесполезным и его можно убрать, чтобы не засорять данные.\n",
    "\n",
    "\n",
    "Пропуски в таблице с информацией о пользователях можно оставить, т.к. они никак не мешают выслениям и не искажают результаты последующего анализа"
   ]
  },
  {
   "cell_type": "markdown",
   "metadata": {},
   "source": [
    "## Подготовка данных"
   ]
  },
  {
   "cell_type": "markdown",
   "metadata": {},
   "source": [
    "Кроме исправлений, описанных в пункте 1, необходимо:\n",
    "- Проверить данные на возможные дубликаты \n",
    "- Создать новые таблицы, в которые внести помесячную информацию об количестве сделанных звонков и израсходованных минут разговора, количестве отправленных сообщений, объеме израсходованного интернет-трафика, выручке с каждого пользователя"
   ]
  },
  {
   "cell_type": "markdown",
   "metadata": {
    "tags": []
   },
   "source": [
    "### Приведение данных к нужным типам и исправление ошибок"
   ]
  },
  {
   "cell_type": "code",
   "execution_count": 6,
   "metadata": {},
   "outputs": [],
   "source": [
    "#Исправление таблицы с информацией о звонках\n",
    "\n",
    "data_calls['duration'] = np.ceil(data_calls['duration']).astype('int')\n",
    "data_calls['call_date'] = pd.to_datetime(data_calls['call_date'], format='%Y-%m-%d')\n",
    "\n",
    "#Исправление таблицы с информацией об интернет трафик\n",
    "data_internet= data_internet.drop('Unnamed: 0', axis=1)\n",
    "data_internet['session_date'] = pd.to_datetime(data_internet['session_date'], format='%Y-%m-%d')\n",
    "\n",
    "#Исправление таблицы с информацией о сообщениях\n",
    "data_msg['message_date'] = pd.to_datetime(data_msg['message_date'], format='%Y-%m-%d')\n",
    "\n",
    "#Исправление таблицы с информацией о пользователях\n",
    "data_users['churn_date'] = pd.to_datetime(data_users['churn_date'], format='%Y-%m-%d')\n",
    "data_users['reg_date'] = pd.to_datetime(data_users['reg_date'], format='%Y-%m-%d')"
   ]
  },
  {
   "cell_type": "code",
   "execution_count": 7,
   "metadata": {},
   "outputs": [
    {
     "name": "stdout",
     "output_type": "stream",
     "text": [
      "Информация о звонках\n"
     ]
    },
    {
     "data": {
      "text/html": [
       "<div>\n",
       "<style scoped>\n",
       "    .dataframe tbody tr th:only-of-type {\n",
       "        vertical-align: middle;\n",
       "    }\n",
       "\n",
       "    .dataframe tbody tr th {\n",
       "        vertical-align: top;\n",
       "    }\n",
       "\n",
       "    .dataframe thead th {\n",
       "        text-align: right;\n",
       "    }\n",
       "</style>\n",
       "<table border=\"1\" class=\"dataframe\">\n",
       "  <thead>\n",
       "    <tr style=\"text-align: right;\">\n",
       "      <th></th>\n",
       "      <th>id</th>\n",
       "      <th>call_date</th>\n",
       "      <th>duration</th>\n",
       "      <th>user_id</th>\n",
       "    </tr>\n",
       "  </thead>\n",
       "  <tbody>\n",
       "    <tr>\n",
       "      <th>0</th>\n",
       "      <td>1000_0</td>\n",
       "      <td>2018-07-25</td>\n",
       "      <td>0</td>\n",
       "      <td>1000</td>\n",
       "    </tr>\n",
       "    <tr>\n",
       "      <th>1</th>\n",
       "      <td>1000_1</td>\n",
       "      <td>2018-08-17</td>\n",
       "      <td>0</td>\n",
       "      <td>1000</td>\n",
       "    </tr>\n",
       "    <tr>\n",
       "      <th>2</th>\n",
       "      <td>1000_2</td>\n",
       "      <td>2018-06-11</td>\n",
       "      <td>3</td>\n",
       "      <td>1000</td>\n",
       "    </tr>\n",
       "    <tr>\n",
       "      <th>3</th>\n",
       "      <td>1000_3</td>\n",
       "      <td>2018-09-21</td>\n",
       "      <td>14</td>\n",
       "      <td>1000</td>\n",
       "    </tr>\n",
       "    <tr>\n",
       "      <th>4</th>\n",
       "      <td>1000_4</td>\n",
       "      <td>2018-12-15</td>\n",
       "      <td>6</td>\n",
       "      <td>1000</td>\n",
       "    </tr>\n",
       "  </tbody>\n",
       "</table>\n",
       "</div>"
      ],
      "text/plain": [
       "       id  call_date  duration  user_id\n",
       "0  1000_0 2018-07-25         0     1000\n",
       "1  1000_1 2018-08-17         0     1000\n",
       "2  1000_2 2018-06-11         3     1000\n",
       "3  1000_3 2018-09-21        14     1000\n",
       "4  1000_4 2018-12-15         6     1000"
      ]
     },
     "metadata": {},
     "output_type": "display_data"
    },
    {
     "name": "stdout",
     "output_type": "stream",
     "text": [
      "<class 'pandas.core.frame.DataFrame'>\n",
      "RangeIndex: 202607 entries, 0 to 202606\n",
      "Data columns (total 4 columns):\n",
      " #   Column     Non-Null Count   Dtype         \n",
      "---  ------     --------------   -----         \n",
      " 0   id         202607 non-null  object        \n",
      " 1   call_date  202607 non-null  datetime64[ns]\n",
      " 2   duration   202607 non-null  int32         \n",
      " 3   user_id    202607 non-null  int64         \n",
      "dtypes: datetime64[ns](1), int32(1), int64(1), object(1)\n",
      "memory usage: 5.4+ MB\n",
      "Информация об интернет трафике\n"
     ]
    },
    {
     "data": {
      "text/html": [
       "<div>\n",
       "<style scoped>\n",
       "    .dataframe tbody tr th:only-of-type {\n",
       "        vertical-align: middle;\n",
       "    }\n",
       "\n",
       "    .dataframe tbody tr th {\n",
       "        vertical-align: top;\n",
       "    }\n",
       "\n",
       "    .dataframe thead th {\n",
       "        text-align: right;\n",
       "    }\n",
       "</style>\n",
       "<table border=\"1\" class=\"dataframe\">\n",
       "  <thead>\n",
       "    <tr style=\"text-align: right;\">\n",
       "      <th></th>\n",
       "      <th>id</th>\n",
       "      <th>mb_used</th>\n",
       "      <th>session_date</th>\n",
       "      <th>user_id</th>\n",
       "    </tr>\n",
       "  </thead>\n",
       "  <tbody>\n",
       "    <tr>\n",
       "      <th>0</th>\n",
       "      <td>1000_0</td>\n",
       "      <td>112.95</td>\n",
       "      <td>2018-11-25</td>\n",
       "      <td>1000</td>\n",
       "    </tr>\n",
       "    <tr>\n",
       "      <th>1</th>\n",
       "      <td>1000_1</td>\n",
       "      <td>1052.81</td>\n",
       "      <td>2018-09-07</td>\n",
       "      <td>1000</td>\n",
       "    </tr>\n",
       "    <tr>\n",
       "      <th>2</th>\n",
       "      <td>1000_2</td>\n",
       "      <td>1197.26</td>\n",
       "      <td>2018-06-25</td>\n",
       "      <td>1000</td>\n",
       "    </tr>\n",
       "    <tr>\n",
       "      <th>3</th>\n",
       "      <td>1000_3</td>\n",
       "      <td>550.27</td>\n",
       "      <td>2018-08-22</td>\n",
       "      <td>1000</td>\n",
       "    </tr>\n",
       "    <tr>\n",
       "      <th>4</th>\n",
       "      <td>1000_4</td>\n",
       "      <td>302.56</td>\n",
       "      <td>2018-09-24</td>\n",
       "      <td>1000</td>\n",
       "    </tr>\n",
       "  </tbody>\n",
       "</table>\n",
       "</div>"
      ],
      "text/plain": [
       "       id  mb_used session_date  user_id\n",
       "0  1000_0   112.95   2018-11-25     1000\n",
       "1  1000_1  1052.81   2018-09-07     1000\n",
       "2  1000_2  1197.26   2018-06-25     1000\n",
       "3  1000_3   550.27   2018-08-22     1000\n",
       "4  1000_4   302.56   2018-09-24     1000"
      ]
     },
     "metadata": {},
     "output_type": "display_data"
    },
    {
     "name": "stdout",
     "output_type": "stream",
     "text": [
      "<class 'pandas.core.frame.DataFrame'>\n",
      "RangeIndex: 149396 entries, 0 to 149395\n",
      "Data columns (total 4 columns):\n",
      " #   Column        Non-Null Count   Dtype         \n",
      "---  ------        --------------   -----         \n",
      " 0   id            149396 non-null  object        \n",
      " 1   mb_used       149396 non-null  float64       \n",
      " 2   session_date  149396 non-null  datetime64[ns]\n",
      " 3   user_id       149396 non-null  int64         \n",
      "dtypes: datetime64[ns](1), float64(1), int64(1), object(1)\n",
      "memory usage: 4.6+ MB\n",
      "Информация о сообщениях\n"
     ]
    },
    {
     "data": {
      "text/html": [
       "<div>\n",
       "<style scoped>\n",
       "    .dataframe tbody tr th:only-of-type {\n",
       "        vertical-align: middle;\n",
       "    }\n",
       "\n",
       "    .dataframe tbody tr th {\n",
       "        vertical-align: top;\n",
       "    }\n",
       "\n",
       "    .dataframe thead th {\n",
       "        text-align: right;\n",
       "    }\n",
       "</style>\n",
       "<table border=\"1\" class=\"dataframe\">\n",
       "  <thead>\n",
       "    <tr style=\"text-align: right;\">\n",
       "      <th></th>\n",
       "      <th>id</th>\n",
       "      <th>message_date</th>\n",
       "      <th>user_id</th>\n",
       "    </tr>\n",
       "  </thead>\n",
       "  <tbody>\n",
       "    <tr>\n",
       "      <th>0</th>\n",
       "      <td>1000_0</td>\n",
       "      <td>2018-06-27</td>\n",
       "      <td>1000</td>\n",
       "    </tr>\n",
       "    <tr>\n",
       "      <th>1</th>\n",
       "      <td>1000_1</td>\n",
       "      <td>2018-10-08</td>\n",
       "      <td>1000</td>\n",
       "    </tr>\n",
       "    <tr>\n",
       "      <th>2</th>\n",
       "      <td>1000_2</td>\n",
       "      <td>2018-08-04</td>\n",
       "      <td>1000</td>\n",
       "    </tr>\n",
       "    <tr>\n",
       "      <th>3</th>\n",
       "      <td>1000_3</td>\n",
       "      <td>2018-06-16</td>\n",
       "      <td>1000</td>\n",
       "    </tr>\n",
       "    <tr>\n",
       "      <th>4</th>\n",
       "      <td>1000_4</td>\n",
       "      <td>2018-12-05</td>\n",
       "      <td>1000</td>\n",
       "    </tr>\n",
       "  </tbody>\n",
       "</table>\n",
       "</div>"
      ],
      "text/plain": [
       "       id message_date  user_id\n",
       "0  1000_0   2018-06-27     1000\n",
       "1  1000_1   2018-10-08     1000\n",
       "2  1000_2   2018-08-04     1000\n",
       "3  1000_3   2018-06-16     1000\n",
       "4  1000_4   2018-12-05     1000"
      ]
     },
     "metadata": {},
     "output_type": "display_data"
    },
    {
     "name": "stdout",
     "output_type": "stream",
     "text": [
      "<class 'pandas.core.frame.DataFrame'>\n",
      "RangeIndex: 123036 entries, 0 to 123035\n",
      "Data columns (total 3 columns):\n",
      " #   Column        Non-Null Count   Dtype         \n",
      "---  ------        --------------   -----         \n",
      " 0   id            123036 non-null  object        \n",
      " 1   message_date  123036 non-null  datetime64[ns]\n",
      " 2   user_id       123036 non-null  int64         \n",
      "dtypes: datetime64[ns](1), int64(1), object(1)\n",
      "memory usage: 2.8+ MB\n",
      "Информация о пользователях\n"
     ]
    },
    {
     "data": {
      "text/html": [
       "<div>\n",
       "<style scoped>\n",
       "    .dataframe tbody tr th:only-of-type {\n",
       "        vertical-align: middle;\n",
       "    }\n",
       "\n",
       "    .dataframe tbody tr th {\n",
       "        vertical-align: top;\n",
       "    }\n",
       "\n",
       "    .dataframe thead th {\n",
       "        text-align: right;\n",
       "    }\n",
       "</style>\n",
       "<table border=\"1\" class=\"dataframe\">\n",
       "  <thead>\n",
       "    <tr style=\"text-align: right;\">\n",
       "      <th></th>\n",
       "      <th>user_id</th>\n",
       "      <th>age</th>\n",
       "      <th>churn_date</th>\n",
       "      <th>city</th>\n",
       "      <th>first_name</th>\n",
       "      <th>last_name</th>\n",
       "      <th>reg_date</th>\n",
       "      <th>tariff</th>\n",
       "    </tr>\n",
       "  </thead>\n",
       "  <tbody>\n",
       "    <tr>\n",
       "      <th>0</th>\n",
       "      <td>1000</td>\n",
       "      <td>52</td>\n",
       "      <td>NaT</td>\n",
       "      <td>Краснодар</td>\n",
       "      <td>Рафаил</td>\n",
       "      <td>Верещагин</td>\n",
       "      <td>2018-05-25</td>\n",
       "      <td>ultra</td>\n",
       "    </tr>\n",
       "    <tr>\n",
       "      <th>1</th>\n",
       "      <td>1001</td>\n",
       "      <td>41</td>\n",
       "      <td>NaT</td>\n",
       "      <td>Москва</td>\n",
       "      <td>Иван</td>\n",
       "      <td>Ежов</td>\n",
       "      <td>2018-11-01</td>\n",
       "      <td>smart</td>\n",
       "    </tr>\n",
       "    <tr>\n",
       "      <th>2</th>\n",
       "      <td>1002</td>\n",
       "      <td>59</td>\n",
       "      <td>NaT</td>\n",
       "      <td>Стерлитамак</td>\n",
       "      <td>Евгений</td>\n",
       "      <td>Абрамович</td>\n",
       "      <td>2018-06-17</td>\n",
       "      <td>smart</td>\n",
       "    </tr>\n",
       "    <tr>\n",
       "      <th>3</th>\n",
       "      <td>1003</td>\n",
       "      <td>23</td>\n",
       "      <td>NaT</td>\n",
       "      <td>Москва</td>\n",
       "      <td>Белла</td>\n",
       "      <td>Белякова</td>\n",
       "      <td>2018-08-17</td>\n",
       "      <td>ultra</td>\n",
       "    </tr>\n",
       "    <tr>\n",
       "      <th>4</th>\n",
       "      <td>1004</td>\n",
       "      <td>68</td>\n",
       "      <td>NaT</td>\n",
       "      <td>Новокузнецк</td>\n",
       "      <td>Татьяна</td>\n",
       "      <td>Авдеенко</td>\n",
       "      <td>2018-05-14</td>\n",
       "      <td>ultra</td>\n",
       "    </tr>\n",
       "  </tbody>\n",
       "</table>\n",
       "</div>"
      ],
      "text/plain": [
       "   user_id  age churn_date         city first_name  last_name   reg_date  \\\n",
       "0     1000   52        NaT    Краснодар     Рафаил  Верещагин 2018-05-25   \n",
       "1     1001   41        NaT       Москва       Иван       Ежов 2018-11-01   \n",
       "2     1002   59        NaT  Стерлитамак    Евгений  Абрамович 2018-06-17   \n",
       "3     1003   23        NaT       Москва      Белла   Белякова 2018-08-17   \n",
       "4     1004   68        NaT  Новокузнецк    Татьяна   Авдеенко 2018-05-14   \n",
       "\n",
       "  tariff  \n",
       "0  ultra  \n",
       "1  smart  \n",
       "2  smart  \n",
       "3  ultra  \n",
       "4  ultra  "
      ]
     },
     "metadata": {},
     "output_type": "display_data"
    },
    {
     "name": "stdout",
     "output_type": "stream",
     "text": [
      "<class 'pandas.core.frame.DataFrame'>\n",
      "RangeIndex: 500 entries, 0 to 499\n",
      "Data columns (total 8 columns):\n",
      " #   Column      Non-Null Count  Dtype         \n",
      "---  ------      --------------  -----         \n",
      " 0   user_id     500 non-null    int64         \n",
      " 1   age         500 non-null    int64         \n",
      " 2   churn_date  38 non-null     datetime64[ns]\n",
      " 3   city        500 non-null    object        \n",
      " 4   first_name  500 non-null    object        \n",
      " 5   last_name   500 non-null    object        \n",
      " 6   reg_date    500 non-null    datetime64[ns]\n",
      " 7   tariff      500 non-null    object        \n",
      "dtypes: datetime64[ns](2), int64(2), object(4)\n",
      "memory usage: 31.4+ KB\n"
     ]
    }
   ],
   "source": [
    "#Проверка таблиц после исправлений\n",
    "print('Информация о звонках')\n",
    "display(data_calls.head(5))\n",
    "data_calls.info()\n",
    "\n",
    "print('Информация об интернет трафике')\n",
    "display(data_internet.head(5))\n",
    "data_internet.info()\n",
    "\n",
    "print('Информация о сообщениях')\n",
    "display(data_msg.head(5))\n",
    "data_msg.info()\n",
    "\n",
    "print('Информация о пользователях')\n",
    "display(data_users.head(5))\n",
    "data_users.info()"
   ]
  },
  {
   "cell_type": "code",
   "execution_count": 8,
   "metadata": {},
   "outputs": [
    {
     "name": "stdout",
     "output_type": "stream",
     "text": [
      "['ultra' 'smart']\n",
      "Количество повторяющихся значений в таблице с информацией о звонках 0\n",
      "Количество повторяющихся значений в таблице с информацией об интеренет трафике 0\n",
      "Количество повторяющихся значений в таблице с информацией о сообщениях 0\n",
      "Количество повторяющихся значений в таблице с информацией о пользователях 0\n"
     ]
    }
   ],
   "source": [
    "#Небольшие проверки, чтобы не потом не вылезли ошибки\n",
    "print(data_users['tariff'].unique())\n",
    "\n",
    "#Проверки для нахождения повторяющихся сессий или информации\n",
    "print('Количество повторяющихся значений в таблице с информацией о звонках', data_calls.duplicated().sum())\n",
    "print('Количество повторяющихся значений в таблице с информацией об интеренет трафике', data_internet.duplicated().sum())\n",
    "print('Количество повторяющихся значений в таблице с информацией о сообщениях', data_msg.duplicated().sum())\n",
    "print('Количество повторяющихся значений в таблице с информацией о пользователях', data_users.duplicated().sum())\n"
   ]
  },
  {
   "cell_type": "markdown",
   "metadata": {
    "tags": []
   },
   "source": [
    "### Подсчет данных для каждого пользователя"
   ]
  },
  {
   "cell_type": "markdown",
   "metadata": {},
   "source": [
    "Для каждого пользователя необходимо посчитать:\n",
    "- количество сделанных звонков и израсходованных минут разговора по месяцам;\n",
    "- количество отправленных сообщений по месяцам;\n",
    "- объем израсходованного интернет-трафика по месяцам;\n",
    "- помесячную выручку с каждого пользователя."
   ]
  },
  {
   "cell_type": "code",
   "execution_count": 9,
   "metadata": {},
   "outputs": [
    {
     "name": "stdout",
     "output_type": "stream",
     "text": [
      "количество сделанных звонков по месяцам\n"
     ]
    },
    {
     "data": {
      "text/html": [
       "<div>\n",
       "<style scoped>\n",
       "    .dataframe tbody tr th:only-of-type {\n",
       "        vertical-align: middle;\n",
       "    }\n",
       "\n",
       "    .dataframe tbody tr th {\n",
       "        vertical-align: top;\n",
       "    }\n",
       "\n",
       "    .dataframe thead th {\n",
       "        text-align: right;\n",
       "    }\n",
       "</style>\n",
       "<table border=\"1\" class=\"dataframe\">\n",
       "  <thead>\n",
       "    <tr style=\"text-align: right;\">\n",
       "      <th>month</th>\n",
       "      <th>1</th>\n",
       "      <th>2</th>\n",
       "      <th>3</th>\n",
       "      <th>4</th>\n",
       "      <th>5</th>\n",
       "      <th>6</th>\n",
       "      <th>7</th>\n",
       "      <th>8</th>\n",
       "      <th>9</th>\n",
       "      <th>10</th>\n",
       "      <th>11</th>\n",
       "      <th>12</th>\n",
       "    </tr>\n",
       "    <tr>\n",
       "      <th>user_id</th>\n",
       "      <th></th>\n",
       "      <th></th>\n",
       "      <th></th>\n",
       "      <th></th>\n",
       "      <th></th>\n",
       "      <th></th>\n",
       "      <th></th>\n",
       "      <th></th>\n",
       "      <th></th>\n",
       "      <th></th>\n",
       "      <th></th>\n",
       "      <th></th>\n",
       "    </tr>\n",
       "  </thead>\n",
       "  <tbody>\n",
       "    <tr>\n",
       "      <th>1000</th>\n",
       "      <td>0</td>\n",
       "      <td>0</td>\n",
       "      <td>0</td>\n",
       "      <td>0</td>\n",
       "      <td>22</td>\n",
       "      <td>43</td>\n",
       "      <td>47</td>\n",
       "      <td>52</td>\n",
       "      <td>58</td>\n",
       "      <td>57</td>\n",
       "      <td>43</td>\n",
       "      <td>46</td>\n",
       "    </tr>\n",
       "    <tr>\n",
       "      <th>1001</th>\n",
       "      <td>0</td>\n",
       "      <td>0</td>\n",
       "      <td>0</td>\n",
       "      <td>0</td>\n",
       "      <td>0</td>\n",
       "      <td>0</td>\n",
       "      <td>0</td>\n",
       "      <td>0</td>\n",
       "      <td>0</td>\n",
       "      <td>0</td>\n",
       "      <td>59</td>\n",
       "      <td>63</td>\n",
       "    </tr>\n",
       "    <tr>\n",
       "      <th>1002</th>\n",
       "      <td>0</td>\n",
       "      <td>0</td>\n",
       "      <td>0</td>\n",
       "      <td>0</td>\n",
       "      <td>0</td>\n",
       "      <td>15</td>\n",
       "      <td>26</td>\n",
       "      <td>42</td>\n",
       "      <td>36</td>\n",
       "      <td>33</td>\n",
       "      <td>32</td>\n",
       "      <td>33</td>\n",
       "    </tr>\n",
       "    <tr>\n",
       "      <th>1003</th>\n",
       "      <td>0</td>\n",
       "      <td>0</td>\n",
       "      <td>0</td>\n",
       "      <td>0</td>\n",
       "      <td>0</td>\n",
       "      <td>0</td>\n",
       "      <td>0</td>\n",
       "      <td>55</td>\n",
       "      <td>134</td>\n",
       "      <td>108</td>\n",
       "      <td>115</td>\n",
       "      <td>108</td>\n",
       "    </tr>\n",
       "    <tr>\n",
       "      <th>1004</th>\n",
       "      <td>0</td>\n",
       "      <td>0</td>\n",
       "      <td>0</td>\n",
       "      <td>0</td>\n",
       "      <td>9</td>\n",
       "      <td>31</td>\n",
       "      <td>22</td>\n",
       "      <td>19</td>\n",
       "      <td>26</td>\n",
       "      <td>29</td>\n",
       "      <td>19</td>\n",
       "      <td>21</td>\n",
       "    </tr>\n",
       "    <tr>\n",
       "      <th>...</th>\n",
       "      <td>...</td>\n",
       "      <td>...</td>\n",
       "      <td>...</td>\n",
       "      <td>...</td>\n",
       "      <td>...</td>\n",
       "      <td>...</td>\n",
       "      <td>...</td>\n",
       "      <td>...</td>\n",
       "      <td>...</td>\n",
       "      <td>...</td>\n",
       "      <td>...</td>\n",
       "      <td>...</td>\n",
       "    </tr>\n",
       "    <tr>\n",
       "      <th>1495</th>\n",
       "      <td>0</td>\n",
       "      <td>0</td>\n",
       "      <td>0</td>\n",
       "      <td>0</td>\n",
       "      <td>0</td>\n",
       "      <td>0</td>\n",
       "      <td>0</td>\n",
       "      <td>17</td>\n",
       "      <td>112</td>\n",
       "      <td>152</td>\n",
       "      <td>129</td>\n",
       "      <td>155</td>\n",
       "    </tr>\n",
       "    <tr>\n",
       "      <th>1496</th>\n",
       "      <td>7</td>\n",
       "      <td>77</td>\n",
       "      <td>79</td>\n",
       "      <td>67</td>\n",
       "      <td>63</td>\n",
       "      <td>74</td>\n",
       "      <td>73</td>\n",
       "      <td>88</td>\n",
       "      <td>68</td>\n",
       "      <td>72</td>\n",
       "      <td>80</td>\n",
       "      <td>80</td>\n",
       "    </tr>\n",
       "    <tr>\n",
       "      <th>1497</th>\n",
       "      <td>0</td>\n",
       "      <td>0</td>\n",
       "      <td>0</td>\n",
       "      <td>0</td>\n",
       "      <td>0</td>\n",
       "      <td>0</td>\n",
       "      <td>0</td>\n",
       "      <td>0</td>\n",
       "      <td>0</td>\n",
       "      <td>66</td>\n",
       "      <td>64</td>\n",
       "      <td>71</td>\n",
       "    </tr>\n",
       "    <tr>\n",
       "      <th>1498</th>\n",
       "      <td>0</td>\n",
       "      <td>0</td>\n",
       "      <td>0</td>\n",
       "      <td>0</td>\n",
       "      <td>0</td>\n",
       "      <td>0</td>\n",
       "      <td>23</td>\n",
       "      <td>57</td>\n",
       "      <td>59</td>\n",
       "      <td>41</td>\n",
       "      <td>0</td>\n",
       "      <td>0</td>\n",
       "    </tr>\n",
       "    <tr>\n",
       "      <th>1499</th>\n",
       "      <td>0</td>\n",
       "      <td>0</td>\n",
       "      <td>0</td>\n",
       "      <td>0</td>\n",
       "      <td>0</td>\n",
       "      <td>0</td>\n",
       "      <td>0</td>\n",
       "      <td>0</td>\n",
       "      <td>9</td>\n",
       "      <td>68</td>\n",
       "      <td>74</td>\n",
       "      <td>69</td>\n",
       "    </tr>\n",
       "  </tbody>\n",
       "</table>\n",
       "<p>492 rows × 12 columns</p>\n",
       "</div>"
      ],
      "text/plain": [
       "month    1   2   3   4   5   6   7   8    9    10   11   12\n",
       "user_id                                                    \n",
       "1000      0   0   0   0  22  43  47  52   58   57   43   46\n",
       "1001      0   0   0   0   0   0   0   0    0    0   59   63\n",
       "1002      0   0   0   0   0  15  26  42   36   33   32   33\n",
       "1003      0   0   0   0   0   0   0  55  134  108  115  108\n",
       "1004      0   0   0   0   9  31  22  19   26   29   19   21\n",
       "...      ..  ..  ..  ..  ..  ..  ..  ..  ...  ...  ...  ...\n",
       "1495      0   0   0   0   0   0   0  17  112  152  129  155\n",
       "1496      7  77  79  67  63  74  73  88   68   72   80   80\n",
       "1497      0   0   0   0   0   0   0   0    0   66   64   71\n",
       "1498      0   0   0   0   0   0  23  57   59   41    0    0\n",
       "1499      0   0   0   0   0   0   0   0    9   68   74   69\n",
       "\n",
       "[492 rows x 12 columns]"
      ]
     },
     "metadata": {},
     "output_type": "display_data"
    },
    {
     "name": "stdout",
     "output_type": "stream",
     "text": [
      "количество израсходованных минут разговора по месяцам\n"
     ]
    },
    {
     "data": {
      "text/html": [
       "<div>\n",
       "<style scoped>\n",
       "    .dataframe tbody tr th:only-of-type {\n",
       "        vertical-align: middle;\n",
       "    }\n",
       "\n",
       "    .dataframe tbody tr th {\n",
       "        vertical-align: top;\n",
       "    }\n",
       "\n",
       "    .dataframe thead th {\n",
       "        text-align: right;\n",
       "    }\n",
       "</style>\n",
       "<table border=\"1\" class=\"dataframe\">\n",
       "  <thead>\n",
       "    <tr style=\"text-align: right;\">\n",
       "      <th>month</th>\n",
       "      <th>1</th>\n",
       "      <th>2</th>\n",
       "      <th>3</th>\n",
       "      <th>4</th>\n",
       "      <th>5</th>\n",
       "      <th>6</th>\n",
       "      <th>7</th>\n",
       "      <th>8</th>\n",
       "      <th>9</th>\n",
       "      <th>10</th>\n",
       "      <th>11</th>\n",
       "      <th>12</th>\n",
       "    </tr>\n",
       "    <tr>\n",
       "      <th>user_id</th>\n",
       "      <th></th>\n",
       "      <th></th>\n",
       "      <th></th>\n",
       "      <th></th>\n",
       "      <th></th>\n",
       "      <th></th>\n",
       "      <th></th>\n",
       "      <th></th>\n",
       "      <th></th>\n",
       "      <th></th>\n",
       "      <th></th>\n",
       "      <th></th>\n",
       "    </tr>\n",
       "  </thead>\n",
       "  <tbody>\n",
       "    <tr>\n",
       "      <th>1000</th>\n",
       "      <td>0</td>\n",
       "      <td>0</td>\n",
       "      <td>0</td>\n",
       "      <td>0</td>\n",
       "      <td>159</td>\n",
       "      <td>172</td>\n",
       "      <td>340</td>\n",
       "      <td>408</td>\n",
       "      <td>466</td>\n",
       "      <td>350</td>\n",
       "      <td>338</td>\n",
       "      <td>333</td>\n",
       "    </tr>\n",
       "    <tr>\n",
       "      <th>1001</th>\n",
       "      <td>0</td>\n",
       "      <td>0</td>\n",
       "      <td>0</td>\n",
       "      <td>0</td>\n",
       "      <td>0</td>\n",
       "      <td>0</td>\n",
       "      <td>0</td>\n",
       "      <td>0</td>\n",
       "      <td>0</td>\n",
       "      <td>0</td>\n",
       "      <td>430</td>\n",
       "      <td>414</td>\n",
       "    </tr>\n",
       "    <tr>\n",
       "      <th>1002</th>\n",
       "      <td>0</td>\n",
       "      <td>0</td>\n",
       "      <td>0</td>\n",
       "      <td>0</td>\n",
       "      <td>0</td>\n",
       "      <td>117</td>\n",
       "      <td>214</td>\n",
       "      <td>289</td>\n",
       "      <td>206</td>\n",
       "      <td>212</td>\n",
       "      <td>243</td>\n",
       "      <td>236</td>\n",
       "    </tr>\n",
       "    <tr>\n",
       "      <th>1003</th>\n",
       "      <td>0</td>\n",
       "      <td>0</td>\n",
       "      <td>0</td>\n",
       "      <td>0</td>\n",
       "      <td>0</td>\n",
       "      <td>0</td>\n",
       "      <td>0</td>\n",
       "      <td>380</td>\n",
       "      <td>961</td>\n",
       "      <td>855</td>\n",
       "      <td>824</td>\n",
       "      <td>802</td>\n",
       "    </tr>\n",
       "    <tr>\n",
       "      <th>1004</th>\n",
       "      <td>0</td>\n",
       "      <td>0</td>\n",
       "      <td>0</td>\n",
       "      <td>0</td>\n",
       "      <td>35</td>\n",
       "      <td>171</td>\n",
       "      <td>135</td>\n",
       "      <td>137</td>\n",
       "      <td>117</td>\n",
       "      <td>145</td>\n",
       "      <td>117</td>\n",
       "      <td>130</td>\n",
       "    </tr>\n",
       "    <tr>\n",
       "      <th>...</th>\n",
       "      <td>...</td>\n",
       "      <td>...</td>\n",
       "      <td>...</td>\n",
       "      <td>...</td>\n",
       "      <td>...</td>\n",
       "      <td>...</td>\n",
       "      <td>...</td>\n",
       "      <td>...</td>\n",
       "      <td>...</td>\n",
       "      <td>...</td>\n",
       "      <td>...</td>\n",
       "      <td>...</td>\n",
       "    </tr>\n",
       "    <tr>\n",
       "      <th>1495</th>\n",
       "      <td>0</td>\n",
       "      <td>0</td>\n",
       "      <td>0</td>\n",
       "      <td>0</td>\n",
       "      <td>0</td>\n",
       "      <td>0</td>\n",
       "      <td>0</td>\n",
       "      <td>92</td>\n",
       "      <td>813</td>\n",
       "      <td>1030</td>\n",
       "      <td>954</td>\n",
       "      <td>1031</td>\n",
       "    </tr>\n",
       "    <tr>\n",
       "      <th>1496</th>\n",
       "      <td>48</td>\n",
       "      <td>594</td>\n",
       "      <td>557</td>\n",
       "      <td>521</td>\n",
       "      <td>484</td>\n",
       "      <td>555</td>\n",
       "      <td>582</td>\n",
       "      <td>527</td>\n",
       "      <td>486</td>\n",
       "      <td>450</td>\n",
       "      <td>662</td>\n",
       "      <td>518</td>\n",
       "    </tr>\n",
       "    <tr>\n",
       "      <th>1497</th>\n",
       "      <td>0</td>\n",
       "      <td>0</td>\n",
       "      <td>0</td>\n",
       "      <td>0</td>\n",
       "      <td>0</td>\n",
       "      <td>0</td>\n",
       "      <td>0</td>\n",
       "      <td>0</td>\n",
       "      <td>0</td>\n",
       "      <td>490</td>\n",
       "      <td>371</td>\n",
       "      <td>545</td>\n",
       "    </tr>\n",
       "    <tr>\n",
       "      <th>1498</th>\n",
       "      <td>0</td>\n",
       "      <td>0</td>\n",
       "      <td>0</td>\n",
       "      <td>0</td>\n",
       "      <td>0</td>\n",
       "      <td>0</td>\n",
       "      <td>175</td>\n",
       "      <td>400</td>\n",
       "      <td>471</td>\n",
       "      <td>247</td>\n",
       "      <td>0</td>\n",
       "      <td>0</td>\n",
       "    </tr>\n",
       "    <tr>\n",
       "      <th>1499</th>\n",
       "      <td>0</td>\n",
       "      <td>0</td>\n",
       "      <td>0</td>\n",
       "      <td>0</td>\n",
       "      <td>0</td>\n",
       "      <td>0</td>\n",
       "      <td>0</td>\n",
       "      <td>0</td>\n",
       "      <td>70</td>\n",
       "      <td>449</td>\n",
       "      <td>612</td>\n",
       "      <td>492</td>\n",
       "    </tr>\n",
       "  </tbody>\n",
       "</table>\n",
       "<p>492 rows × 12 columns</p>\n",
       "</div>"
      ],
      "text/plain": [
       "month    1    2    3    4    5    6    7    8    9     10   11    12\n",
       "user_id                                                             \n",
       "1000      0    0    0    0  159  172  340  408  466   350  338   333\n",
       "1001      0    0    0    0    0    0    0    0    0     0  430   414\n",
       "1002      0    0    0    0    0  117  214  289  206   212  243   236\n",
       "1003      0    0    0    0    0    0    0  380  961   855  824   802\n",
       "1004      0    0    0    0   35  171  135  137  117   145  117   130\n",
       "...      ..  ...  ...  ...  ...  ...  ...  ...  ...   ...  ...   ...\n",
       "1495      0    0    0    0    0    0    0   92  813  1030  954  1031\n",
       "1496     48  594  557  521  484  555  582  527  486   450  662   518\n",
       "1497      0    0    0    0    0    0    0    0    0   490  371   545\n",
       "1498      0    0    0    0    0    0  175  400  471   247    0     0\n",
       "1499      0    0    0    0    0    0    0    0   70   449  612   492\n",
       "\n",
       "[492 rows x 12 columns]"
      ]
     },
     "metadata": {},
     "output_type": "display_data"
    },
    {
     "name": "stdout",
     "output_type": "stream",
     "text": [
      "количество отправленных сообщений по месяцам\n"
     ]
    },
    {
     "data": {
      "text/html": [
       "<div>\n",
       "<style scoped>\n",
       "    .dataframe tbody tr th:only-of-type {\n",
       "        vertical-align: middle;\n",
       "    }\n",
       "\n",
       "    .dataframe tbody tr th {\n",
       "        vertical-align: top;\n",
       "    }\n",
       "\n",
       "    .dataframe thead th {\n",
       "        text-align: right;\n",
       "    }\n",
       "</style>\n",
       "<table border=\"1\" class=\"dataframe\">\n",
       "  <thead>\n",
       "    <tr style=\"text-align: right;\">\n",
       "      <th>month</th>\n",
       "      <th>1</th>\n",
       "      <th>2</th>\n",
       "      <th>3</th>\n",
       "      <th>4</th>\n",
       "      <th>5</th>\n",
       "      <th>6</th>\n",
       "      <th>7</th>\n",
       "      <th>8</th>\n",
       "      <th>9</th>\n",
       "      <th>10</th>\n",
       "      <th>11</th>\n",
       "      <th>12</th>\n",
       "    </tr>\n",
       "    <tr>\n",
       "      <th>user_id</th>\n",
       "      <th></th>\n",
       "      <th></th>\n",
       "      <th></th>\n",
       "      <th></th>\n",
       "      <th></th>\n",
       "      <th></th>\n",
       "      <th></th>\n",
       "      <th></th>\n",
       "      <th></th>\n",
       "      <th></th>\n",
       "      <th></th>\n",
       "      <th></th>\n",
       "    </tr>\n",
       "  </thead>\n",
       "  <tbody>\n",
       "    <tr>\n",
       "      <th>1000</th>\n",
       "      <td>0</td>\n",
       "      <td>0</td>\n",
       "      <td>0</td>\n",
       "      <td>0</td>\n",
       "      <td>22</td>\n",
       "      <td>60</td>\n",
       "      <td>75</td>\n",
       "      <td>81</td>\n",
       "      <td>57</td>\n",
       "      <td>73</td>\n",
       "      <td>58</td>\n",
       "      <td>70</td>\n",
       "    </tr>\n",
       "    <tr>\n",
       "      <th>1002</th>\n",
       "      <td>0</td>\n",
       "      <td>0</td>\n",
       "      <td>0</td>\n",
       "      <td>0</td>\n",
       "      <td>0</td>\n",
       "      <td>4</td>\n",
       "      <td>11</td>\n",
       "      <td>13</td>\n",
       "      <td>4</td>\n",
       "      <td>10</td>\n",
       "      <td>16</td>\n",
       "      <td>12</td>\n",
       "    </tr>\n",
       "    <tr>\n",
       "      <th>1003</th>\n",
       "      <td>0</td>\n",
       "      <td>0</td>\n",
       "      <td>0</td>\n",
       "      <td>0</td>\n",
       "      <td>0</td>\n",
       "      <td>0</td>\n",
       "      <td>0</td>\n",
       "      <td>37</td>\n",
       "      <td>91</td>\n",
       "      <td>83</td>\n",
       "      <td>94</td>\n",
       "      <td>75</td>\n",
       "    </tr>\n",
       "    <tr>\n",
       "      <th>1004</th>\n",
       "      <td>0</td>\n",
       "      <td>0</td>\n",
       "      <td>0</td>\n",
       "      <td>0</td>\n",
       "      <td>95</td>\n",
       "      <td>134</td>\n",
       "      <td>181</td>\n",
       "      <td>151</td>\n",
       "      <td>146</td>\n",
       "      <td>165</td>\n",
       "      <td>158</td>\n",
       "      <td>162</td>\n",
       "    </tr>\n",
       "    <tr>\n",
       "      <th>1005</th>\n",
       "      <td>7</td>\n",
       "      <td>38</td>\n",
       "      <td>56</td>\n",
       "      <td>41</td>\n",
       "      <td>42</td>\n",
       "      <td>47</td>\n",
       "      <td>56</td>\n",
       "      <td>64</td>\n",
       "      <td>52</td>\n",
       "      <td>44</td>\n",
       "      <td>51</td>\n",
       "      <td>54</td>\n",
       "    </tr>\n",
       "    <tr>\n",
       "      <th>...</th>\n",
       "      <td>...</td>\n",
       "      <td>...</td>\n",
       "      <td>...</td>\n",
       "      <td>...</td>\n",
       "      <td>...</td>\n",
       "      <td>...</td>\n",
       "      <td>...</td>\n",
       "      <td>...</td>\n",
       "      <td>...</td>\n",
       "      <td>...</td>\n",
       "      <td>...</td>\n",
       "      <td>...</td>\n",
       "    </tr>\n",
       "    <tr>\n",
       "      <th>1495</th>\n",
       "      <td>0</td>\n",
       "      <td>0</td>\n",
       "      <td>0</td>\n",
       "      <td>0</td>\n",
       "      <td>0</td>\n",
       "      <td>0</td>\n",
       "      <td>0</td>\n",
       "      <td>13</td>\n",
       "      <td>82</td>\n",
       "      <td>82</td>\n",
       "      <td>79</td>\n",
       "      <td>84</td>\n",
       "    </tr>\n",
       "    <tr>\n",
       "      <th>1496</th>\n",
       "      <td>9</td>\n",
       "      <td>45</td>\n",
       "      <td>46</td>\n",
       "      <td>49</td>\n",
       "      <td>40</td>\n",
       "      <td>35</td>\n",
       "      <td>42</td>\n",
       "      <td>41</td>\n",
       "      <td>29</td>\n",
       "      <td>35</td>\n",
       "      <td>46</td>\n",
       "      <td>51</td>\n",
       "    </tr>\n",
       "    <tr>\n",
       "      <th>1497</th>\n",
       "      <td>0</td>\n",
       "      <td>0</td>\n",
       "      <td>0</td>\n",
       "      <td>0</td>\n",
       "      <td>0</td>\n",
       "      <td>0</td>\n",
       "      <td>0</td>\n",
       "      <td>0</td>\n",
       "      <td>0</td>\n",
       "      <td>20</td>\n",
       "      <td>14</td>\n",
       "      <td>17</td>\n",
       "    </tr>\n",
       "    <tr>\n",
       "      <th>1498</th>\n",
       "      <td>0</td>\n",
       "      <td>0</td>\n",
       "      <td>0</td>\n",
       "      <td>0</td>\n",
       "      <td>0</td>\n",
       "      <td>0</td>\n",
       "      <td>20</td>\n",
       "      <td>62</td>\n",
       "      <td>44</td>\n",
       "      <td>42</td>\n",
       "      <td>0</td>\n",
       "      <td>0</td>\n",
       "    </tr>\n",
       "    <tr>\n",
       "      <th>1499</th>\n",
       "      <td>0</td>\n",
       "      <td>0</td>\n",
       "      <td>0</td>\n",
       "      <td>0</td>\n",
       "      <td>0</td>\n",
       "      <td>0</td>\n",
       "      <td>0</td>\n",
       "      <td>0</td>\n",
       "      <td>11</td>\n",
       "      <td>48</td>\n",
       "      <td>59</td>\n",
       "      <td>66</td>\n",
       "    </tr>\n",
       "  </tbody>\n",
       "</table>\n",
       "<p>426 rows × 12 columns</p>\n",
       "</div>"
      ],
      "text/plain": [
       "month    1   2   3   4   5    6    7    8    9    10   11   12\n",
       "user_id                                                       \n",
       "1000      0   0   0   0  22   60   75   81   57   73   58   70\n",
       "1002      0   0   0   0   0    4   11   13    4   10   16   12\n",
       "1003      0   0   0   0   0    0    0   37   91   83   94   75\n",
       "1004      0   0   0   0  95  134  181  151  146  165  158  162\n",
       "1005      7  38  56  41  42   47   56   64   52   44   51   54\n",
       "...      ..  ..  ..  ..  ..  ...  ...  ...  ...  ...  ...  ...\n",
       "1495      0   0   0   0   0    0    0   13   82   82   79   84\n",
       "1496      9  45  46  49  40   35   42   41   29   35   46   51\n",
       "1497      0   0   0   0   0    0    0    0    0   20   14   17\n",
       "1498      0   0   0   0   0    0   20   62   44   42    0    0\n",
       "1499      0   0   0   0   0    0    0    0   11   48   59   66\n",
       "\n",
       "[426 rows x 12 columns]"
      ]
     },
     "metadata": {},
     "output_type": "display_data"
    },
    {
     "name": "stdout",
     "output_type": "stream",
     "text": [
      "объем израсходованного интернет-трафика по месяцам\n"
     ]
    },
    {
     "data": {
      "text/html": [
       "<div>\n",
       "<style scoped>\n",
       "    .dataframe tbody tr th:only-of-type {\n",
       "        vertical-align: middle;\n",
       "    }\n",
       "\n",
       "    .dataframe tbody tr th {\n",
       "        vertical-align: top;\n",
       "    }\n",
       "\n",
       "    .dataframe thead th {\n",
       "        text-align: right;\n",
       "    }\n",
       "</style>\n",
       "<table border=\"1\" class=\"dataframe\">\n",
       "  <thead>\n",
       "    <tr style=\"text-align: right;\">\n",
       "      <th>month</th>\n",
       "      <th>1</th>\n",
       "      <th>2</th>\n",
       "      <th>3</th>\n",
       "      <th>4</th>\n",
       "      <th>5</th>\n",
       "      <th>6</th>\n",
       "      <th>7</th>\n",
       "      <th>8</th>\n",
       "      <th>9</th>\n",
       "      <th>10</th>\n",
       "      <th>11</th>\n",
       "      <th>12</th>\n",
       "    </tr>\n",
       "    <tr>\n",
       "      <th>user_id</th>\n",
       "      <th></th>\n",
       "      <th></th>\n",
       "      <th></th>\n",
       "      <th></th>\n",
       "      <th></th>\n",
       "      <th></th>\n",
       "      <th></th>\n",
       "      <th></th>\n",
       "      <th></th>\n",
       "      <th></th>\n",
       "      <th></th>\n",
       "      <th></th>\n",
       "    </tr>\n",
       "  </thead>\n",
       "  <tbody>\n",
       "    <tr>\n",
       "      <th>1000</th>\n",
       "      <td>0</td>\n",
       "      <td>0</td>\n",
       "      <td>0</td>\n",
       "      <td>0</td>\n",
       "      <td>3</td>\n",
       "      <td>23</td>\n",
       "      <td>14</td>\n",
       "      <td>14</td>\n",
       "      <td>15</td>\n",
       "      <td>15</td>\n",
       "      <td>15</td>\n",
       "      <td>10</td>\n",
       "    </tr>\n",
       "    <tr>\n",
       "      <th>1001</th>\n",
       "      <td>0</td>\n",
       "      <td>0</td>\n",
       "      <td>0</td>\n",
       "      <td>0</td>\n",
       "      <td>0</td>\n",
       "      <td>0</td>\n",
       "      <td>0</td>\n",
       "      <td>0</td>\n",
       "      <td>0</td>\n",
       "      <td>0</td>\n",
       "      <td>18</td>\n",
       "      <td>14</td>\n",
       "    </tr>\n",
       "    <tr>\n",
       "      <th>1002</th>\n",
       "      <td>0</td>\n",
       "      <td>0</td>\n",
       "      <td>0</td>\n",
       "      <td>0</td>\n",
       "      <td>0</td>\n",
       "      <td>11</td>\n",
       "      <td>18</td>\n",
       "      <td>20</td>\n",
       "      <td>17</td>\n",
       "      <td>14</td>\n",
       "      <td>19</td>\n",
       "      <td>18</td>\n",
       "    </tr>\n",
       "    <tr>\n",
       "      <th>1003</th>\n",
       "      <td>0</td>\n",
       "      <td>0</td>\n",
       "      <td>0</td>\n",
       "      <td>0</td>\n",
       "      <td>0</td>\n",
       "      <td>0</td>\n",
       "      <td>0</td>\n",
       "      <td>9</td>\n",
       "      <td>13</td>\n",
       "      <td>15</td>\n",
       "      <td>12</td>\n",
       "      <td>10</td>\n",
       "    </tr>\n",
       "    <tr>\n",
       "      <th>1004</th>\n",
       "      <td>0</td>\n",
       "      <td>0</td>\n",
       "      <td>0</td>\n",
       "      <td>0</td>\n",
       "      <td>14</td>\n",
       "      <td>18</td>\n",
       "      <td>22</td>\n",
       "      <td>28</td>\n",
       "      <td>15</td>\n",
       "      <td>19</td>\n",
       "      <td>16</td>\n",
       "      <td>18</td>\n",
       "    </tr>\n",
       "    <tr>\n",
       "      <th>...</th>\n",
       "      <td>...</td>\n",
       "      <td>...</td>\n",
       "      <td>...</td>\n",
       "      <td>...</td>\n",
       "      <td>...</td>\n",
       "      <td>...</td>\n",
       "      <td>...</td>\n",
       "      <td>...</td>\n",
       "      <td>...</td>\n",
       "      <td>...</td>\n",
       "      <td>...</td>\n",
       "      <td>...</td>\n",
       "    </tr>\n",
       "    <tr>\n",
       "      <th>1495</th>\n",
       "      <td>0</td>\n",
       "      <td>0</td>\n",
       "      <td>0</td>\n",
       "      <td>0</td>\n",
       "      <td>0</td>\n",
       "      <td>0</td>\n",
       "      <td>0</td>\n",
       "      <td>3</td>\n",
       "      <td>33</td>\n",
       "      <td>29</td>\n",
       "      <td>39</td>\n",
       "      <td>23</td>\n",
       "    </tr>\n",
       "    <tr>\n",
       "      <th>1496</th>\n",
       "      <td>4</td>\n",
       "      <td>28</td>\n",
       "      <td>25</td>\n",
       "      <td>21</td>\n",
       "      <td>24</td>\n",
       "      <td>20</td>\n",
       "      <td>24</td>\n",
       "      <td>23</td>\n",
       "      <td>27</td>\n",
       "      <td>28</td>\n",
       "      <td>25</td>\n",
       "      <td>21</td>\n",
       "    </tr>\n",
       "    <tr>\n",
       "      <th>1497</th>\n",
       "      <td>0</td>\n",
       "      <td>0</td>\n",
       "      <td>0</td>\n",
       "      <td>0</td>\n",
       "      <td>0</td>\n",
       "      <td>0</td>\n",
       "      <td>0</td>\n",
       "      <td>0</td>\n",
       "      <td>0</td>\n",
       "      <td>12</td>\n",
       "      <td>14</td>\n",
       "      <td>20</td>\n",
       "    </tr>\n",
       "    <tr>\n",
       "      <th>1498</th>\n",
       "      <td>0</td>\n",
       "      <td>0</td>\n",
       "      <td>0</td>\n",
       "      <td>0</td>\n",
       "      <td>0</td>\n",
       "      <td>0</td>\n",
       "      <td>8</td>\n",
       "      <td>24</td>\n",
       "      <td>22</td>\n",
       "      <td>21</td>\n",
       "      <td>0</td>\n",
       "      <td>0</td>\n",
       "    </tr>\n",
       "    <tr>\n",
       "      <th>1499</th>\n",
       "      <td>0</td>\n",
       "      <td>0</td>\n",
       "      <td>0</td>\n",
       "      <td>0</td>\n",
       "      <td>0</td>\n",
       "      <td>0</td>\n",
       "      <td>0</td>\n",
       "      <td>0</td>\n",
       "      <td>2</td>\n",
       "      <td>18</td>\n",
       "      <td>18</td>\n",
       "      <td>13</td>\n",
       "    </tr>\n",
       "  </tbody>\n",
       "</table>\n",
       "<p>497 rows × 12 columns</p>\n",
       "</div>"
      ],
      "text/plain": [
       "month    1   2   3   4   5   6   7   8   9   10  11  12\n",
       "user_id                                                \n",
       "1000      0   0   0   0   3  23  14  14  15  15  15  10\n",
       "1001      0   0   0   0   0   0   0   0   0   0  18  14\n",
       "1002      0   0   0   0   0  11  18  20  17  14  19  18\n",
       "1003      0   0   0   0   0   0   0   9  13  15  12  10\n",
       "1004      0   0   0   0  14  18  22  28  15  19  16  18\n",
       "...      ..  ..  ..  ..  ..  ..  ..  ..  ..  ..  ..  ..\n",
       "1495      0   0   0   0   0   0   0   3  33  29  39  23\n",
       "1496      4  28  25  21  24  20  24  23  27  28  25  21\n",
       "1497      0   0   0   0   0   0   0   0   0  12  14  20\n",
       "1498      0   0   0   0   0   0   8  24  22  21   0   0\n",
       "1499      0   0   0   0   0   0   0   0   2  18  18  13\n",
       "\n",
       "[497 rows x 12 columns]"
      ]
     },
     "metadata": {},
     "output_type": "display_data"
    }
   ],
   "source": [
    "#Создание таблиц с помесячной информацией о звонках, сообщениях и трафике. \n",
    "#Изменение типов данных для повышения скорости последующих вычислений\n",
    "\n",
    "data_calls['month'] = data_calls['call_date'].dt.month\n",
    "call_month_sum = data_calls.pivot_table(index='user_id', columns='month', values='duration', aggfunc='sum')\n",
    "call_month_sum = call_month_sum.fillna(0)\n",
    "call_month_sum = call_month_sum.astype('int')\n",
    "call_month_count = data_calls.pivot_table(index='user_id', columns='month', values='duration', aggfunc='count')\n",
    "call_month_count = call_month_count.fillna(0)\n",
    "call_month_count = call_month_count.astype('int')\n",
    "\n",
    "data_msg['month'] = data_msg['message_date'].dt.month\n",
    "msg_month = data_msg.pivot_table(index='user_id', columns='month', values='id', aggfunc='count')\n",
    "msg_month = msg_month.fillna(0)\n",
    "msg_month = msg_month.astype('int')\n",
    "\n",
    "data_internet['month'] = data_internet['session_date'].dt.month\n",
    "inet_month = data_internet.pivot_table(index='user_id', columns='month', values='mb_used', aggfunc='sum')\n",
    "inet_month = inet_month.fillna(0)\n",
    "inet_month = np.ceil(inet_month/1024)           #Перевод мб в гб с округлением вверх\n",
    "inet_month = inet_month.astype('int')\n",
    "\n",
    "print('количество сделанных звонков по месяцам')\n",
    "display(call_month_count)\n",
    "print('количество израсходованных минут разговора по месяцам')\n",
    "display(call_month_sum)\n",
    "print('количество отправленных сообщений по месяцам')\n",
    "display(msg_month)\n",
    "print('объем израсходованного интернет-трафика по месяцам')\n",
    "display(inet_month)"
   ]
  },
  {
   "cell_type": "code",
   "execution_count": 10,
   "metadata": {},
   "outputs": [
    {
     "data": {
      "text/html": [
       "<div>\n",
       "<style scoped>\n",
       "    .dataframe tbody tr th:only-of-type {\n",
       "        vertical-align: middle;\n",
       "    }\n",
       "\n",
       "    .dataframe tbody tr th {\n",
       "        vertical-align: top;\n",
       "    }\n",
       "\n",
       "    .dataframe thead th {\n",
       "        text-align: right;\n",
       "    }\n",
       "</style>\n",
       "<table border=\"1\" class=\"dataframe\">\n",
       "  <thead>\n",
       "    <tr style=\"text-align: right;\">\n",
       "      <th></th>\n",
       "      <th>user_id</th>\n",
       "      <th>tariff</th>\n",
       "      <th>city</th>\n",
       "      <th>1</th>\n",
       "      <th>2</th>\n",
       "      <th>3</th>\n",
       "      <th>4</th>\n",
       "      <th>5</th>\n",
       "      <th>6</th>\n",
       "      <th>7</th>\n",
       "      <th>8</th>\n",
       "      <th>9</th>\n",
       "      <th>10</th>\n",
       "      <th>11</th>\n",
       "      <th>12</th>\n",
       "    </tr>\n",
       "  </thead>\n",
       "  <tbody>\n",
       "    <tr>\n",
       "      <th>0</th>\n",
       "      <td>1000</td>\n",
       "      <td>ultra</td>\n",
       "      <td>Краснодар</td>\n",
       "      <td>0</td>\n",
       "      <td>0</td>\n",
       "      <td>0</td>\n",
       "      <td>0</td>\n",
       "      <td>0</td>\n",
       "      <td>0</td>\n",
       "      <td>0</td>\n",
       "      <td>0</td>\n",
       "      <td>0</td>\n",
       "      <td>0</td>\n",
       "      <td>0</td>\n",
       "      <td>0</td>\n",
       "    </tr>\n",
       "    <tr>\n",
       "      <th>1</th>\n",
       "      <td>1001</td>\n",
       "      <td>smart</td>\n",
       "      <td>Москва</td>\n",
       "      <td>0</td>\n",
       "      <td>0</td>\n",
       "      <td>0</td>\n",
       "      <td>0</td>\n",
       "      <td>0</td>\n",
       "      <td>0</td>\n",
       "      <td>0</td>\n",
       "      <td>0</td>\n",
       "      <td>0</td>\n",
       "      <td>0</td>\n",
       "      <td>0</td>\n",
       "      <td>0</td>\n",
       "    </tr>\n",
       "    <tr>\n",
       "      <th>2</th>\n",
       "      <td>1002</td>\n",
       "      <td>smart</td>\n",
       "      <td>Стерлитамак</td>\n",
       "      <td>0</td>\n",
       "      <td>0</td>\n",
       "      <td>0</td>\n",
       "      <td>0</td>\n",
       "      <td>0</td>\n",
       "      <td>0</td>\n",
       "      <td>0</td>\n",
       "      <td>0</td>\n",
       "      <td>0</td>\n",
       "      <td>0</td>\n",
       "      <td>0</td>\n",
       "      <td>0</td>\n",
       "    </tr>\n",
       "    <tr>\n",
       "      <th>3</th>\n",
       "      <td>1003</td>\n",
       "      <td>ultra</td>\n",
       "      <td>Москва</td>\n",
       "      <td>0</td>\n",
       "      <td>0</td>\n",
       "      <td>0</td>\n",
       "      <td>0</td>\n",
       "      <td>0</td>\n",
       "      <td>0</td>\n",
       "      <td>0</td>\n",
       "      <td>0</td>\n",
       "      <td>0</td>\n",
       "      <td>0</td>\n",
       "      <td>0</td>\n",
       "      <td>0</td>\n",
       "    </tr>\n",
       "    <tr>\n",
       "      <th>4</th>\n",
       "      <td>1004</td>\n",
       "      <td>ultra</td>\n",
       "      <td>Новокузнецк</td>\n",
       "      <td>0</td>\n",
       "      <td>0</td>\n",
       "      <td>0</td>\n",
       "      <td>0</td>\n",
       "      <td>0</td>\n",
       "      <td>0</td>\n",
       "      <td>0</td>\n",
       "      <td>0</td>\n",
       "      <td>0</td>\n",
       "      <td>0</td>\n",
       "      <td>0</td>\n",
       "      <td>0</td>\n",
       "    </tr>\n",
       "    <tr>\n",
       "      <th>...</th>\n",
       "      <td>...</td>\n",
       "      <td>...</td>\n",
       "      <td>...</td>\n",
       "      <td>...</td>\n",
       "      <td>...</td>\n",
       "      <td>...</td>\n",
       "      <td>...</td>\n",
       "      <td>...</td>\n",
       "      <td>...</td>\n",
       "      <td>...</td>\n",
       "      <td>...</td>\n",
       "      <td>...</td>\n",
       "      <td>...</td>\n",
       "      <td>...</td>\n",
       "      <td>...</td>\n",
       "    </tr>\n",
       "    <tr>\n",
       "      <th>495</th>\n",
       "      <td>1495</td>\n",
       "      <td>ultra</td>\n",
       "      <td>Иркутск</td>\n",
       "      <td>0</td>\n",
       "      <td>0</td>\n",
       "      <td>0</td>\n",
       "      <td>0</td>\n",
       "      <td>0</td>\n",
       "      <td>0</td>\n",
       "      <td>0</td>\n",
       "      <td>0</td>\n",
       "      <td>0</td>\n",
       "      <td>0</td>\n",
       "      <td>0</td>\n",
       "      <td>0</td>\n",
       "    </tr>\n",
       "    <tr>\n",
       "      <th>496</th>\n",
       "      <td>1496</td>\n",
       "      <td>smart</td>\n",
       "      <td>Вологда</td>\n",
       "      <td>0</td>\n",
       "      <td>0</td>\n",
       "      <td>0</td>\n",
       "      <td>0</td>\n",
       "      <td>0</td>\n",
       "      <td>0</td>\n",
       "      <td>0</td>\n",
       "      <td>0</td>\n",
       "      <td>0</td>\n",
       "      <td>0</td>\n",
       "      <td>0</td>\n",
       "      <td>0</td>\n",
       "    </tr>\n",
       "    <tr>\n",
       "      <th>497</th>\n",
       "      <td>1497</td>\n",
       "      <td>smart</td>\n",
       "      <td>Челябинск</td>\n",
       "      <td>0</td>\n",
       "      <td>0</td>\n",
       "      <td>0</td>\n",
       "      <td>0</td>\n",
       "      <td>0</td>\n",
       "      <td>0</td>\n",
       "      <td>0</td>\n",
       "      <td>0</td>\n",
       "      <td>0</td>\n",
       "      <td>0</td>\n",
       "      <td>0</td>\n",
       "      <td>0</td>\n",
       "    </tr>\n",
       "    <tr>\n",
       "      <th>498</th>\n",
       "      <td>1498</td>\n",
       "      <td>smart</td>\n",
       "      <td>Владикавказ</td>\n",
       "      <td>0</td>\n",
       "      <td>0</td>\n",
       "      <td>0</td>\n",
       "      <td>0</td>\n",
       "      <td>0</td>\n",
       "      <td>0</td>\n",
       "      <td>0</td>\n",
       "      <td>0</td>\n",
       "      <td>0</td>\n",
       "      <td>0</td>\n",
       "      <td>0</td>\n",
       "      <td>0</td>\n",
       "    </tr>\n",
       "    <tr>\n",
       "      <th>499</th>\n",
       "      <td>1499</td>\n",
       "      <td>smart</td>\n",
       "      <td>Пермь</td>\n",
       "      <td>0</td>\n",
       "      <td>0</td>\n",
       "      <td>0</td>\n",
       "      <td>0</td>\n",
       "      <td>0</td>\n",
       "      <td>0</td>\n",
       "      <td>0</td>\n",
       "      <td>0</td>\n",
       "      <td>0</td>\n",
       "      <td>0</td>\n",
       "      <td>0</td>\n",
       "      <td>0</td>\n",
       "    </tr>\n",
       "  </tbody>\n",
       "</table>\n",
       "<p>500 rows × 15 columns</p>\n",
       "</div>"
      ],
      "text/plain": [
       "     user_id tariff         city  1  2  3  4  5  6  7  8  9  10  11  12\n",
       "0       1000  ultra    Краснодар  0  0  0  0  0  0  0  0  0   0   0   0\n",
       "1       1001  smart       Москва  0  0  0  0  0  0  0  0  0   0   0   0\n",
       "2       1002  smart  Стерлитамак  0  0  0  0  0  0  0  0  0   0   0   0\n",
       "3       1003  ultra       Москва  0  0  0  0  0  0  0  0  0   0   0   0\n",
       "4       1004  ultra  Новокузнецк  0  0  0  0  0  0  0  0  0   0   0   0\n",
       "..       ...    ...          ... .. .. .. .. .. .. .. .. ..  ..  ..  ..\n",
       "495     1495  ultra      Иркутск  0  0  0  0  0  0  0  0  0   0   0   0\n",
       "496     1496  smart      Вологда  0  0  0  0  0  0  0  0  0   0   0   0\n",
       "497     1497  smart    Челябинск  0  0  0  0  0  0  0  0  0   0   0   0\n",
       "498     1498  smart  Владикавказ  0  0  0  0  0  0  0  0  0   0   0   0\n",
       "499     1499  smart        Пермь  0  0  0  0  0  0  0  0  0   0   0   0\n",
       "\n",
       "[500 rows x 15 columns]"
      ]
     },
     "metadata": {},
     "output_type": "display_data"
    }
   ],
   "source": [
    "#Создание таблицы для записи выручки\n",
    "\n",
    "rub_month = data_users[['user_id', 'tariff', 'city']].copy()\n",
    "for i in range(1, 13):\n",
    "    rub_month[i] = 0\n",
    "display(rub_month)"
   ]
  },
  {
   "cell_type": "code",
   "execution_count": 11,
   "metadata": {},
   "outputs": [],
   "source": [
    "### Реализация подсчета выручки с помощью функции\n",
    "\n",
    "def income(value):\n",
    "    if value['tariff'] == 'smart':\n",
    "        if pd.isnull(data_users.loc[data_users['user_id'] == value['user_id']]['churn_date']).bool:\n",
    "            for i in range(list(data_users.loc[data_users['user_id'] == value['user_id']]['reg_date'])[0].month, 13):\n",
    "                value[i] += int(data_tariffs.loc[data_tariffs['tariff_name'] == 'smart']['rub_monthly_fee'])\n",
    "        else:\n",
    "            for i in range(list(data_users.loc[data_users['user_id'] == value['user_id']]['reg_date'])[0].month, \n",
    "                           list(data_users.loc[data_users['user_id'] == value['user_id']]['churn_date'])[0].month+1):\n",
    "                value[i] += int(data_tariffs.loc[data_tariffs['tariff_name'] == 'smart']['rub_monthly_fee'])\n",
    "        for j in range(1, 13):\n",
    "            try:\n",
    "                if int(call_month_sum.loc[value['user_id'], j] - data_tariffs.loc[data_tariffs['tariff_name'] == 'smart']['minutes_included']) > 0:\n",
    "                    value[j] += int((call_month_sum.loc[value['user_id'], j]\n",
    "                                  - data_tariffs.loc[data_tariffs['tariff_name'] == 'smart']['minutes_included'])\n",
    "                                 * data_tariffs.loc[data_tariffs['tariff_name'] == 'smart']['rub_per_minute'])\n",
    "                if int(msg_month.loc[value['user_id'], j] - data_tariffs.loc[data_tariffs['tariff_name'] == 'smart']['messages_included']) > 0:\n",
    "                    value[j] += int((msg_month.loc[value['user_id'], j] \n",
    "                                 - data_tariffs.loc[data_tariffs['tariff_name'] == 'smart']['messages_included'])\n",
    "                                * data_tariffs.loc[data_tariffs['tariff_name'] == 'smart']['rub_per_message'])\n",
    "                if int(inet_month.loc[value['user_id'], j] - data_tariffs.loc[data_tariffs['tariff_name'] == 'smart']['mb_per_month_included']/1024) > 0:\n",
    "                    value[j] += int((inet_month.loc[value['user_id'], j] \n",
    "                                  - data_tariffs.loc[data_tariffs['tariff_name'] == 'smart']['mb_per_month_included']/1024)\n",
    "                                 *data_tariffs.loc[data_tariffs['tariff_name'] == 'smart']['rub_per_gb'])\n",
    "            except: \n",
    "                break\n",
    "    elif value['tariff'] == 'ultra':\n",
    "        if pd.isnull(data_users.loc[data_users['user_id'] == value['user_id']]['churn_date']).bool:\n",
    "            for i in range(list(data_users.loc[data_users['user_id'] == value['user_id']]['reg_date'])[0].month, 13):\n",
    "                value[i] += int(data_tariffs.loc[data_tariffs['tariff_name'] == 'ultra']['rub_monthly_fee'])\n",
    "        else:\n",
    "            for i in range(list(data_users.loc[data_users['user_id'] == value['user_id']]['reg_date'])[0].month, \n",
    "                           list(data_users.loc[data_users['user_id'] == value['user_id']]['churn_date'])[0].month+1):\n",
    "                value[i] += int(data_tariffs.loc[data_tariffs['tariff_name'] == 'ultra']['rub_monthly_fee'])\n",
    "        for j in range(1, 13):\n",
    "            try:\n",
    "                if call_month_sum.loc[value['user_id'], j] - data_tariffs.loc[data_tariffs['tariff_name'] == 'ultra']['minutes_included'] > 0:\n",
    "                    value[j] += int((call_month_sum.loc[value['user_id'], j]\n",
    "                                  - data_tariffs.loc[data_tariffs['tariff_name'] == 'ultra']['minutes_included'])\n",
    "                                 * data_tariffs.loc[data_tariffs['tariff_name'] == 'ultra']['rub_per_minute'])\n",
    "                if msg_month.loc[value['user_id'], j] - data_tariffs.loc[data_tariffs['tariff_name'] == 'ultra']['messages_included'] > 0:\n",
    "                    value[j] += int((msg_month.loc[value['user_id'], j] \n",
    "                                  - data_tariffs.loc[data_tariffs['tariff_name'] == 'ultra']['messages_included'])\n",
    "                                 * data_tariffs.loc[data_tariffs['tariff_name'] == 'ultra']['rub_per_message'])\n",
    "                if int(inet_month.loc[value['user_id'], j] - data_tariffs.loc[data_tariffs['tariff_name'] == 'ultra']['mb_per_month_included']/1024) > 0:\n",
    "                    value[j] += int((inet_month.loc[value['user_id'], j] \n",
    "                                  - data_tariffs.loc[data_tariffs['tariff_name'] == 'ultra']['mb_per_month_included']/1024)\n",
    "                                 * data_tariffs.loc[data_tariffs['tariff_name'] == 'ultra']['rub_per_gb'])\n",
    "            except: \n",
    "                break\n",
    "    return value"
   ]
  },
  {
   "cell_type": "code",
   "execution_count": 12,
   "metadata": {},
   "outputs": [
    {
     "data": {
      "text/html": [
       "<div>\n",
       "<style scoped>\n",
       "    .dataframe tbody tr th:only-of-type {\n",
       "        vertical-align: middle;\n",
       "    }\n",
       "\n",
       "    .dataframe tbody tr th {\n",
       "        vertical-align: top;\n",
       "    }\n",
       "\n",
       "    .dataframe thead th {\n",
       "        text-align: right;\n",
       "    }\n",
       "</style>\n",
       "<table border=\"1\" class=\"dataframe\">\n",
       "  <thead>\n",
       "    <tr style=\"text-align: right;\">\n",
       "      <th></th>\n",
       "      <th>user_id</th>\n",
       "      <th>tariff</th>\n",
       "      <th>city</th>\n",
       "      <th>1</th>\n",
       "      <th>2</th>\n",
       "      <th>3</th>\n",
       "      <th>4</th>\n",
       "      <th>5</th>\n",
       "      <th>6</th>\n",
       "      <th>7</th>\n",
       "      <th>8</th>\n",
       "      <th>9</th>\n",
       "      <th>10</th>\n",
       "      <th>11</th>\n",
       "      <th>12</th>\n",
       "    </tr>\n",
       "  </thead>\n",
       "  <tbody>\n",
       "    <tr>\n",
       "      <th>0</th>\n",
       "      <td>1000</td>\n",
       "      <td>ultra</td>\n",
       "      <td>Краснодар</td>\n",
       "      <td>0</td>\n",
       "      <td>0</td>\n",
       "      <td>0</td>\n",
       "      <td>0</td>\n",
       "      <td>1950</td>\n",
       "      <td>1950</td>\n",
       "      <td>1950</td>\n",
       "      <td>1950</td>\n",
       "      <td>1950</td>\n",
       "      <td>1950</td>\n",
       "      <td>1950</td>\n",
       "      <td>1950</td>\n",
       "    </tr>\n",
       "    <tr>\n",
       "      <th>1</th>\n",
       "      <td>1001</td>\n",
       "      <td>smart</td>\n",
       "      <td>Москва</td>\n",
       "      <td>0</td>\n",
       "      <td>0</td>\n",
       "      <td>0</td>\n",
       "      <td>0</td>\n",
       "      <td>0</td>\n",
       "      <td>0</td>\n",
       "      <td>0</td>\n",
       "      <td>0</td>\n",
       "      <td>0</td>\n",
       "      <td>0</td>\n",
       "      <td>550</td>\n",
       "      <td>550</td>\n",
       "    </tr>\n",
       "    <tr>\n",
       "      <th>2</th>\n",
       "      <td>1002</td>\n",
       "      <td>smart</td>\n",
       "      <td>Стерлитамак</td>\n",
       "      <td>0</td>\n",
       "      <td>0</td>\n",
       "      <td>0</td>\n",
       "      <td>0</td>\n",
       "      <td>0</td>\n",
       "      <td>550</td>\n",
       "      <td>1150</td>\n",
       "      <td>1550</td>\n",
       "      <td>950</td>\n",
       "      <td>550</td>\n",
       "      <td>1350</td>\n",
       "      <td>1150</td>\n",
       "    </tr>\n",
       "    <tr>\n",
       "      <th>3</th>\n",
       "      <td>1003</td>\n",
       "      <td>ultra</td>\n",
       "      <td>Москва</td>\n",
       "      <td>0</td>\n",
       "      <td>0</td>\n",
       "      <td>0</td>\n",
       "      <td>0</td>\n",
       "      <td>0</td>\n",
       "      <td>0</td>\n",
       "      <td>0</td>\n",
       "      <td>1950</td>\n",
       "      <td>1950</td>\n",
       "      <td>1950</td>\n",
       "      <td>1950</td>\n",
       "      <td>1950</td>\n",
       "    </tr>\n",
       "    <tr>\n",
       "      <th>4</th>\n",
       "      <td>1004</td>\n",
       "      <td>ultra</td>\n",
       "      <td>Новокузнецк</td>\n",
       "      <td>0</td>\n",
       "      <td>0</td>\n",
       "      <td>0</td>\n",
       "      <td>0</td>\n",
       "      <td>1950</td>\n",
       "      <td>1950</td>\n",
       "      <td>1950</td>\n",
       "      <td>1950</td>\n",
       "      <td>1950</td>\n",
       "      <td>1950</td>\n",
       "      <td>1950</td>\n",
       "      <td>1950</td>\n",
       "    </tr>\n",
       "    <tr>\n",
       "      <th>...</th>\n",
       "      <td>...</td>\n",
       "      <td>...</td>\n",
       "      <td>...</td>\n",
       "      <td>...</td>\n",
       "      <td>...</td>\n",
       "      <td>...</td>\n",
       "      <td>...</td>\n",
       "      <td>...</td>\n",
       "      <td>...</td>\n",
       "      <td>...</td>\n",
       "      <td>...</td>\n",
       "      <td>...</td>\n",
       "      <td>...</td>\n",
       "      <td>...</td>\n",
       "      <td>...</td>\n",
       "    </tr>\n",
       "    <tr>\n",
       "      <th>495</th>\n",
       "      <td>1495</td>\n",
       "      <td>ultra</td>\n",
       "      <td>Иркутск</td>\n",
       "      <td>0</td>\n",
       "      <td>0</td>\n",
       "      <td>0</td>\n",
       "      <td>0</td>\n",
       "      <td>0</td>\n",
       "      <td>0</td>\n",
       "      <td>0</td>\n",
       "      <td>1950</td>\n",
       "      <td>1950</td>\n",
       "      <td>1950</td>\n",
       "      <td>1950</td>\n",
       "      <td>1950</td>\n",
       "    </tr>\n",
       "    <tr>\n",
       "      <th>496</th>\n",
       "      <td>1496</td>\n",
       "      <td>smart</td>\n",
       "      <td>Вологда</td>\n",
       "      <td>550</td>\n",
       "      <td>3432</td>\n",
       "      <td>2721</td>\n",
       "      <td>1813</td>\n",
       "      <td>2350</td>\n",
       "      <td>1715</td>\n",
       "      <td>2596</td>\n",
       "      <td>2231</td>\n",
       "      <td>2950</td>\n",
       "      <td>3150</td>\n",
       "      <td>3036</td>\n",
       "      <td>1807</td>\n",
       "    </tr>\n",
       "    <tr>\n",
       "      <th>497</th>\n",
       "      <td>1497</td>\n",
       "      <td>smart</td>\n",
       "      <td>Челябинск</td>\n",
       "      <td>0</td>\n",
       "      <td>0</td>\n",
       "      <td>0</td>\n",
       "      <td>0</td>\n",
       "      <td>0</td>\n",
       "      <td>0</td>\n",
       "      <td>0</td>\n",
       "      <td>0</td>\n",
       "      <td>0</td>\n",
       "      <td>550</td>\n",
       "      <td>550</td>\n",
       "      <td>1685</td>\n",
       "    </tr>\n",
       "    <tr>\n",
       "      <th>498</th>\n",
       "      <td>1498</td>\n",
       "      <td>smart</td>\n",
       "      <td>Владикавказ</td>\n",
       "      <td>0</td>\n",
       "      <td>0</td>\n",
       "      <td>0</td>\n",
       "      <td>0</td>\n",
       "      <td>0</td>\n",
       "      <td>0</td>\n",
       "      <td>550</td>\n",
       "      <td>2386</td>\n",
       "      <td>1950</td>\n",
       "      <td>1750</td>\n",
       "      <td>550</td>\n",
       "      <td>550</td>\n",
       "    </tr>\n",
       "    <tr>\n",
       "      <th>499</th>\n",
       "      <td>1499</td>\n",
       "      <td>smart</td>\n",
       "      <td>Пермь</td>\n",
       "      <td>0</td>\n",
       "      <td>0</td>\n",
       "      <td>0</td>\n",
       "      <td>0</td>\n",
       "      <td>0</td>\n",
       "      <td>0</td>\n",
       "      <td>0</td>\n",
       "      <td>0</td>\n",
       "      <td>550</td>\n",
       "      <td>1150</td>\n",
       "      <td>1513</td>\n",
       "      <td>598</td>\n",
       "    </tr>\n",
       "  </tbody>\n",
       "</table>\n",
       "<p>500 rows × 15 columns</p>\n",
       "</div>"
      ],
      "text/plain": [
       "     user_id tariff         city    1     2     3     4     5     6     7  \\\n",
       "0       1000  ultra    Краснодар    0     0     0     0  1950  1950  1950   \n",
       "1       1001  smart       Москва    0     0     0     0     0     0     0   \n",
       "2       1002  smart  Стерлитамак    0     0     0     0     0   550  1150   \n",
       "3       1003  ultra       Москва    0     0     0     0     0     0     0   \n",
       "4       1004  ultra  Новокузнецк    0     0     0     0  1950  1950  1950   \n",
       "..       ...    ...          ...  ...   ...   ...   ...   ...   ...   ...   \n",
       "495     1495  ultra      Иркутск    0     0     0     0     0     0     0   \n",
       "496     1496  smart      Вологда  550  3432  2721  1813  2350  1715  2596   \n",
       "497     1497  smart    Челябинск    0     0     0     0     0     0     0   \n",
       "498     1498  smart  Владикавказ    0     0     0     0     0     0   550   \n",
       "499     1499  smart        Пермь    0     0     0     0     0     0     0   \n",
       "\n",
       "        8     9    10    11    12  \n",
       "0    1950  1950  1950  1950  1950  \n",
       "1       0     0     0   550   550  \n",
       "2    1550   950   550  1350  1150  \n",
       "3    1950  1950  1950  1950  1950  \n",
       "4    1950  1950  1950  1950  1950  \n",
       "..    ...   ...   ...   ...   ...  \n",
       "495  1950  1950  1950  1950  1950  \n",
       "496  2231  2950  3150  3036  1807  \n",
       "497     0     0   550   550  1685  \n",
       "498  2386  1950  1750   550   550  \n",
       "499     0   550  1150  1513   598  \n",
       "\n",
       "[500 rows x 15 columns]"
      ]
     },
     "execution_count": 12,
     "metadata": {},
     "output_type": "execute_result"
    }
   ],
   "source": [
    "rub_month = rub_month.apply(income, axis=1)\n",
    "rub_month"
   ]
  },
  {
   "cell_type": "markdown",
   "metadata": {},
   "source": [
    "<b>Вывод</b>\n",
    "\n",
    "- Исправлены найденные ошибки\n",
    "- Созданы таблицы с помесячной информации о звонках, сообщениях, интернет трафике и выручке"
   ]
  },
  {
   "cell_type": "markdown",
   "metadata": {},
   "source": [
    "## Анализ данных"
   ]
  },
  {
   "cell_type": "markdown",
   "metadata": {},
   "source": [
    "### Сколько минут разговора, сколько сообщений и какой объём интернет-трафика требуется пользователям каждого тарифа в месяц?"
   ]
  },
  {
   "cell_type": "code",
   "execution_count": 13,
   "metadata": {},
   "outputs": [
    {
     "name": "stdout",
     "output_type": "stream",
     "text": [
      "Информация о пользователях тарифа \"smart\" по месяцам\n"
     ]
    },
    {
     "data": {
      "text/html": [
       "<div>\n",
       "<style scoped>\n",
       "    .dataframe tbody tr th:only-of-type {\n",
       "        vertical-align: middle;\n",
       "    }\n",
       "\n",
       "    .dataframe tbody tr th {\n",
       "        vertical-align: top;\n",
       "    }\n",
       "\n",
       "    .dataframe thead th {\n",
       "        text-align: right;\n",
       "    }\n",
       "</style>\n",
       "<table border=\"1\" class=\"dataframe\">\n",
       "  <thead>\n",
       "    <tr style=\"text-align: right;\">\n",
       "      <th></th>\n",
       "      <th>month</th>\n",
       "      <th>calls</th>\n",
       "      <th>messages</th>\n",
       "      <th>internet</th>\n",
       "    </tr>\n",
       "  </thead>\n",
       "  <tbody>\n",
       "    <tr>\n",
       "      <th>0</th>\n",
       "      <td>1</td>\n",
       "      <td>6931</td>\n",
       "      <td>620</td>\n",
       "      <td>297</td>\n",
       "    </tr>\n",
       "    <tr>\n",
       "      <th>1</th>\n",
       "      <td>2</td>\n",
       "      <td>17324</td>\n",
       "      <td>1397</td>\n",
       "      <td>687</td>\n",
       "    </tr>\n",
       "    <tr>\n",
       "      <th>2</th>\n",
       "      <td>3</td>\n",
       "      <td>30034</td>\n",
       "      <td>2453</td>\n",
       "      <td>1173</td>\n",
       "    </tr>\n",
       "    <tr>\n",
       "      <th>3</th>\n",
       "      <td>4</td>\n",
       "      <td>41119</td>\n",
       "      <td>3443</td>\n",
       "      <td>1526</td>\n",
       "    </tr>\n",
       "    <tr>\n",
       "      <th>4</th>\n",
       "      <td>5</td>\n",
       "      <td>54618</td>\n",
       "      <td>4762</td>\n",
       "      <td>2243</td>\n",
       "    </tr>\n",
       "    <tr>\n",
       "      <th>5</th>\n",
       "      <td>6</td>\n",
       "      <td>64885</td>\n",
       "      <td>5478</td>\n",
       "      <td>2616</td>\n",
       "    </tr>\n",
       "    <tr>\n",
       "      <th>6</th>\n",
       "      <td>7</td>\n",
       "      <td>82079</td>\n",
       "      <td>6784</td>\n",
       "      <td>3191</td>\n",
       "    </tr>\n",
       "    <tr>\n",
       "      <th>7</th>\n",
       "      <td>8</td>\n",
       "      <td>99045</td>\n",
       "      <td>7905</td>\n",
       "      <td>3933</td>\n",
       "    </tr>\n",
       "    <tr>\n",
       "      <th>8</th>\n",
       "      <td>9</td>\n",
       "      <td>111439</td>\n",
       "      <td>8746</td>\n",
       "      <td>4262</td>\n",
       "    </tr>\n",
       "    <tr>\n",
       "      <th>9</th>\n",
       "      <td>10</td>\n",
       "      <td>125284</td>\n",
       "      <td>9927</td>\n",
       "      <td>4963</td>\n",
       "    </tr>\n",
       "    <tr>\n",
       "      <th>10</th>\n",
       "      <td>11</td>\n",
       "      <td>137544</td>\n",
       "      <td>10768</td>\n",
       "      <td>5372</td>\n",
       "    </tr>\n",
       "    <tr>\n",
       "      <th>11</th>\n",
       "      <td>12</td>\n",
       "      <td>161275</td>\n",
       "      <td>12130</td>\n",
       "      <td>6134</td>\n",
       "    </tr>\n",
       "  </tbody>\n",
       "</table>\n",
       "</div>"
      ],
      "text/plain": [
       "    month   calls messages internet\n",
       "0       1    6931      620      297\n",
       "1       2   17324     1397      687\n",
       "2       3   30034     2453     1173\n",
       "3       4   41119     3443     1526\n",
       "4       5   54618     4762     2243\n",
       "5       6   64885     5478     2616\n",
       "6       7   82079     6784     3191\n",
       "7       8   99045     7905     3933\n",
       "8       9  111439     8746     4262\n",
       "9      10  125284     9927     4963\n",
       "10     11  137544    10768     5372\n",
       "11     12  161275    12130     6134"
      ]
     },
     "metadata": {},
     "output_type": "display_data"
    },
    {
     "name": "stdout",
     "output_type": "stream",
     "text": [
      "Информация о пользователях тарифа \"ultra\" по месяцам\n"
     ]
    },
    {
     "data": {
      "text/html": [
       "<div>\n",
       "<style scoped>\n",
       "    .dataframe tbody tr th:only-of-type {\n",
       "        vertical-align: middle;\n",
       "    }\n",
       "\n",
       "    .dataframe tbody tr th {\n",
       "        vertical-align: top;\n",
       "    }\n",
       "\n",
       "    .dataframe thead th {\n",
       "        text-align: right;\n",
       "    }\n",
       "</style>\n",
       "<table border=\"1\" class=\"dataframe\">\n",
       "  <thead>\n",
       "    <tr style=\"text-align: right;\">\n",
       "      <th></th>\n",
       "      <th>month</th>\n",
       "      <th>calls</th>\n",
       "      <th>messages</th>\n",
       "      <th>internet</th>\n",
       "    </tr>\n",
       "  </thead>\n",
       "  <tbody>\n",
       "    <tr>\n",
       "      <th>0</th>\n",
       "      <td>1</td>\n",
       "      <td>3853</td>\n",
       "      <td>304</td>\n",
       "      <td>119</td>\n",
       "    </tr>\n",
       "    <tr>\n",
       "      <th>1</th>\n",
       "      <td>2</td>\n",
       "      <td>7131</td>\n",
       "      <td>527</td>\n",
       "      <td>288</td>\n",
       "    </tr>\n",
       "    <tr>\n",
       "      <th>2</th>\n",
       "      <td>3</td>\n",
       "      <td>18117</td>\n",
       "      <td>1195</td>\n",
       "      <td>653</td>\n",
       "    </tr>\n",
       "    <tr>\n",
       "      <th>3</th>\n",
       "      <td>4</td>\n",
       "      <td>25191</td>\n",
       "      <td>1736</td>\n",
       "      <td>933</td>\n",
       "    </tr>\n",
       "    <tr>\n",
       "      <th>4</th>\n",
       "      <td>5</td>\n",
       "      <td>34192</td>\n",
       "      <td>2536</td>\n",
       "      <td>1298</td>\n",
       "    </tr>\n",
       "    <tr>\n",
       "      <th>5</th>\n",
       "      <td>6</td>\n",
       "      <td>40295</td>\n",
       "      <td>3505</td>\n",
       "      <td>1591</td>\n",
       "    </tr>\n",
       "    <tr>\n",
       "      <th>6</th>\n",
       "      <td>7</td>\n",
       "      <td>49667</td>\n",
       "      <td>4536</td>\n",
       "      <td>1866</td>\n",
       "    </tr>\n",
       "    <tr>\n",
       "      <th>7</th>\n",
       "      <td>8</td>\n",
       "      <td>54653</td>\n",
       "      <td>5183</td>\n",
       "      <td>2097</td>\n",
       "    </tr>\n",
       "    <tr>\n",
       "      <th>8</th>\n",
       "      <td>9</td>\n",
       "      <td>62036</td>\n",
       "      <td>6013</td>\n",
       "      <td>2213</td>\n",
       "    </tr>\n",
       "    <tr>\n",
       "      <th>9</th>\n",
       "      <td>10</td>\n",
       "      <td>68644</td>\n",
       "      <td>7187</td>\n",
       "      <td>2468</td>\n",
       "    </tr>\n",
       "    <tr>\n",
       "      <th>10</th>\n",
       "      <td>11</td>\n",
       "      <td>72545</td>\n",
       "      <td>7476</td>\n",
       "      <td>2654</td>\n",
       "    </tr>\n",
       "    <tr>\n",
       "      <th>11</th>\n",
       "      <td>12</td>\n",
       "      <td>82400</td>\n",
       "      <td>8425</td>\n",
       "      <td>3022</td>\n",
       "    </tr>\n",
       "  </tbody>\n",
       "</table>\n",
       "</div>"
      ],
      "text/plain": [
       "    month  calls messages internet\n",
       "0       1   3853      304      119\n",
       "1       2   7131      527      288\n",
       "2       3  18117     1195      653\n",
       "3       4  25191     1736      933\n",
       "4       5  34192     2536     1298\n",
       "5       6  40295     3505     1591\n",
       "6       7  49667     4536     1866\n",
       "7       8  54653     5183     2097\n",
       "8       9  62036     6013     2213\n",
       "9      10  68644     7187     2468\n",
       "10     11  72545     7476     2654\n",
       "11     12  82400     8425     3022"
      ]
     },
     "metadata": {},
     "output_type": "display_data"
    }
   ],
   "source": [
    "#Создание основных таблиц и вспомогательных переменных\n",
    "\n",
    "month = list(range(1, 13))\n",
    "columns = ['calls', 'messages', 'internet']\n",
    "smart = pd.DataFrame(columns=columns)\n",
    "smart.insert(0, 'month', month)\n",
    "ultra = pd.DataFrame(columns=columns)\n",
    "ultra.insert(0, 'month', month)\n",
    "tables = [call_month_sum, msg_month, inet_month]\n",
    "\n",
    "#Для каждого пользователя в таблицах в списке tables устанавливаем его тариф\n",
    "for value in tables:\n",
    "    tariff = []\n",
    "    for i in list(value.index):\n",
    "        if 'smart' in str(data_users.loc[data_users['user_id'] == i]['tariff']):\n",
    "            tariff.append('smart')\n",
    "        elif 'ultra' in str(data_users.loc[data_users['user_id'] == i]['tariff']):\n",
    "            tariff.append('ultra')\n",
    "    value['tariff'] = tariff\n",
    "\n",
    "#Подсчёт сколько минут разговора, сколько сообщений \n",
    "#и какой объём интернет-трафика требуется пользователям каждого тарифа в месяц\n",
    "for i in range(len(tables)):\n",
    "    for j in range(1, 13):\n",
    "        smart.loc[j-1, columns[i]] = tables[i].loc[tables[i]['tariff'] == 'smart'][j].sum()\n",
    "for i in range(len(tables)):\n",
    "    for j in range(1, 13):\n",
    "        ultra.loc[j-1, columns[i]] = tables[i].loc[tables[i]['tariff'] == 'ultra'][j].sum()        \n",
    "\n",
    "print('Информация о пользователях тарифа \"smart\" по месяцам')\n",
    "display(smart)\n",
    "print('Информация о пользователях тарифа \"ultra\" по месяцам')\n",
    "display(ultra)"
   ]
  },
  {
   "cell_type": "code",
   "execution_count": 14,
   "metadata": {},
   "outputs": [
    {
     "name": "stdout",
     "output_type": "stream",
     "text": [
      "Количество пользователей тарифа \"smart\": 351\n",
      "Количество пользователей тарифа \"ultra\": 149\n"
     ]
    }
   ],
   "source": [
    "smart_count_users = data_users.loc[data_users['tariff'] == 'smart']['user_id'].count()\n",
    "ultra_count_users = data_users.loc[data_users['tariff'] == 'ultra']['user_id'].count()\n",
    "\n",
    "\n",
    "print('Количество пользователей тарифа \"smart\":', smart_count_users)\n",
    "print('Количество пользователей тарифа \"ultra\":', ultra_count_users)"
   ]
  },
  {
   "cell_type": "markdown",
   "metadata": {},
   "source": [
    "Пользователи тарифа \"smart\" расходуют в 1.5-2 раза больше интернет трафика, сообщений и минут звонков, чем пользователи тарифа \"ultra\". Наиболее вероятно это из-за того, что пользователей тарифа \"smart\" больше в 2.3 раза, посмотрим на расходы \"среднестатистического пользователя\" каждого тарифа"
   ]
  },
  {
   "cell_type": "code",
   "execution_count": 15,
   "metadata": {},
   "outputs": [
    {
     "name": "stdout",
     "output_type": "stream",
     "text": [
      "Информация о пользователях тарифа \"smart\" по месяцам\n"
     ]
    },
    {
     "data": {
      "text/html": [
       "<div>\n",
       "<style scoped>\n",
       "    .dataframe tbody tr th:only-of-type {\n",
       "        vertical-align: middle;\n",
       "    }\n",
       "\n",
       "    .dataframe tbody tr th {\n",
       "        vertical-align: top;\n",
       "    }\n",
       "\n",
       "    .dataframe thead th {\n",
       "        text-align: right;\n",
       "    }\n",
       "</style>\n",
       "<table border=\"1\" class=\"dataframe\">\n",
       "  <thead>\n",
       "    <tr style=\"text-align: right;\">\n",
       "      <th></th>\n",
       "      <th>month</th>\n",
       "      <th>calls</th>\n",
       "      <th>messages</th>\n",
       "      <th>internet</th>\n",
       "    </tr>\n",
       "  </thead>\n",
       "  <tbody>\n",
       "    <tr>\n",
       "      <th>0</th>\n",
       "      <td>1</td>\n",
       "      <td>19.75</td>\n",
       "      <td>1.77</td>\n",
       "      <td>0.85</td>\n",
       "    </tr>\n",
       "    <tr>\n",
       "      <th>1</th>\n",
       "      <td>2</td>\n",
       "      <td>49.36</td>\n",
       "      <td>3.98</td>\n",
       "      <td>1.96</td>\n",
       "    </tr>\n",
       "    <tr>\n",
       "      <th>2</th>\n",
       "      <td>3</td>\n",
       "      <td>85.57</td>\n",
       "      <td>6.99</td>\n",
       "      <td>3.34</td>\n",
       "    </tr>\n",
       "    <tr>\n",
       "      <th>3</th>\n",
       "      <td>4</td>\n",
       "      <td>117.15</td>\n",
       "      <td>9.81</td>\n",
       "      <td>4.35</td>\n",
       "    </tr>\n",
       "    <tr>\n",
       "      <th>4</th>\n",
       "      <td>5</td>\n",
       "      <td>155.61</td>\n",
       "      <td>13.57</td>\n",
       "      <td>6.39</td>\n",
       "    </tr>\n",
       "    <tr>\n",
       "      <th>5</th>\n",
       "      <td>6</td>\n",
       "      <td>184.86</td>\n",
       "      <td>15.61</td>\n",
       "      <td>7.45</td>\n",
       "    </tr>\n",
       "    <tr>\n",
       "      <th>6</th>\n",
       "      <td>7</td>\n",
       "      <td>233.84</td>\n",
       "      <td>19.33</td>\n",
       "      <td>9.09</td>\n",
       "    </tr>\n",
       "    <tr>\n",
       "      <th>7</th>\n",
       "      <td>8</td>\n",
       "      <td>282.18</td>\n",
       "      <td>22.52</td>\n",
       "      <td>11.21</td>\n",
       "    </tr>\n",
       "    <tr>\n",
       "      <th>8</th>\n",
       "      <td>9</td>\n",
       "      <td>317.49</td>\n",
       "      <td>24.92</td>\n",
       "      <td>12.14</td>\n",
       "    </tr>\n",
       "    <tr>\n",
       "      <th>9</th>\n",
       "      <td>10</td>\n",
       "      <td>356.93</td>\n",
       "      <td>28.28</td>\n",
       "      <td>14.14</td>\n",
       "    </tr>\n",
       "    <tr>\n",
       "      <th>10</th>\n",
       "      <td>11</td>\n",
       "      <td>391.86</td>\n",
       "      <td>30.68</td>\n",
       "      <td>15.3</td>\n",
       "    </tr>\n",
       "    <tr>\n",
       "      <th>11</th>\n",
       "      <td>12</td>\n",
       "      <td>459.47</td>\n",
       "      <td>34.56</td>\n",
       "      <td>17.48</td>\n",
       "    </tr>\n",
       "  </tbody>\n",
       "</table>\n",
       "</div>"
      ],
      "text/plain": [
       "    month   calls messages internet\n",
       "0       1   19.75     1.77     0.85\n",
       "1       2   49.36     3.98     1.96\n",
       "2       3   85.57     6.99     3.34\n",
       "3       4  117.15     9.81     4.35\n",
       "4       5  155.61    13.57     6.39\n",
       "5       6  184.86    15.61     7.45\n",
       "6       7  233.84    19.33     9.09\n",
       "7       8  282.18    22.52    11.21\n",
       "8       9  317.49    24.92    12.14\n",
       "9      10  356.93    28.28    14.14\n",
       "10     11  391.86    30.68     15.3\n",
       "11     12  459.47    34.56    17.48"
      ]
     },
     "metadata": {},
     "output_type": "display_data"
    },
    {
     "name": "stdout",
     "output_type": "stream",
     "text": [
      "Информация о пользователях тарифа \"ultra\" по месяцам\n"
     ]
    },
    {
     "data": {
      "text/html": [
       "<div>\n",
       "<style scoped>\n",
       "    .dataframe tbody tr th:only-of-type {\n",
       "        vertical-align: middle;\n",
       "    }\n",
       "\n",
       "    .dataframe tbody tr th {\n",
       "        vertical-align: top;\n",
       "    }\n",
       "\n",
       "    .dataframe thead th {\n",
       "        text-align: right;\n",
       "    }\n",
       "</style>\n",
       "<table border=\"1\" class=\"dataframe\">\n",
       "  <thead>\n",
       "    <tr style=\"text-align: right;\">\n",
       "      <th></th>\n",
       "      <th>month</th>\n",
       "      <th>calls</th>\n",
       "      <th>messages</th>\n",
       "      <th>internet</th>\n",
       "    </tr>\n",
       "  </thead>\n",
       "  <tbody>\n",
       "    <tr>\n",
       "      <th>0</th>\n",
       "      <td>1</td>\n",
       "      <td>25.86</td>\n",
       "      <td>2.04</td>\n",
       "      <td>0.8</td>\n",
       "    </tr>\n",
       "    <tr>\n",
       "      <th>1</th>\n",
       "      <td>2</td>\n",
       "      <td>47.86</td>\n",
       "      <td>3.54</td>\n",
       "      <td>1.93</td>\n",
       "    </tr>\n",
       "    <tr>\n",
       "      <th>2</th>\n",
       "      <td>3</td>\n",
       "      <td>121.59</td>\n",
       "      <td>8.02</td>\n",
       "      <td>4.38</td>\n",
       "    </tr>\n",
       "    <tr>\n",
       "      <th>3</th>\n",
       "      <td>4</td>\n",
       "      <td>169.07</td>\n",
       "      <td>11.65</td>\n",
       "      <td>6.26</td>\n",
       "    </tr>\n",
       "    <tr>\n",
       "      <th>4</th>\n",
       "      <td>5</td>\n",
       "      <td>229.48</td>\n",
       "      <td>17.02</td>\n",
       "      <td>8.71</td>\n",
       "    </tr>\n",
       "    <tr>\n",
       "      <th>5</th>\n",
       "      <td>6</td>\n",
       "      <td>270.44</td>\n",
       "      <td>23.52</td>\n",
       "      <td>10.68</td>\n",
       "    </tr>\n",
       "    <tr>\n",
       "      <th>6</th>\n",
       "      <td>7</td>\n",
       "      <td>333.34</td>\n",
       "      <td>30.44</td>\n",
       "      <td>12.52</td>\n",
       "    </tr>\n",
       "    <tr>\n",
       "      <th>7</th>\n",
       "      <td>8</td>\n",
       "      <td>366.8</td>\n",
       "      <td>34.79</td>\n",
       "      <td>14.07</td>\n",
       "    </tr>\n",
       "    <tr>\n",
       "      <th>8</th>\n",
       "      <td>9</td>\n",
       "      <td>416.35</td>\n",
       "      <td>40.36</td>\n",
       "      <td>14.85</td>\n",
       "    </tr>\n",
       "    <tr>\n",
       "      <th>9</th>\n",
       "      <td>10</td>\n",
       "      <td>460.7</td>\n",
       "      <td>48.23</td>\n",
       "      <td>16.56</td>\n",
       "    </tr>\n",
       "    <tr>\n",
       "      <th>10</th>\n",
       "      <td>11</td>\n",
       "      <td>486.88</td>\n",
       "      <td>50.17</td>\n",
       "      <td>17.81</td>\n",
       "    </tr>\n",
       "    <tr>\n",
       "      <th>11</th>\n",
       "      <td>12</td>\n",
       "      <td>553.02</td>\n",
       "      <td>56.54</td>\n",
       "      <td>20.28</td>\n",
       "    </tr>\n",
       "  </tbody>\n",
       "</table>\n",
       "</div>"
      ],
      "text/plain": [
       "    month   calls messages internet\n",
       "0       1   25.86     2.04      0.8\n",
       "1       2   47.86     3.54     1.93\n",
       "2       3  121.59     8.02     4.38\n",
       "3       4  169.07    11.65     6.26\n",
       "4       5  229.48    17.02     8.71\n",
       "5       6  270.44    23.52    10.68\n",
       "6       7  333.34    30.44    12.52\n",
       "7       8   366.8    34.79    14.07\n",
       "8       9  416.35    40.36    14.85\n",
       "9      10   460.7    48.23    16.56\n",
       "10     11  486.88    50.17    17.81\n",
       "11     12  553.02    56.54    20.28"
      ]
     },
     "metadata": {},
     "output_type": "display_data"
    }
   ],
   "source": [
    "for i in smart.index:\n",
    "    smart.loc[i, 'calls'] = round(smart.loc[i, 'calls'] / smart_count_users, 2)\n",
    "    smart.loc[i, 'messages'] = round(smart.loc[i, 'messages'] / smart_count_users, 2)\n",
    "    smart.loc[i, 'internet'] = round(smart.loc[i, 'internet'] / smart_count_users, 2)\n",
    "    ultra.loc[i, 'calls'] = round(ultra.loc[i, 'calls'] / ultra_count_users, 2)\n",
    "    ultra.loc[i, 'messages'] = round(ultra.loc[i, 'messages'] / ultra_count_users, 2)\n",
    "    ultra.loc[i, 'internet'] = round(ultra.loc[i, 'internet'] / ultra_count_users, 2)\n",
    "    \n",
    "print('Информация о пользователях тарифа \"smart\" по месяцам')\n",
    "display(smart)\n",
    "print('Информация о пользователях тарифа \"ultra\" по месяцам')\n",
    "display(ultra)"
   ]
  },
  {
   "cell_type": "code",
   "execution_count": 16,
   "metadata": {},
   "outputs": [
    {
     "data": {
      "image/png": "[encoded data removed]",
      "text/plain": [
       "<Figure size 1440x576 with 1 Axes>"
      ]
     },
     "metadata": {
      "needs_background": "light"
     },
     "output_type": "display_data"
    }
   ],
   "source": [
    "barWidth1 = 1\n",
    "barWidth2 = 0.5\n",
    "x_range = list(smart['month'])\n",
    "\n",
    "plt.figure(figsize=(20, 8))\n",
    "\n",
    "plt.bar(smart['month'], smart['calls'], color='#aae6f2', width=barWidth1/2, edgecolor='#c3d5e8', label='Клиенты Smart')\n",
    "plt.bar(smart['month'], ultra['calls'], color='#ffc001', width=barWidth2/2, edgecolor='#c3d5e8', label='Клиенты Ultra')\n",
    "\n",
    "plt.axhline(y=0, color='gray')\n",
    "plt.legend(frameon=False, loc='lower center', bbox_to_anchor=(0.25, -0.3, 0.5, 0.5), prop={'size':25}, ncol = 2)\n",
    "plt.gca().set(title='Затраты минут звонков пользователей по месяцам', ylabel='Затраты', xlabel='Месяц')\n",
    "\n",
    "\n",
    "plt.rcParams['figure.figsize'] = [25, 7]\n",
    "\n",
    "plt.rcParams.update({'font.size': 14})    \n",
    "plt.box(False)\n",
    "plt.savefig('plt', bbox_inches = \"tight\")\n",
    "plt.show()"
   ]
  },
  {
   "cell_type": "code",
   "execution_count": 17,
   "metadata": {},
   "outputs": [
    {
     "data": {
      "image/png": "[encoded data removed]",
      "text/plain": [
       "<Figure size 1440x576 with 1 Axes>"
      ]
     },
     "metadata": {
      "needs_background": "light"
     },
     "output_type": "display_data"
    }
   ],
   "source": [
    "barWidth1 = 1\n",
    "barWidth2 = 0.5\n",
    "x_range = list(smart['month'])\n",
    "\n",
    "plt.figure(figsize=(20, 8))\n",
    "\n",
    "plt.bar(smart['month'], smart['messages'], color='#aae6f2', width=barWidth1/2, edgecolor='#c3d5e8', label='Клиенты Smart')\n",
    "plt.bar(smart['month'], ultra['messages'], color='#ffc001', width=barWidth2/2, edgecolor='#c3d5e8', label='Клиенты Ultra')\n",
    "\n",
    "plt.axhline(y=0, color='gray')\n",
    "plt.legend(frameon=False, loc='lower center', bbox_to_anchor=(0.25, -0.3, 0.5, 0.5), prop={'size':25}, ncol = 2)\n",
    "plt.gca().set(title='Затраты сообщений пользователей по месяцам', ylabel='Затраты', xlabel='Месяц')\n",
    "\n",
    "\n",
    "plt.rcParams['figure.figsize'] = [25, 7]\n",
    "\n",
    "plt.rcParams.update({'font.size': 14})    \n",
    "plt.box(False)\n",
    "plt.savefig('plt', bbox_inches = \"tight\")\n",
    "plt.show()"
   ]
  },
  {
   "cell_type": "code",
   "execution_count": 18,
   "metadata": {},
   "outputs": [
    {
     "data": {
      "image/png": "[encoded data removed]",
      "text/plain": [
       "<Figure size 1440x576 with 1 Axes>"
      ]
     },
     "metadata": {
      "needs_background": "light"
     },
     "output_type": "display_data"
    }
   ],
   "source": [
    "barWidth1 = 1\n",
    "barWidth2 = 0.5\n",
    "x_range = list(smart['month'])\n",
    "\n",
    "plt.figure(figsize=(20, 8))\n",
    "\n",
    "plt.bar(smart['month'], smart['internet'], color='#aae6f2', width=barWidth1/2, edgecolor='#c3d5e8', label='Клиенты Smart')\n",
    "plt.bar(smart['month'], ultra['internet'], color='#ffc001', width=barWidth2/2, edgecolor='#c3d5e8', label='Клиенты Ultra')\n",
    "\n",
    "plt.axhline(y=0, color='gray')\n",
    "plt.legend(frameon=False, loc='lower center', bbox_to_anchor=(0.25, -0.3, 0.5, 0.5), prop={'size':25}, ncol = 2)\n",
    "plt.gca().set(title='Затраты сообщений пользователей по месяцам', ylabel='Затраты', xlabel='Месяц')\n",
    "\n",
    "\n",
    "plt.rcParams['figure.figsize'] = [25, 7]\n",
    "\n",
    "plt.rcParams.update({'font.size': 14})    \n",
    "plt.box(False)\n",
    "plt.savefig('plt', bbox_inches = \"tight\")\n",
    "plt.show()"
   ]
  },
  {
   "cell_type": "markdown",
   "metadata": {},
   "source": [
    "<b> Вывод </b>\n",
    "\n",
    "В среднем клиенты ultra имеют затраты немного больше, чем клиенты smart"
   ]
  },
  {
   "cell_type": "markdown",
   "metadata": {},
   "source": [
    "### Подсчет среднего количества, дисперсии и стандартного отклонения."
   ]
  },
  {
   "cell_type": "code",
   "execution_count": 19,
   "metadata": {},
   "outputs": [],
   "source": [
    "smart_means_call = []\n",
    "smart_means_msg = []\n",
    "smart_means_inet = []\n",
    "smart_means_rub = []\n",
    "ultra_means_call = []\n",
    "ultra_means_msg = []\n",
    "ultra_means_inet = []\n",
    "ultra_means_rub = []\n",
    "\n",
    "tables = [call_month_sum, msg_month, inet_month]\n",
    "lists = [smart_means_call, smart_means_msg, smart_means_inet, ultra_means_call, ultra_means_msg, ultra_means_inet]"
   ]
  },
  {
   "cell_type": "code",
   "execution_count": 20,
   "metadata": {},
   "outputs": [
    {
     "name": "stdout",
     "output_type": "stream",
     "text": [
      "Количество пропущенных значений при подсчёте информации о звонках: 0\n",
      "Количество пропущенных значений при подсчёте информации о сообщениях: 0\n",
      "Количество пропущенных значений при подсчёте информации об интернет трафике: 0\n",
      "Количество пропущенных значений при подсчёте информации о выручке: 0\n"
     ]
    }
   ],
   "source": [
    "#Прошлая итерация проекта\n",
    "for i in range(len(data_users['user_id'])):\n",
    "    if data_users.loc[i, 'tariff'] == 'smart':\n",
    "        if pd.isnull(data_users.loc[i, 'churn_date']):\n",
    "            smart_means_rub.append(sum(rub_month.loc[i, 'city':][1:])/(13-data_users.loc[i, 'reg_date'].month))\n",
    "            for j in range(len(tables)):\n",
    "                if data_users.loc[i, 'user_id'] in list(tables[j].index):\n",
    "                    t = data_users.loc[i, 'user_id']\n",
    "                    lists[j].append(sum(tables[j].loc[t, :'tariff'][:12])/(13-data_users.loc[i, 'reg_date'].month))\n",
    "        else:\n",
    "            smart_means_rub.append(sum(rub_month.loc[i, 'city':][1:])/(1+data_users.loc[i, 'churn_date'].month-data_users.loc[i, 'reg_date'].month))\n",
    "            for j in range(len(tables)):\n",
    "                if data_users.loc[i, 'user_id'] in list(tables[j].index):\n",
    "                    t = data_users.loc[i, 'user_id']\n",
    "                    lists[j].append(sum(tables[j].loc[t, :'tariff'][:12])/(1+data_users.loc[i, 'churn_date'].month-data_users.loc[i, 'reg_date'].month))\n",
    "    else:\n",
    "        if pd.isnull(data_users.loc[i, 'churn_date']):\n",
    "            ultra_means_rub.append(sum(rub_month.loc[i, 'city':][1:])/(13-data_users.loc[i, 'reg_date'].month))\n",
    "            for j in range(len(tables)):\n",
    "                if data_users.loc[i, 'user_id'] in list(tables[j].index):\n",
    "                    t = data_users.loc[i, 'user_id']\n",
    "                    lists[j+3].append(sum(tables[j].loc[t, :'tariff'][:12])/(13-data_users.loc[i, 'reg_date'].month))\n",
    "        else:\n",
    "            ultra_means_rub.append(sum(rub_month.loc[i, 'city':][1:])/(1+data_users.loc[i, 'churn_date'].month-data_users.loc[i, 'reg_date'].month))\n",
    "            for j in range(len(tables)):\n",
    "                if data_users.loc[i, 'user_id'] in list(tables[j].index):\n",
    "                    t = data_users.loc[i, 'user_id']\n",
    "                    lists[j+3].append(sum(tables[j].loc[t, :'tariff'][:12])\n",
    "                                    /(1+data_users.loc[i, 'churn_date'].month-data_users.loc[i, 'reg_date'].month))\n",
    "    \n",
    "#Проверка, не были ли потеряны какие-то значения при подсчетах\n",
    "print('Количество пропущенных значений при подсчёте информации о звонках:', \n",
    "      len(list(call_month_sum.index))-len(smart_means_call)-len(ultra_means_call))\n",
    "print('Количество пропущенных значений при подсчёте информации о сообщениях:', \n",
    "      len(list(msg_month.index))-len(smart_means_msg)-len(ultra_means_msg))\n",
    "print('Количество пропущенных значений при подсчёте информации об интернет трафике:', \n",
    "      len(list(inet_month.index))-len(smart_means_inet)-len(ultra_means_inet))\n",
    "print('Количество пропущенных значений при подсчёте информации о выручке:', \n",
    "      len(list(rub_month.index))-len(smart_means_rub)-len(ultra_means_rub))"
   ]
  },
  {
   "cell_type": "code",
   "execution_count": 21,
   "metadata": {},
   "outputs": [],
   "source": [
    "smart_means_call = []\n",
    "smart_means_msg = []\n",
    "smart_means_inet = []\n",
    "smart_means_rub = []\n",
    "ultra_means_call = []\n",
    "ultra_means_msg = []\n",
    "ultra_means_inet = []\n",
    "ultra_means_rub = []\n",
    "\n",
    "tables = [call_month_sum, msg_month, inet_month]\n",
    "lists = [smart_means_call, smart_means_msg, smart_means_inet, ultra_means_call, ultra_means_msg, ultra_means_inet]\n",
    "\n",
    "for i in range(len(rub_month['user_id'])):\n",
    "    if rub_month.loc[i, 'tariff'] == 'smart':\n",
    "        if pd.isnull(data_users.loc[i, 'churn_date']):\n",
    "            for j in range(int(data_users.loc[i, 'reg_date'].month), 13):\n",
    "                smart_means_rub.append(list(rub_month.loc[i , 'tariff':][2:])[j-1])\n",
    "            for t in range(len(tables)):\n",
    "                if data_users.loc[i, 'user_id'] in list(tables[t].index):\n",
    "                    k = data_users.loc[i, 'user_id']\n",
    "                    for j in range(int(data_users.loc[i, 'reg_date'].month), 13):\n",
    "                        lists[t].append(list(tables[t].loc[k, :'tariff'])[j-1])\n",
    "        else:\n",
    "            for j in range(int(data_users.loc[i, 'reg_date'].month), int(data_users.loc[i, 'churn_date'].month)+1):\n",
    "                smart_means_rub.append(list(rub_month.loc[i , 'tariff':][2:])[j-1])\n",
    "            for t in range(len(tables)):\n",
    "                if data_users.loc[i, 'user_id'] in list(tables[t].index):\n",
    "                    k = data_users.loc[i, 'user_id']\n",
    "                    for j in range(int(data_users.loc[i, 'reg_date'].month), int(data_users.loc[i, 'churn_date'].month)+1):\n",
    "                        lists[t].append(list(tables[t].loc[k, :'tariff'])[j-1])\n",
    "    elif rub_month.loc[i, 'tariff'] == 'ultra':\n",
    "        if pd.isnull(data_users.loc[i, 'churn_date']):\n",
    "            for j in range(int(data_users.loc[i, 'reg_date'].month), 13):\n",
    "                ultra_means_rub.append(list(rub_month.loc[i, 'tariff':][2:])[j-1])\n",
    "            for t in range(len(tables)):\n",
    "                if data_users.loc[i, 'user_id'] in list(tables[t].index):\n",
    "                    k = data_users.loc[i, 'user_id']\n",
    "                    for j in range(int(data_users.loc[i, 'reg_date'].month), 13):\n",
    "                        lists[t+3].append(list(tables[t].loc[k, :'tariff'])[j-1])\n",
    "        else:\n",
    "            for j in range(int(data_users.loc[i, 'reg_date'].month), int(data_users.loc[i, 'churn_date'].month)+1):\n",
    "                ultra_means_rub.append(list(rub_month.loc[i, 'tariff':][2:])[j-1])\n",
    "            for t in range(len(tables)):\n",
    "                if data_users.loc[i, 'user_id'] in list(tables[t].index):\n",
    "                    k = data_users.loc[i, 'user_id']\n",
    "                    for j in range(int(data_users.loc[i, 'reg_date'].month), int(data_users.loc[i, 'churn_date'].month)+1):\n",
    "                        lists[t+3].append(list(tables[t].loc[k, :'tariff'])[j-1])\n"
   ]
  },
  {
   "cell_type": "code",
   "execution_count": 22,
   "metadata": {},
   "outputs": [
    {
     "data": {
      "text/html": [
       "<div>\n",
       "<style scoped>\n",
       "    .dataframe tbody tr th:only-of-type {\n",
       "        vertical-align: middle;\n",
       "    }\n",
       "\n",
       "    .dataframe tbody tr th {\n",
       "        vertical-align: top;\n",
       "    }\n",
       "\n",
       "    .dataframe thead th {\n",
       "        text-align: right;\n",
       "    }\n",
       "</style>\n",
       "<table border=\"1\" class=\"dataframe\">\n",
       "  <thead>\n",
       "    <tr style=\"text-align: right;\">\n",
       "      <th></th>\n",
       "      <th>parameters</th>\n",
       "      <th>smart</th>\n",
       "      <th>ultra</th>\n",
       "    </tr>\n",
       "  </thead>\n",
       "  <tbody>\n",
       "    <tr>\n",
       "      <th>0</th>\n",
       "      <td>mean_call</td>\n",
       "      <td>418.87455</td>\n",
       "      <td>544.878151</td>\n",
       "    </tr>\n",
       "    <tr>\n",
       "      <th>1</th>\n",
       "      <td>mean_messages</td>\n",
       "      <td>38.317714</td>\n",
       "      <td>60.854819</td>\n",
       "    </tr>\n",
       "    <tr>\n",
       "      <th>2</th>\n",
       "      <td>mean_internet</td>\n",
       "      <td>16.328847</td>\n",
       "      <td>19.654043</td>\n",
       "    </tr>\n",
       "    <tr>\n",
       "      <th>3</th>\n",
       "      <td>mean_rub_per_month</td>\n",
       "      <td>1187.027354</td>\n",
       "      <td>1950.0</td>\n",
       "    </tr>\n",
       "    <tr>\n",
       "      <th>4</th>\n",
       "      <td>var_call</td>\n",
       "      <td>35890.883093</td>\n",
       "      <td>94317.701539</td>\n",
       "    </tr>\n",
       "    <tr>\n",
       "      <th>5</th>\n",
       "      <td>var_messages</td>\n",
       "      <td>725.112755</td>\n",
       "      <td>2115.090312</td>\n",
       "    </tr>\n",
       "    <tr>\n",
       "      <th>6</th>\n",
       "      <td>var_internet</td>\n",
       "      <td>33.013887</td>\n",
       "      <td>94.650017</td>\n",
       "    </tr>\n",
       "    <tr>\n",
       "      <th>7</th>\n",
       "      <td>var_rub_per_month</td>\n",
       "      <td>647431.997906</td>\n",
       "      <td>0.0</td>\n",
       "    </tr>\n",
       "    <tr>\n",
       "      <th>8</th>\n",
       "      <td>std_call</td>\n",
       "      <td>189.448893</td>\n",
       "      <td>307.111871</td>\n",
       "    </tr>\n",
       "    <tr>\n",
       "      <th>9</th>\n",
       "      <td>std_messages</td>\n",
       "      <td>26.927918</td>\n",
       "      <td>45.990111</td>\n",
       "    </tr>\n",
       "    <tr>\n",
       "      <th>10</th>\n",
       "      <td>std_internet</td>\n",
       "      <td>5.745771</td>\n",
       "      <td>9.728824</td>\n",
       "    </tr>\n",
       "    <tr>\n",
       "      <th>11</th>\n",
       "      <td>std_rub_per_month</td>\n",
       "      <td>804.631591</td>\n",
       "      <td>0.0</td>\n",
       "    </tr>\n",
       "  </tbody>\n",
       "</table>\n",
       "</div>"
      ],
      "text/plain": [
       "            parameters          smart         ultra\n",
       "0            mean_call      418.87455    544.878151\n",
       "1        mean_messages      38.317714     60.854819\n",
       "2        mean_internet      16.328847     19.654043\n",
       "3   mean_rub_per_month    1187.027354        1950.0\n",
       "4             var_call   35890.883093  94317.701539\n",
       "5         var_messages     725.112755   2115.090312\n",
       "6         var_internet      33.013887     94.650017\n",
       "7    var_rub_per_month  647431.997906           0.0\n",
       "8             std_call     189.448893    307.111871\n",
       "9         std_messages      26.927918     45.990111\n",
       "10        std_internet       5.745771      9.728824\n",
       "11   std_rub_per_month     804.631591           0.0"
      ]
     },
     "metadata": {},
     "output_type": "display_data"
    }
   ],
   "source": [
    "columns_t=['smart', 'ultra']\n",
    "smart_ultra_compare = pd.DataFrame(columns=columns_t)\n",
    "smart_ultra_compare.insert(0, 'parameters', ['mean_call', 'mean_messages', 'mean_internet', 'mean_rub_per_month',\n",
    "                                             'var_call', 'var_messages', 'var_internet', 'var_rub_per_month',\n",
    "                                             'std_call', 'std_messages', 'std_internet', 'std_rub_per_month'])\n",
    "\n",
    "lists = [smart_means_call, smart_means_msg, smart_means_inet, smart_means_rub, \n",
    "         ultra_means_call, ultra_means_msg, ultra_means_inet, ultra_means_rub]\n",
    "\n",
    "for i in range(4):\n",
    "    smart_ultra_compare.loc[i, 'smart'] = sum(lists[i])/len(lists[i])\n",
    "    smart_ultra_compare.loc[i+4, 'smart'] = np.var(lists[i])\n",
    "    smart_ultra_compare.loc[i+8, 'smart'] = np.std(lists[i])\n",
    "    smart_ultra_compare.loc[i, 'ultra'] = sum(lists[i+4])/len(lists[i+4])\n",
    "    smart_ultra_compare.loc[i+4, 'ultra'] = np.var(lists[i+4])\n",
    "    smart_ultra_compare.loc[i+8, 'ultra'] = np.std(lists[i+4])\n",
    "        \n",
    "    \n",
    "display(smart_ultra_compare)"
   ]
  },
  {
   "cell_type": "markdown",
   "metadata": {},
   "source": [
    "<b>Вывод</b>\n",
    "\n",
    "Пользователи редко пользуются сообщениями, это заметно, т.к. даже при учёте того, что пользователям \"ultra\" дан лимит по количеству сообщений, входящих в тариф, в 20 раз больше, у них не намного больше использованных сообщений - меньше чем в два раза.\n",
    "\n",
    "Выручка с типичного пользователя тарифа \"smart\" в среднем в месяц больше чем в два раза, чем ежемесячная оплата по тарифу. У тарифа \"ultra\" пользователи редко платят больше ежемесячной оплаты.\n",
    "\n",
    "Данные по тарифу \"ultra\" более разбросаны, чем по тарифу \"smart\", кроме информации о выручке - здесь разброс данных очень небольшой у тарифа \"ultra\"."
   ]
  },
  {
   "cell_type": "markdown",
   "metadata": {},
   "source": [
    "### Построить гистограммы. Описать распределения."
   ]
  },
  {
   "cell_type": "markdown",
   "metadata": {},
   "source": [
    "Построение гистограмм данных всех пользователей каждого тарифа по месяцам даст лишь ещё одно подтверждение результатов первого подпункта этого раздела, поэтому куда информативнее будет построить гистограммы распределения средних значений использования услуг в месяц пользователя каждого тарифа. Так мы узнаем сколько в среднем пользователи используют услуги тарифа в месяц."
   ]
  },
  {
   "cell_type": "code",
   "execution_count": 23,
   "metadata": {},
   "outputs": [
    {
     "data": {
      "image/png": "[encoded data removed]",
      "text/plain": [
       "<Figure size 1800x504 with 1 Axes>"
      ]
     },
     "metadata": {
      "needs_background": "light"
     },
     "output_type": "display_data"
    },
    {
     "data": {
      "image/png": "[encoded data removed]",
      "text/plain": [
       "<Figure size 1800x504 with 1 Axes>"
      ]
     },
     "metadata": {
      "needs_background": "light"
     },
     "output_type": "display_data"
    },
    {
     "data": {
      "image/png": "[encoded data removed]",
      "text/plain": [
       "<Figure size 1800x504 with 1 Axes>"
      ]
     },
     "metadata": {
      "needs_background": "light"
     },
     "output_type": "display_data"
    },
    {
     "data": {
      "image/png": "[encoded data removed]",
      "text/plain": [
       "<Figure size 1800x504 with 1 Axes>"
      ]
     },
     "metadata": {
      "needs_background": "light"
     },
     "output_type": "display_data"
    }
   ],
   "source": [
    "plt.hist(smart_means_call, alpha=1, label='Абоненты тарифа \"Смарт\"', bins=30)\n",
    "plt.hist(ultra_means_call, alpha=0.7, label='Абоненты тарифа \"Ультра\"', bins=30)\n",
    "plt.xlabel('Количество используемых минут в месяц отдельного пользователя')\n",
    "plt.ylabel('Частота повторения значения')\n",
    "plt.legend()\n",
    "plt.title('Распределение значения используемых минут каждого пользователя тарифов \"Смарт\" и \"Ультра\"')\n",
    "plt.savefig('plt1', bbox_inches = \"tight\")\n",
    "plt.show()\n",
    "\n",
    "plt.hist(smart_means_msg, alpha=1, label='Абоненты тарифа \"Смарт\"', bins=30)\n",
    "plt.hist(ultra_means_msg, alpha=0.7, label='Абоненты тарифа \"Ультра\"', bins=30)\n",
    "plt.xlabel('Количество используемых сообщений в месяц отдельного пользователя')\n",
    "plt.ylabel('Частота повторения значения')\n",
    "plt.legend()\n",
    "plt.title('Распределение значения используемых сообщений каждого пользователя тарифов \"Смарт\" и \"Ультра\"')\n",
    "plt.savefig('plt2', bbox_inches = \"tight\")\n",
    "plt.show()\n",
    "\n",
    "plt.hist(smart_means_inet, alpha=1, label='Абоненты тарифа \"Смарт\"', bins=30)\n",
    "plt.hist(ultra_means_inet, alpha=0.7, label='Абоненты тарифа \"Ультра\"', bins=30)\n",
    "plt.xlabel('Количество используемого интернет трафика в месяц отдельного пользователя')\n",
    "plt.ylabel('Частота повторения значения')\n",
    "plt.legend()\n",
    "plt.title('Распределение значения используемго интернет трафика каждого пользователя тарифов \"Смарт\" и \"Ультра\"')\n",
    "plt.savefig('plt3', bbox_inches = \"tight\")\n",
    "plt.show()\n",
    "\n",
    "plt.hist(smart_means_rub, alpha=1, label='Абоненты тарифа \"Смарт\"', bins=30, range=(0,4000))\n",
    "plt.hist(ultra_means_rub, alpha=0.7, label='Абоненты тарифа \"Ультра\"', range=(0,4000), bins=30)\n",
    "plt.xlabel('Полученная выручке в месяц с отдельного пользователя')\n",
    "plt.ylabel('Частота повторения значения')\n",
    "plt.legend()\n",
    "plt.title('Распределение значения полученной выручки с каждого пользователя тарифов \"Смарт\" и \"Ультра\"')\n",
    "plt.savefig('plt4', bbox_inches = \"tight\")\n",
    "plt.show()"
   ]
  },
  {
   "cell_type": "markdown",
   "metadata": {},
   "source": [
    "### Вывод"
   ]
  },
  {
   "cell_type": "markdown",
   "metadata": {},
   "source": [
    "На гистограммах с информацией о звонках мы видим нормальное распределение, также как и на гистограммах с информацией об интернет трафике, присутствуют незначительные выбросы. Но стоит обратить внимание на пользователей тарифа \"смарт\": на гистограмме с информацией о звонках видно, что немало пользователей использует больше 500 минут в месяц, что приносит дополнительные деньги оператору, а на гистограмме видно, что наиболее распространенное значение находится правее 15, откуда следует, что большая часть пользователей этого тарифа использует дополнительный интернет трафик, что выгодно для оператора.\n",
    "\n",
    "А вот на гистограмме с информацией о сообщениях мы видим скошенный вправо набор данных, что говорит о том, что люди редко пользуются СМС-сообщениями. Однако, если обратить внимание на гистограмму тарифа \"ультра\" с информацией о сообщениях, то можно заметить, что количество сообщений не доходит даже до 200, а по тарифу пользователям предоставляется 1000 сообщений. Кроме того, на гистограмме тарифа \"смарт\" с сообщениями, мы видим, что немало людей используют больше 50 сообщений, предоставленных по тарифу. Значит это довольно выгодно для оператора, т.к. в случае с тарифом \"ультра\" пользователи платят за 1000 сообщений, а используют до 200, а пользователи тарифа \"смарт\" используют сообщения сверх тарифа, за которые доплачивают деньги.\n",
    "\n",
    "Стоит отметить, что для тарифа \"ultra\" вполне определена месячная выручка с пользователя, т.к. разброса данных практически нет, подавляющее большинство пользователей тарифа \"ultra\" платит только ежемесячную плату за использование тарифа 1950р. Значит именно на эту выручку с пользователя тарифа \"ultra\" в среднем может рассчитывать оператор.\n",
    "\n",
    "Основываясь на вышесказанном, можно сделать вывод, что тариф \"смарт\" весьма выгоден для оператора."
   ]
  },
  {
   "cell_type": "markdown",
   "metadata": {},
   "source": [
    "## Проверка гипотез\n"
   ]
  },
  {
   "cell_type": "markdown",
   "metadata": {},
   "source": [
    "Необходимо проверить следующие гипотезы:\n",
    "- 1) средние выручки пользователей тарифов «Ультра» и «Смарт» различаются;\n",
    "- 2) средняя выручка пользователей из Москвы отличается от выручки пользователей из других регионов.\n"
   ]
  },
  {
   "cell_type": "markdown",
   "metadata": {},
   "source": [
    "### Проверка первой гипотезы: \n"
   ]
  },
  {
   "cell_type": "markdown",
   "metadata": {},
   "source": [
    "Сфорумулируем нулевую гипотезу следующим образом: \"средние выручки пользователей тарифов «Ультра» и «Смарт» равны\", тогда альтернативной гипотезой будет: \"средние выручки пользователей тарифов «Ультра» и «Смарт» различаются\". Для проверки нулевой гипотезы применим метод scipy.stats.ttest_ind(), генеральными совокупностями будут информация о выручке пользователей каждого тарифа. \n",
    "\n",
    "За выборку для проверки гипотезы возьмём случайные выборки траты пользователей тарифа smart или ultra в месяц."
   ]
  },
  {
   "cell_type": "code",
   "execution_count": 24,
   "metadata": {},
   "outputs": [
    {
     "name": "stdout",
     "output_type": "stream",
     "text": [
      "Результат pvalue при новой итерации проекта: 8.71163573996e-313\n",
      "Результат pvalue при старой итерации проекта: 9.687311202266684e-11\n",
      "pvalue при новой и старой итерациях отличаются в 1.1119968156879554e+302 раз\n",
      "pvalue при новой и старой итерациях отличаются на 9.687311202266684e-11\n",
      "Отвергаем нулевую гипотезу\n"
     ]
    }
   ],
   "source": [
    "alpha = 0.01\n",
    "\n",
    "for_smart_rub = []\n",
    "for_ultra_rub = []\n",
    "for i in range(len(rub_month['user_id'])):\n",
    "    if rub_month.loc[i, 'tariff'] == 'smart':\n",
    "        if pd.isnull(data_users.loc[i, 'churn_date']):\n",
    "            for j in range(int(data_users.loc[i, 'reg_date'].month), 13):\n",
    "                for_smart_rub.append(list(rub_month.loc[i , 'tariff':][2:])[j-1])\n",
    "        else:\n",
    "            for j in range(int(data_users.loc[i, 'reg_date'].month), int(data_users.loc[i, 'churn_date'].month)+1):\n",
    "                for_smart_rub.append(list(rub_month.loc[i , 'tariff':][2:])[j-1])\n",
    "    elif rub_month.loc[i, 'tariff'] == 'ultra':\n",
    "        if pd.isnull(data_users.loc[i, 'churn_date']):\n",
    "            for j in range(int(data_users.loc[i, 'reg_date'].month), 13):\n",
    "                for_ultra_rub.append(list(rub_month.loc[i , 'tariff':][2:])[j-1])\n",
    "        else:\n",
    "            for j in range(int(data_users.loc[i, 'reg_date'].month), int(data_users.loc[i, 'churn_date'].month)+1):\n",
    "                for_ultra_rub.append(list(rub_month.loc[i , 'tariff':][2:])[j-1])\n",
    "\n",
    "\n",
    "results_2 = st.ttest_ind(for_smart_rub, for_ultra_rub, equal_var=False)                \n",
    "\n",
    "sample_1 = random.sample(for_smart_rub, 100)\n",
    "sample_2 = random.sample(for_ultra_rub, 100)\n",
    "results_1 = st.ttest_ind(sample_1, sample_2, equal_var=False)\n",
    "    \n",
    "print('Результат pvalue при новой итерации проекта:', results_2.pvalue)\n",
    "print('Результат pvalue при старой итерации проекта:', results_1.pvalue)\n",
    "print('pvalue при новой и старой итерациях отличаются в', results_1.pvalue/results_2.pvalue, 'раз')\n",
    "print('pvalue при новой и старой итерациях отличаются на', results_1.pvalue-results_2.pvalue)\n",
    "\n",
    "if results_2.pvalue < alpha:\n",
    "    print(\"Отвергаем нулевую гипотезу\")\n",
    "else:\n",
    "    print(\"Не получилось отвергнуть нулевую гипотезу\") "
   ]
  },
  {
   "cell_type": "markdown",
   "metadata": {},
   "source": [
    "<b>Вывод</b>\n",
    "\n",
    "Раз нулевая гипотеза отвергнута, то верна альтернативная (т.к. они взаимоисключающие), значит средние выручки пользователей тарифов «Ультра» и «Смарт» различаются"
   ]
  },
  {
   "cell_type": "markdown",
   "metadata": {},
   "source": [
    "### Проверка второй гипотезы:"
   ]
  },
  {
   "cell_type": "markdown",
   "metadata": {},
   "source": [
    "Аналогично предыдущему пункту сформулируем нулевую гипотезу: \"средняя выручка пользователей из Москвы равна выручке пользователей из других регионов\", тогда альтернативной будет \"средняя выручка пользователей из Москвы отличается от выручки пользователей из других регионов\". Генеральными совокупностями будет информация о выручке пользователей в Москве и не в Москве."
   ]
  },
  {
   "cell_type": "code",
   "execution_count": 25,
   "metadata": {},
   "outputs": [
    {
     "name": "stdout",
     "output_type": "stream",
     "text": [
      "Результат pvalue 0.07347905771084196\n",
      "Не получилось отвергнуть нулевую гипотезу\n"
     ]
    }
   ],
   "source": [
    "alpha = 0.01\n",
    "\n",
    "for_moscow = []\n",
    "for_not_moscow = []\n",
    "for i in range(len(rub_month['user_id'])):\n",
    "    if rub_month.loc[i, 'city'] == 'Москва':\n",
    "        if pd.isnull(data_users.loc[i, 'churn_date']):\n",
    "            for j in range(int(data_users.loc[i, 'reg_date'].month), 13):\n",
    "                for_moscow.append(list(rub_month.loc[i , 'tariff':][2:])[j-1])\n",
    "        else:\n",
    "            for j in range(int(data_users.loc[i, 'reg_date'].month), int(data_users.loc[i, 'churn_date'].month)+1):\n",
    "                for_moscow.append(list(rub_month.loc[i , 'tariff':][2:])[j-1])\n",
    "    else:\n",
    "        if pd.isnull(data_users.loc[i, 'churn_date']):\n",
    "            for j in range(int(data_users.loc[i, 'reg_date'].month), 13):\n",
    "                for_not_moscow.append(list(rub_month.loc[i , 'tariff':][2:])[j-1])\n",
    "        else:\n",
    "            for j in range(int(data_users.loc[i, 'reg_date'].month), int(data_users.loc[i, 'churn_date'].month)+1):\n",
    "                for_not_moscow.append(list(rub_month.loc[i , 'tariff':][2:])[j-1])\n",
    "\n",
    "#sample_1 = random.sample(for_smart_rub, 100)\n",
    "#sample_2 = random.sample(for_ultra_rub, 100)\n",
    "        \n",
    "results = st.ttest_ind(for_moscow, for_not_moscow, equal_var=False)\n",
    "print('Результат pvalue', results.pvalue)\n",
    "if results.pvalue < alpha:\n",
    "    print(\"Отвергаем нулевую гипотезу\")\n",
    "else:\n",
    "    print(\"Не получилось отвергнуть нулевую гипотезу\") "
   ]
  },
  {
   "cell_type": "code",
   "execution_count": 26,
   "metadata": {},
   "outputs": [
    {
     "data": {
      "text/html": [
       "<div>\n",
       "<style scoped>\n",
       "    .dataframe tbody tr th:only-of-type {\n",
       "        vertical-align: middle;\n",
       "    }\n",
       "\n",
       "    .dataframe tbody tr th {\n",
       "        vertical-align: top;\n",
       "    }\n",
       "\n",
       "    .dataframe thead th {\n",
       "        text-align: right;\n",
       "    }\n",
       "</style>\n",
       "<table border=\"1\" class=\"dataframe\">\n",
       "  <thead>\n",
       "    <tr style=\"text-align: right;\">\n",
       "      <th></th>\n",
       "      <th>parameters</th>\n",
       "      <th>Moscow</th>\n",
       "      <th>not_Moscow</th>\n",
       "    </tr>\n",
       "  </thead>\n",
       "  <tbody>\n",
       "    <tr>\n",
       "      <th>0</th>\n",
       "      <td>mean_rub</td>\n",
       "      <td>1373.589198</td>\n",
       "      <td>1432.056814</td>\n",
       "    </tr>\n",
       "    <tr>\n",
       "      <th>1</th>\n",
       "      <td>var_rub</td>\n",
       "      <td>513018.153916</td>\n",
       "      <td>586459.668046</td>\n",
       "    </tr>\n",
       "    <tr>\n",
       "      <th>2</th>\n",
       "      <td>std_rub</td>\n",
       "      <td>715.666484</td>\n",
       "      <td>765.659545</td>\n",
       "    </tr>\n",
       "  </tbody>\n",
       "</table>\n",
       "</div>"
      ],
      "text/plain": [
       "  parameters         Moscow     not_Moscow\n",
       "0   mean_rub    1373.589198    1432.056814\n",
       "1    var_rub  513018.153916  586459.668046\n",
       "2    std_rub     715.666484     765.659545"
      ]
     },
     "metadata": {},
     "output_type": "display_data"
    }
   ],
   "source": [
    "columns_t=['Moscow', 'not_Moscow']\n",
    "Moscow_compare = pd.DataFrame(columns=columns_t)\n",
    "Moscow_compare.insert(0, 'parameters', ['mean_rub', \n",
    "                                        'var_rub', \n",
    "                                        'std_rub'])\n",
    "\n",
    "lists = [for_moscow, for_not_moscow]\n",
    "\n",
    "Moscow_compare.loc[0, 'Moscow'] = sum(for_moscow)/len(for_moscow)\n",
    "Moscow_compare.loc[1, 'Moscow'] = np.var(for_moscow, ddof = 1)\n",
    "Moscow_compare.loc[2, 'Moscow'] = np.std(for_moscow)\n",
    "Moscow_compare.loc[0, 'not_Moscow'] = sum(for_not_moscow)/len(for_not_moscow)\n",
    "Moscow_compare.loc[1, 'not_Moscow'] = np.var(for_not_moscow, ddof = 1)\n",
    "Moscow_compare.loc[2, 'not_Moscow'] = np.std(for_not_moscow)\n",
    "        \n",
    "    \n",
    "display(Moscow_compare)"
   ]
  },
  {
   "cell_type": "code",
   "execution_count": 27,
   "metadata": {},
   "outputs": [
    {
     "data": {
      "image/png": "[encoded data removed]",
      "text/plain": [
       "<Figure size 1800x504 with 1 Axes>"
      ]
     },
     "metadata": {
      "needs_background": "light"
     },
     "output_type": "display_data"
    }
   ],
   "source": [
    "plt.hist(for_moscow, alpha=1, label='Абоненты из Москвы\"', range=(0,4000), bins=30)\n",
    "plt.hist(for_not_moscow, alpha=0.7, label='Абоненты не из Москвы\"', bins=30, range=(0,4000))\n",
    "plt.xlabel('Количество используемого интернет трафика в месяц отдельного пользователя')\n",
    "plt.ylabel('Частота повторения значения')\n",
    "plt.legend()\n",
    "plt.title('Распределение значений выручки абонентов из Москвы и не из Москвы')\n",
    "plt.savefig('plt4', bbox_inches = \"tight\")\n",
    "plt.show()"
   ]
  },
  {
   "cell_type": "markdown",
   "metadata": {},
   "source": [
    "<b>Вывод</b>\n",
    "\n",
    "Гипотеза о том, что средняя выручка пользователей из Москвы отличается от выручки пользователей из других регионов маловероятна. В целом отличия в распределениях незначительные: абонентов Москвы намного меньше, а средняя выручка немного больше, разброс примерно одинаковый"
   ]
  },
  {
   "cell_type": "code",
   "execution_count": 28,
   "metadata": {},
   "outputs": [
    {
     "name": "stdout",
     "output_type": "stream",
     "text": [
      "Итоговая выручка тарифа \"смарт\" составила 2647071 рублей\n",
      "Итоговая выручка тарифа \"ультра\" составила 1922700 рублей\n"
     ]
    }
   ],
   "source": [
    "#То, что точно бы хотел увидеть \"коммерческий департамент\" это итоговая выручка по тарифам, так что вот\n",
    "\n",
    "print('Итоговая выручка тарифа \"смарт\" составила', sum(for_smart_rub), 'рублей')\n",
    "print('Итоговая выручка тарифа \"ультра\" составила', sum(for_ultra_rub), 'рублей')"
   ]
  },
  {
   "cell_type": "markdown",
   "metadata": {},
   "source": [
    "## Общий вывод"
   ]
  },
  {
   "cell_type": "markdown",
   "metadata": {},
   "source": [
    "Задача звучала следующим образом: \"Чтобы скорректировать рекламный бюджет, коммерческий департамент хочет понять, какой тариф приносит больше денег. ... Нужно проанализировать поведение клиентов и сделать вывод — какой тариф лучше.\"\n",
    "\n",
    "<b>Тариф \"смарт\" приносит больше денег в 1.3 раза, им пользуются в 2.3 раза больше пользователей, чем у тарифа \"ультра\".</b>\n",
    "\n",
    "Подробнее: \n",
    "- кроме того, что у тарифа \"смарт\" пользователей больше, клиенты этого тарифа намного больше пользуются дополнительными опциями, которые стоят уже дороже, чем включенные в пакет услуги, что в итоге выходит выгоднее для оператора и ещё раз показывает тариф смарт с \"лучшей\" стороны; \n",
    "- гипотеза о том, что выручка от пользователей в Москве отличается от выручки пользователей других регионов вполне оправдана"
   ]
  }
 ],
 "metadata": {
  "ExecuteTimeLog": [
   {
    "duration": 544,
    "start_time": "2022-02-22T12:24:02.013Z"
   },
   {
    "duration": 407,
    "start_time": "2022-02-22T14:56:29.072Z"
   },
   {
    "duration": 128,
    "start_time": "2022-02-22T14:58:11.046Z"
   },
   {
    "duration": 84,
    "start_time": "2022-02-22T14:58:35.635Z"
   },
   {
    "duration": 83,
    "start_time": "2022-02-22T14:59:01.014Z"
   },
   {
    "duration": 456,
    "start_time": "2022-02-23T15:57:01.298Z"
   },
   {
    "duration": 556,
    "start_time": "2022-02-23T15:57:05.042Z"
   },
   {
    "duration": 427,
    "start_time": "2022-02-23T15:57:05.600Z"
   },
   {
    "duration": 156,
    "start_time": "2022-02-23T15:57:06.029Z"
   },
   {
    "duration": 84,
    "start_time": "2022-02-23T15:57:29.858Z"
   },
   {
    "duration": 139,
    "start_time": "2022-02-23T15:57:54.026Z"
   },
   {
    "duration": 48,
    "start_time": "2022-02-23T15:58:06.619Z"
   },
   {
    "duration": 79,
    "start_time": "2022-02-23T15:58:30.258Z"
   },
   {
    "duration": 3,
    "start_time": "2022-02-23T18:21:24.910Z"
   },
   {
    "duration": 125,
    "start_time": "2022-02-23T18:22:15.760Z"
   },
   {
    "duration": 7,
    "start_time": "2022-02-23T18:23:20.541Z"
   },
   {
    "duration": 10,
    "start_time": "2022-02-23T18:23:32.677Z"
   },
   {
    "duration": 125,
    "start_time": "2022-02-23T18:23:57.254Z"
   },
   {
    "duration": 11,
    "start_time": "2022-02-23T18:24:59.910Z"
   },
   {
    "duration": 34,
    "start_time": "2022-02-23T18:33:13.896Z"
   },
   {
    "duration": 53,
    "start_time": "2022-02-23T18:33:24.368Z"
   },
   {
    "duration": 47,
    "start_time": "2022-02-23T18:33:44.375Z"
   },
   {
    "duration": 15,
    "start_time": "2022-02-23T18:34:06.696Z"
   },
   {
    "duration": 383,
    "start_time": "2022-02-24T10:27:23.192Z"
   },
   {
    "duration": 347,
    "start_time": "2022-02-24T10:27:59.420Z"
   },
   {
    "duration": 791,
    "start_time": "2022-02-24T10:28:08.922Z"
   },
   {
    "duration": 486,
    "start_time": "2022-02-24T10:28:09.715Z"
   },
   {
    "duration": 157,
    "start_time": "2022-02-24T10:28:10.205Z"
   },
   {
    "duration": 56,
    "start_time": "2022-02-24T10:28:10.364Z"
   },
   {
    "duration": 9792,
    "start_time": "2022-02-24T10:28:10.422Z"
   },
   {
    "duration": 16,
    "start_time": "2022-02-24T10:28:30.397Z"
   },
   {
    "duration": 37,
    "start_time": "2022-02-24T10:33:07.864Z"
   },
   {
    "duration": 32,
    "start_time": "2022-02-24T10:33:21.439Z"
   },
   {
    "duration": 368,
    "start_time": "2022-02-24T10:42:35.911Z"
   },
   {
    "duration": -488,
    "start_time": "2022-02-24T10:43:08.230Z"
   },
   {
    "duration": 956,
    "start_time": "2022-02-24T10:43:18.550Z"
   },
   {
    "duration": 508,
    "start_time": "2022-02-24T10:43:19.509Z"
   },
   {
    "duration": 194,
    "start_time": "2022-02-24T10:43:20.020Z"
   },
   {
    "duration": 8804,
    "start_time": "2022-02-24T10:43:20.217Z"
   },
   {
    "duration": -492,
    "start_time": "2022-02-24T10:43:29.517Z"
   },
   {
    "duration": 451,
    "start_time": "2022-02-24T10:43:31.607Z"
   },
   {
    "duration": 56,
    "start_time": "2022-02-24T10:43:47.367Z"
   },
   {
    "duration": 164,
    "start_time": "2022-02-24T18:10:54.085Z"
   },
   {
    "duration": 554,
    "start_time": "2022-02-24T18:11:05.999Z"
   },
   {
    "duration": 346,
    "start_time": "2022-02-24T18:11:06.555Z"
   },
   {
    "duration": 85,
    "start_time": "2022-02-24T18:11:06.903Z"
   },
   {
    "duration": 101,
    "start_time": "2022-02-24T18:11:06.989Z"
   },
   {
    "duration": 4,
    "start_time": "2022-02-24T18:11:07.092Z"
   },
   {
    "duration": 162,
    "start_time": "2022-02-24T18:27:18.130Z"
   },
   {
    "duration": 139,
    "start_time": "2022-02-24T18:27:35.180Z"
   },
   {
    "duration": 734,
    "start_time": "2022-02-25T16:41:05.544Z"
   },
   {
    "duration": 493,
    "start_time": "2022-02-25T16:41:06.280Z"
   },
   {
    "duration": 158,
    "start_time": "2022-02-25T16:41:06.776Z"
   },
   {
    "duration": 151,
    "start_time": "2022-02-25T16:41:06.936Z"
   },
   {
    "duration": 243,
    "start_time": "2022-02-25T16:41:07.094Z"
   },
   {
    "duration": 904,
    "start_time": "2022-02-25T18:18:54.970Z"
   },
   {
    "duration": 517,
    "start_time": "2022-02-25T18:18:55.877Z"
   },
   {
    "duration": 150,
    "start_time": "2022-02-25T18:18:56.397Z"
   },
   {
    "duration": 159,
    "start_time": "2022-02-25T18:18:56.551Z"
   },
   {
    "duration": 259,
    "start_time": "2022-02-25T18:18:56.712Z"
   },
   {
    "duration": 90,
    "start_time": "2022-02-25T18:19:47.371Z"
   },
   {
    "duration": 237,
    "start_time": "2022-02-25T18:20:40.823Z"
   },
   {
    "duration": 831,
    "start_time": "2022-02-26T09:00:24.722Z"
   },
   {
    "duration": 681,
    "start_time": "2022-02-26T09:00:25.556Z"
   },
   {
    "duration": 170,
    "start_time": "2022-02-26T09:00:26.240Z"
   },
   {
    "duration": 142,
    "start_time": "2022-02-26T09:00:26.413Z"
   },
   {
    "duration": 112,
    "start_time": "2022-02-26T09:00:26.558Z"
   },
   {
    "duration": 268,
    "start_time": "2022-02-26T09:00:26.673Z"
   },
   {
    "duration": 925,
    "start_time": "2022-02-26T09:49:54.797Z"
   },
   {
    "duration": 579,
    "start_time": "2022-02-26T09:49:55.726Z"
   },
   {
    "duration": 149,
    "start_time": "2022-02-26T09:49:56.308Z"
   },
   {
    "duration": 150,
    "start_time": "2022-02-26T09:49:56.460Z"
   },
   {
    "duration": 118,
    "start_time": "2022-02-26T09:49:56.613Z"
   },
   {
    "duration": 256,
    "start_time": "2022-02-26T09:49:56.733Z"
   },
   {
    "duration": 27,
    "start_time": "2022-02-26T10:01:50.382Z"
   },
   {
    "duration": 41,
    "start_time": "2022-02-26T10:02:39.274Z"
   },
   {
    "duration": 27,
    "start_time": "2022-02-26T10:03:04.634Z"
   },
   {
    "duration": 36,
    "start_time": "2022-02-26T10:03:58.498Z"
   },
   {
    "duration": 33,
    "start_time": "2022-02-26T10:05:21.685Z"
   },
   {
    "duration": 65,
    "start_time": "2022-02-26T10:07:37.355Z"
   },
   {
    "duration": 102,
    "start_time": "2022-02-26T10:08:05.112Z"
   },
   {
    "duration": 9098,
    "start_time": "2022-02-26T10:08:48.310Z"
   },
   {
    "duration": 80,
    "start_time": "2022-02-26T10:09:11.174Z"
   },
   {
    "duration": 98,
    "start_time": "2022-02-26T10:10:05.866Z"
   },
   {
    "duration": 113,
    "start_time": "2022-02-26T10:11:00.798Z"
   },
   {
    "duration": 838,
    "start_time": "2022-02-26T10:11:18.212Z"
   },
   {
    "duration": 535,
    "start_time": "2022-02-26T10:11:19.052Z"
   },
   {
    "duration": 144,
    "start_time": "2022-02-26T10:11:19.590Z"
   },
   {
    "duration": 138,
    "start_time": "2022-02-26T10:11:19.736Z"
   },
   {
    "duration": 104,
    "start_time": "2022-02-26T10:11:19.876Z"
   },
   {
    "duration": 225,
    "start_time": "2022-02-26T10:11:20.011Z"
   },
   {
    "duration": 100,
    "start_time": "2022-02-26T10:11:20.238Z"
   },
   {
    "duration": 70,
    "start_time": "2022-02-26T10:11:51.206Z"
   },
   {
    "duration": 113,
    "start_time": "2022-02-26T10:45:37.705Z"
   },
   {
    "duration": 137,
    "start_time": "2022-02-26T11:03:32.506Z"
   },
   {
    "duration": 75,
    "start_time": "2022-02-26T11:05:01.365Z"
   },
   {
    "duration": 449,
    "start_time": "2022-02-26T11:05:08.991Z"
   },
   {
    "duration": 798,
    "start_time": "2022-02-26T11:05:18.369Z"
   },
   {
    "duration": 539,
    "start_time": "2022-02-26T11:05:19.170Z"
   },
   {
    "duration": 162,
    "start_time": "2022-02-26T11:05:19.713Z"
   },
   {
    "duration": 153,
    "start_time": "2022-02-26T11:05:19.878Z"
   },
   {
    "duration": 119,
    "start_time": "2022-02-26T11:05:20.034Z"
   },
   {
    "duration": 257,
    "start_time": "2022-02-26T11:05:20.155Z"
   },
   {
    "duration": 72,
    "start_time": "2022-02-26T11:05:20.414Z"
   },
   {
    "duration": 464,
    "start_time": "2022-02-26T11:05:20.510Z"
   },
   {
    "duration": 50,
    "start_time": "2022-02-26T11:05:27.722Z"
   },
   {
    "duration": 593,
    "start_time": "2022-02-26T11:17:55.453Z"
   },
   {
    "duration": 390,
    "start_time": "2022-02-26T11:17:56.047Z"
   },
   {
    "duration": 77,
    "start_time": "2022-02-26T11:17:56.441Z"
   },
   {
    "duration": 89,
    "start_time": "2022-02-26T11:17:56.519Z"
   },
   {
    "duration": 64,
    "start_time": "2022-02-26T11:17:56.610Z"
   },
   {
    "duration": 143,
    "start_time": "2022-02-26T11:17:56.676Z"
   },
   {
    "duration": 49,
    "start_time": "2022-02-26T11:17:56.821Z"
   },
   {
    "duration": 28,
    "start_time": "2022-02-26T11:17:56.871Z"
   },
   {
    "duration": 4,
    "start_time": "2022-02-26T11:17:56.900Z"
   },
   {
    "duration": 22,
    "start_time": "2022-02-26T11:21:37.947Z"
   },
   {
    "duration": 606,
    "start_time": "2022-02-26T11:24:51.330Z"
   },
   {
    "duration": 375,
    "start_time": "2022-02-26T11:24:51.938Z"
   },
   {
    "duration": 77,
    "start_time": "2022-02-26T11:24:52.315Z"
   },
   {
    "duration": 86,
    "start_time": "2022-02-26T11:24:52.394Z"
   },
   {
    "duration": 68,
    "start_time": "2022-02-26T11:24:52.482Z"
   },
   {
    "duration": 150,
    "start_time": "2022-02-26T11:24:52.552Z"
   },
   {
    "duration": 55,
    "start_time": "2022-02-26T11:24:52.704Z"
   },
   {
    "duration": 26,
    "start_time": "2022-02-26T11:24:52.761Z"
   },
   {
    "duration": 7585,
    "start_time": "2022-02-26T11:24:52.790Z"
   },
   {
    "duration": 28,
    "start_time": "2022-02-26T11:25:28.369Z"
   },
   {
    "duration": 608,
    "start_time": "2022-02-26T15:47:14.377Z"
   },
   {
    "duration": 417,
    "start_time": "2022-02-26T15:47:14.987Z"
   },
   {
    "duration": 114,
    "start_time": "2022-02-26T15:47:15.406Z"
   },
   {
    "duration": 109,
    "start_time": "2022-02-26T15:47:15.522Z"
   },
   {
    "duration": 92,
    "start_time": "2022-02-26T15:47:15.633Z"
   },
   {
    "duration": 190,
    "start_time": "2022-02-26T15:47:15.727Z"
   },
   {
    "duration": 245,
    "start_time": "2022-02-26T15:47:15.919Z"
   },
   {
    "duration": 40,
    "start_time": "2022-02-26T15:47:16.166Z"
   },
   {
    "duration": 260,
    "start_time": "2022-02-26T15:47:16.209Z"
   },
   {
    "duration": -646,
    "start_time": "2022-02-26T15:47:17.116Z"
   },
   {
    "duration": 165,
    "start_time": "2022-02-26T15:48:02.138Z"
   },
   {
    "duration": 166,
    "start_time": "2022-02-26T15:48:36.253Z"
   },
   {
    "duration": 190,
    "start_time": "2022-02-26T15:48:50.197Z"
   },
   {
    "duration": 4,
    "start_time": "2022-02-26T15:48:59.974Z"
   },
   {
    "duration": 344,
    "start_time": "2022-02-26T15:49:01.098Z"
   },
   {
    "duration": 159,
    "start_time": "2022-02-26T15:51:28.307Z"
   },
   {
    "duration": 193,
    "start_time": "2022-02-26T15:53:01.918Z"
   },
   {
    "duration": 6,
    "start_time": "2022-02-26T15:55:17.046Z"
   },
   {
    "duration": 22,
    "start_time": "2022-02-26T15:55:42.461Z"
   },
   {
    "duration": 23,
    "start_time": "2022-02-26T15:55:54.605Z"
   },
   {
    "duration": 1968,
    "start_time": "2022-02-26T15:56:20.903Z"
   },
   {
    "duration": 572,
    "start_time": "2022-02-26T15:57:59.429Z"
   },
   {
    "duration": 391,
    "start_time": "2022-02-26T15:58:00.003Z"
   },
   {
    "duration": 119,
    "start_time": "2022-02-26T15:58:00.397Z"
   },
   {
    "duration": 102,
    "start_time": "2022-02-26T15:58:00.519Z"
   },
   {
    "duration": 84,
    "start_time": "2022-02-26T15:58:00.623Z"
   },
   {
    "duration": 174,
    "start_time": "2022-02-26T15:58:00.709Z"
   },
   {
    "duration": 231,
    "start_time": "2022-02-26T15:58:00.885Z"
   },
   {
    "duration": 24,
    "start_time": "2022-02-26T15:58:01.118Z"
   },
   {
    "duration": 30,
    "start_time": "2022-02-26T15:58:01.144Z"
   },
   {
    "duration": 2343,
    "start_time": "2022-02-26T15:58:01.177Z"
   },
   {
    "duration": 586,
    "start_time": "2022-02-26T16:07:35.765Z"
   },
   {
    "duration": 379,
    "start_time": "2022-02-26T16:07:36.352Z"
   },
   {
    "duration": 94,
    "start_time": "2022-02-26T16:07:36.733Z"
   },
   {
    "duration": 87,
    "start_time": "2022-02-26T16:19:22.336Z"
   },
   {
    "duration": 71,
    "start_time": "2022-02-26T16:20:03.409Z"
   },
   {
    "duration": 167,
    "start_time": "2022-02-26T16:20:31.352Z"
   },
   {
    "duration": 204,
    "start_time": "2022-02-26T16:21:40.929Z"
   },
   {
    "duration": 29,
    "start_time": "2022-02-26T16:24:18.639Z"
   },
   {
    "duration": 13,
    "start_time": "2022-02-26T16:25:00.049Z"
   },
   {
    "duration": 3115,
    "start_time": "2022-02-26T16:29:12.040Z"
   },
   {
    "duration": 1430,
    "start_time": "2022-02-26T20:13:51.112Z"
   },
   {
    "duration": 221,
    "start_time": "2022-02-26T20:17:11.895Z"
   },
   {
    "duration": 150,
    "start_time": "2022-02-26T20:18:33.513Z"
   },
   {
    "duration": 165,
    "start_time": "2022-02-26T20:18:41.480Z"
   },
   {
    "duration": 197,
    "start_time": "2022-02-26T20:21:08.681Z"
   },
   {
    "duration": 184,
    "start_time": "2022-02-26T20:21:57.512Z"
   },
   {
    "duration": 695,
    "start_time": "2022-02-27T11:03:49.876Z"
   },
   {
    "duration": 508,
    "start_time": "2022-02-27T11:03:50.574Z"
   },
   {
    "duration": 118,
    "start_time": "2022-02-27T11:03:51.085Z"
   },
   {
    "duration": 138,
    "start_time": "2022-02-27T11:03:51.205Z"
   },
   {
    "duration": 109,
    "start_time": "2022-02-27T11:03:51.345Z"
   },
   {
    "duration": 218,
    "start_time": "2022-02-27T11:03:51.457Z"
   },
   {
    "duration": 286,
    "start_time": "2022-02-27T11:03:51.678Z"
   },
   {
    "duration": 30,
    "start_time": "2022-02-27T11:03:51.967Z"
   },
   {
    "duration": 43,
    "start_time": "2022-02-27T11:03:51.999Z"
   },
   {
    "duration": 3932,
    "start_time": "2022-02-27T11:03:52.044Z"
   },
   {
    "duration": 306,
    "start_time": "2022-02-27T20:04:35.738Z"
   },
   {
    "duration": 602,
    "start_time": "2022-02-27T20:04:43.349Z"
   },
   {
    "duration": 355,
    "start_time": "2022-02-27T20:04:43.953Z"
   },
   {
    "duration": 79,
    "start_time": "2022-02-27T20:04:44.310Z"
   },
   {
    "duration": 89,
    "start_time": "2022-02-27T20:04:44.391Z"
   },
   {
    "duration": 77,
    "start_time": "2022-02-27T20:04:44.482Z"
   },
   {
    "duration": 148,
    "start_time": "2022-02-27T20:04:44.560Z"
   },
   {
    "duration": 185,
    "start_time": "2022-02-27T20:04:44.710Z"
   },
   {
    "duration": 20,
    "start_time": "2022-02-27T20:04:44.897Z"
   },
   {
    "duration": 9,
    "start_time": "2022-02-27T20:04:44.918Z"
   },
   {
    "duration": 2126,
    "start_time": "2022-02-27T20:04:44.929Z"
   },
   {
    "duration": 305,
    "start_time": "2022-02-27T20:04:47.057Z"
   },
   {
    "duration": 9,
    "start_time": "2022-02-27T20:04:59.396Z"
   },
   {
    "duration": 235,
    "start_time": "2022-02-27T20:05:07.684Z"
   },
   {
    "duration": 6,
    "start_time": "2022-02-27T20:07:38.891Z"
   },
   {
    "duration": 8,
    "start_time": "2022-02-27T20:08:17.756Z"
   },
   {
    "duration": 5,
    "start_time": "2022-02-27T20:34:22.053Z"
   },
   {
    "duration": 225,
    "start_time": "2022-02-27T20:38:38.758Z"
   },
   {
    "duration": 265,
    "start_time": "2022-02-27T20:54:51.410Z"
   },
   {
    "duration": 243,
    "start_time": "2022-02-27T20:57:35.145Z"
   },
   {
    "duration": 232,
    "start_time": "2022-02-27T20:58:42.609Z"
   },
   {
    "duration": 103,
    "start_time": "2022-02-27T20:58:53.418Z"
   },
   {
    "duration": 14,
    "start_time": "2022-02-27T20:58:57.017Z"
   },
   {
    "duration": 289,
    "start_time": "2022-02-27T21:00:14.850Z"
   },
   {
    "duration": 12,
    "start_time": "2022-02-27T21:02:30.442Z"
   },
   {
    "duration": 223,
    "start_time": "2022-02-27T21:08:09.921Z"
   },
   {
    "duration": 13,
    "start_time": "2022-02-27T21:13:25.868Z"
   },
   {
    "duration": 249,
    "start_time": "2022-02-27T21:16:39.707Z"
   },
   {
    "duration": 8,
    "start_time": "2022-02-27T21:16:53.619Z"
   },
   {
    "duration": 290,
    "start_time": "2022-02-27T21:17:12.267Z"
   },
   {
    "duration": 288,
    "start_time": "2022-02-27T21:17:14.571Z"
   },
   {
    "duration": 224,
    "start_time": "2022-02-27T21:17:52.476Z"
   },
   {
    "duration": 6066,
    "start_time": "2022-02-27T21:18:15.131Z"
   },
   {
    "duration": 5752,
    "start_time": "2022-02-27T21:18:37.940Z"
   },
   {
    "duration": 6265,
    "start_time": "2022-02-27T21:19:25.156Z"
   },
   {
    "duration": 241,
    "start_time": "2022-02-27T21:19:41.637Z"
   },
   {
    "duration": 223,
    "start_time": "2022-02-27T21:22:02.356Z"
   },
   {
    "duration": 2350,
    "start_time": "2022-02-27T21:22:51.468Z"
   },
   {
    "duration": 2435,
    "start_time": "2022-02-27T21:23:37.998Z"
   },
   {
    "duration": 1618,
    "start_time": "2022-02-27T21:25:43.453Z"
   },
   {
    "duration": 1200,
    "start_time": "2022-02-27T21:27:39.237Z"
   },
   {
    "duration": 248,
    "start_time": "2022-02-27T21:33:27.612Z"
   },
   {
    "duration": 1168,
    "start_time": "2022-02-27T21:33:53.558Z"
   },
   {
    "duration": 1763,
    "start_time": "2022-02-27T21:34:40.934Z"
   },
   {
    "duration": 5,
    "start_time": "2022-02-27T21:43:10.319Z"
   },
   {
    "duration": 6,
    "start_time": "2022-02-27T21:43:17.974Z"
   },
   {
    "duration": 5,
    "start_time": "2022-02-27T21:44:15.840Z"
   },
   {
    "duration": 2343,
    "start_time": "2022-02-27T21:45:33.583Z"
   },
   {
    "duration": 2342,
    "start_time": "2022-02-27T21:45:59.191Z"
   },
   {
    "duration": 2302,
    "start_time": "2022-02-27T21:46:32.596Z"
   },
   {
    "duration": 2262,
    "start_time": "2022-02-27T21:53:17.114Z"
   },
   {
    "duration": 2282,
    "start_time": "2022-02-27T22:42:39.253Z"
   },
   {
    "duration": 2308,
    "start_time": "2022-02-27T22:48:48.317Z"
   },
   {
    "duration": 2329,
    "start_time": "2022-02-27T22:52:22.936Z"
   },
   {
    "duration": 2533,
    "start_time": "2022-02-27T22:52:49.291Z"
   },
   {
    "duration": 2341,
    "start_time": "2022-02-27T22:56:17.723Z"
   },
   {
    "duration": 227,
    "start_time": "2022-02-27T23:14:39.469Z"
   },
   {
    "duration": 7783,
    "start_time": "2022-02-27T23:15:08.930Z"
   },
   {
    "duration": 1806,
    "start_time": "2022-02-27T23:15:36.337Z"
   },
   {
    "duration": 1857,
    "start_time": "2022-02-27T23:17:10.670Z"
   },
   {
    "duration": 570,
    "start_time": "2022-02-27T23:17:24.307Z"
   },
   {
    "duration": 402,
    "start_time": "2022-02-27T23:17:24.879Z"
   },
   {
    "duration": 86,
    "start_time": "2022-02-27T23:17:25.283Z"
   },
   {
    "duration": 93,
    "start_time": "2022-02-27T23:17:25.371Z"
   },
   {
    "duration": 62,
    "start_time": "2022-02-27T23:17:25.466Z"
   },
   {
    "duration": 182,
    "start_time": "2022-02-27T23:17:25.530Z"
   },
   {
    "duration": 206,
    "start_time": "2022-02-27T23:17:25.713Z"
   },
   {
    "duration": 39,
    "start_time": "2022-02-27T23:17:25.921Z"
   },
   {
    "duration": 10,
    "start_time": "2022-02-27T23:17:25.963Z"
   },
   {
    "duration": 2078,
    "start_time": "2022-02-27T23:17:25.974Z"
   },
   {
    "duration": 1895,
    "start_time": "2022-02-27T23:17:28.054Z"
   },
   {
    "duration": 1876,
    "start_time": "2022-02-27T23:18:38.021Z"
   },
   {
    "duration": 7614,
    "start_time": "2022-02-27T23:31:29.081Z"
   },
   {
    "duration": 2711,
    "start_time": "2022-02-27T23:31:57.374Z"
   },
   {
    "duration": 1857,
    "start_time": "2022-02-27T23:32:23.297Z"
   },
   {
    "duration": 1770,
    "start_time": "2022-02-28T00:18:37.689Z"
   },
   {
    "duration": 534,
    "start_time": "2022-02-28T10:32:19.221Z"
   },
   {
    "duration": 336,
    "start_time": "2022-02-28T10:32:19.757Z"
   },
   {
    "duration": 73,
    "start_time": "2022-02-28T10:32:20.095Z"
   },
   {
    "duration": 85,
    "start_time": "2022-02-28T10:32:20.169Z"
   },
   {
    "duration": 61,
    "start_time": "2022-02-28T10:32:20.255Z"
   },
   {
    "duration": 136,
    "start_time": "2022-02-28T10:32:20.317Z"
   },
   {
    "duration": 171,
    "start_time": "2022-02-28T10:32:20.455Z"
   },
   {
    "duration": 18,
    "start_time": "2022-02-28T10:32:20.627Z"
   },
   {
    "duration": 8,
    "start_time": "2022-02-28T10:32:20.647Z"
   },
   {
    "duration": 2002,
    "start_time": "2022-02-28T10:32:20.656Z"
   },
   {
    "duration": 1705,
    "start_time": "2022-02-28T10:32:22.660Z"
   },
   {
    "duration": 322,
    "start_time": "2022-02-28T10:36:17.510Z"
   },
   {
    "duration": 357,
    "start_time": "2022-02-28T10:36:34.764Z"
   },
   {
    "duration": 3829,
    "start_time": "2022-02-28T10:36:50.292Z"
   },
   {
    "duration": 4,
    "start_time": "2022-02-28T10:37:06.314Z"
   },
   {
    "duration": 263,
    "start_time": "2022-02-28T10:37:21.152Z"
   },
   {
    "duration": 1217,
    "start_time": "2022-02-28T10:38:15.178Z"
   },
   {
    "duration": 554,
    "start_time": "2022-02-28T10:38:58.049Z"
   },
   {
    "duration": 363,
    "start_time": "2022-02-28T10:38:58.604Z"
   },
   {
    "duration": 78,
    "start_time": "2022-02-28T10:38:58.968Z"
   },
   {
    "duration": 91,
    "start_time": "2022-02-28T10:38:59.049Z"
   },
   {
    "duration": 71,
    "start_time": "2022-02-28T10:38:59.142Z"
   },
   {
    "duration": 140,
    "start_time": "2022-02-28T10:38:59.215Z"
   },
   {
    "duration": 203,
    "start_time": "2022-02-28T10:38:59.357Z"
   },
   {
    "duration": 18,
    "start_time": "2022-02-28T10:38:59.561Z"
   },
   {
    "duration": 26,
    "start_time": "2022-02-28T10:38:59.581Z"
   },
   {
    "duration": 2056,
    "start_time": "2022-02-28T10:38:59.609Z"
   },
   {
    "duration": 1758,
    "start_time": "2022-02-28T10:39:01.667Z"
   },
   {
    "duration": 2,
    "start_time": "2022-02-28T10:39:03.427Z"
   },
   {
    "duration": 439,
    "start_time": "2022-02-28T10:40:04.767Z"
   },
   {
    "duration": 414,
    "start_time": "2022-02-28T10:40:28.115Z"
   },
   {
    "duration": 5,
    "start_time": "2022-02-28T10:40:39.321Z"
   },
   {
    "duration": 6,
    "start_time": "2022-02-28T10:40:59.090Z"
   },
   {
    "duration": 5,
    "start_time": "2022-02-28T10:41:26.650Z"
   },
   {
    "duration": 8,
    "start_time": "2022-02-28T10:42:12.322Z"
   },
   {
    "duration": 235,
    "start_time": "2022-02-28T10:47:54.195Z"
   },
   {
    "duration": 228,
    "start_time": "2022-02-28T10:50:07.260Z"
   },
   {
    "duration": 262,
    "start_time": "2022-02-28T10:53:05.929Z"
   },
   {
    "duration": 246,
    "start_time": "2022-02-28T10:53:38.003Z"
   },
   {
    "duration": 246,
    "start_time": "2022-02-28T10:54:28.611Z"
   },
   {
    "duration": 13,
    "start_time": "2022-02-28T10:54:52.460Z"
   },
   {
    "duration": 1722,
    "start_time": "2022-02-28T10:56:07.389Z"
   },
   {
    "duration": 1835,
    "start_time": "2022-02-28T10:57:36.813Z"
   },
   {
    "duration": 4,
    "start_time": "2022-02-28T10:58:05.084Z"
   },
   {
    "duration": 7265,
    "start_time": "2022-02-28T14:47:11.103Z"
   },
   {
    "duration": 575,
    "start_time": "2022-02-28T14:47:28.692Z"
   },
   {
    "duration": 427,
    "start_time": "2022-02-28T14:47:29.269Z"
   },
   {
    "duration": 77,
    "start_time": "2022-02-28T14:47:29.698Z"
   },
   {
    "duration": 87,
    "start_time": "2022-02-28T14:47:29.776Z"
   },
   {
    "duration": 76,
    "start_time": "2022-02-28T14:47:29.865Z"
   },
   {
    "duration": 159,
    "start_time": "2022-02-28T14:47:29.943Z"
   },
   {
    "duration": 175,
    "start_time": "2022-02-28T14:47:30.103Z"
   },
   {
    "duration": 31,
    "start_time": "2022-02-28T14:47:30.280Z"
   },
   {
    "duration": 9,
    "start_time": "2022-02-28T14:47:30.313Z"
   },
   {
    "duration": 1962,
    "start_time": "2022-02-28T14:47:30.324Z"
   },
   {
    "duration": 1730,
    "start_time": "2022-02-28T14:47:32.288Z"
   },
   {
    "duration": 7207,
    "start_time": "2022-02-28T14:47:34.019Z"
   },
   {
    "duration": 6157,
    "start_time": "2022-02-28T14:51:47.532Z"
   },
   {
    "duration": 261,
    "start_time": "2022-02-28T14:52:20.758Z"
   },
   {
    "duration": 567,
    "start_time": "2022-02-28T14:54:03.612Z"
   },
   {
    "duration": 352,
    "start_time": "2022-02-28T14:54:04.181Z"
   },
   {
    "duration": 77,
    "start_time": "2022-02-28T14:54:04.535Z"
   },
   {
    "duration": 72,
    "start_time": "2022-02-28T14:54:04.614Z"
   },
   {
    "duration": 72,
    "start_time": "2022-02-28T14:54:04.687Z"
   },
   {
    "duration": 162,
    "start_time": "2022-02-28T14:54:04.761Z"
   },
   {
    "duration": 183,
    "start_time": "2022-02-28T14:54:04.924Z"
   },
   {
    "duration": 17,
    "start_time": "2022-02-28T14:54:05.108Z"
   },
   {
    "duration": 8,
    "start_time": "2022-02-28T14:54:05.127Z"
   },
   {
    "duration": 1893,
    "start_time": "2022-02-28T14:54:05.137Z"
   },
   {
    "duration": 1696,
    "start_time": "2022-02-28T14:54:07.031Z"
   },
   {
    "duration": 17,
    "start_time": "2022-02-28T14:54:08.728Z"
   },
   {
    "duration": 580,
    "start_time": "2022-02-28T14:56:17.493Z"
   },
   {
    "duration": 367,
    "start_time": "2022-02-28T14:56:18.075Z"
   },
   {
    "duration": 80,
    "start_time": "2022-02-28T14:56:18.444Z"
   },
   {
    "duration": 89,
    "start_time": "2022-02-28T14:56:18.526Z"
   },
   {
    "duration": 57,
    "start_time": "2022-02-28T14:56:18.616Z"
   },
   {
    "duration": 153,
    "start_time": "2022-02-28T14:56:18.674Z"
   },
   {
    "duration": 189,
    "start_time": "2022-02-28T14:56:18.829Z"
   },
   {
    "duration": 19,
    "start_time": "2022-02-28T14:56:19.019Z"
   },
   {
    "duration": 10,
    "start_time": "2022-02-28T14:56:19.040Z"
   },
   {
    "duration": 1977,
    "start_time": "2022-02-28T14:56:19.051Z"
   },
   {
    "duration": 1833,
    "start_time": "2022-02-28T14:56:21.029Z"
   },
   {
    "duration": 12,
    "start_time": "2022-02-28T14:56:22.864Z"
   },
   {
    "duration": 595,
    "start_time": "2022-02-28T14:58:49.280Z"
   },
   {
    "duration": 365,
    "start_time": "2022-02-28T14:58:49.877Z"
   },
   {
    "duration": 81,
    "start_time": "2022-02-28T14:58:50.246Z"
   },
   {
    "duration": 88,
    "start_time": "2022-02-28T14:58:50.329Z"
   },
   {
    "duration": 58,
    "start_time": "2022-02-28T14:58:50.419Z"
   },
   {
    "duration": 160,
    "start_time": "2022-02-28T14:58:50.479Z"
   },
   {
    "duration": 229,
    "start_time": "2022-02-28T14:58:50.641Z"
   },
   {
    "duration": 40,
    "start_time": "2022-02-28T14:58:50.873Z"
   },
   {
    "duration": 26,
    "start_time": "2022-02-28T14:58:50.915Z"
   },
   {
    "duration": 2717,
    "start_time": "2022-02-28T14:58:50.943Z"
   },
   {
    "duration": 1794,
    "start_time": "2022-02-28T14:58:53.662Z"
   },
   {
    "duration": 17,
    "start_time": "2022-02-28T14:58:55.458Z"
   },
   {
    "duration": 108,
    "start_time": "2022-02-28T14:59:15.558Z"
   },
   {
    "duration": 571,
    "start_time": "2022-02-28T14:59:27.497Z"
   },
   {
    "duration": 371,
    "start_time": "2022-02-28T14:59:28.069Z"
   },
   {
    "duration": 75,
    "start_time": "2022-02-28T14:59:28.442Z"
   },
   {
    "duration": 76,
    "start_time": "2022-02-28T14:59:28.518Z"
   },
   {
    "duration": 55,
    "start_time": "2022-02-28T14:59:28.601Z"
   },
   {
    "duration": 153,
    "start_time": "2022-02-28T14:59:28.658Z"
   },
   {
    "duration": 190,
    "start_time": "2022-02-28T14:59:28.813Z"
   },
   {
    "duration": 21,
    "start_time": "2022-02-28T14:59:29.004Z"
   },
   {
    "duration": 25,
    "start_time": "2022-02-28T14:59:29.027Z"
   },
   {
    "duration": 2306,
    "start_time": "2022-02-28T14:59:29.054Z"
   },
   {
    "duration": 1701,
    "start_time": "2022-02-28T14:59:31.361Z"
   },
   {
    "duration": 79,
    "start_time": "2022-02-28T14:59:33.063Z"
   },
   {
    "duration": 87,
    "start_time": "2022-02-28T14:59:50.984Z"
   },
   {
    "duration": 19,
    "start_time": "2022-02-28T15:00:00.528Z"
   },
   {
    "duration": 873,
    "start_time": "2022-02-28T15:15:26.673Z"
   },
   {
    "duration": 3,
    "start_time": "2022-02-28T15:15:50.369Z"
   },
   {
    "duration": 703,
    "start_time": "2022-02-28T15:17:21.730Z"
   },
   {
    "duration": 415,
    "start_time": "2022-02-28T15:17:27.451Z"
   },
   {
    "duration": 636,
    "start_time": "2022-02-28T15:35:00.823Z"
   },
   {
    "duration": 387,
    "start_time": "2022-02-28T15:35:01.461Z"
   },
   {
    "duration": 76,
    "start_time": "2022-02-28T15:35:01.850Z"
   },
   {
    "duration": 80,
    "start_time": "2022-02-28T15:35:01.927Z"
   },
   {
    "duration": 56,
    "start_time": "2022-02-28T15:35:02.009Z"
   },
   {
    "duration": 153,
    "start_time": "2022-02-28T15:35:02.067Z"
   },
   {
    "duration": 180,
    "start_time": "2022-02-28T15:35:02.222Z"
   },
   {
    "duration": 17,
    "start_time": "2022-02-28T15:35:02.404Z"
   },
   {
    "duration": 8,
    "start_time": "2022-02-28T15:35:02.423Z"
   },
   {
    "duration": 2005,
    "start_time": "2022-02-28T15:35:02.433Z"
   },
   {
    "duration": 1727,
    "start_time": "2022-02-28T15:35:04.439Z"
   },
   {
    "duration": 17,
    "start_time": "2022-02-28T15:35:06.168Z"
   },
   {
    "duration": 423,
    "start_time": "2022-02-28T15:42:52.824Z"
   },
   {
    "duration": 170,
    "start_time": "2022-02-28T15:43:33.671Z"
   },
   {
    "duration": 18,
    "start_time": "2022-02-28T15:48:11.371Z"
   },
   {
    "duration": 163,
    "start_time": "2022-02-28T15:50:09.936Z"
   },
   {
    "duration": 152,
    "start_time": "2022-02-28T15:52:24.077Z"
   },
   {
    "duration": 4,
    "start_time": "2022-02-28T16:33:19.904Z"
   },
   {
    "duration": 4,
    "start_time": "2022-02-28T16:33:39.368Z"
   },
   {
    "duration": 145,
    "start_time": "2022-02-28T16:34:09.641Z"
   },
   {
    "duration": 166,
    "start_time": "2022-02-28T16:34:21.173Z"
   },
   {
    "duration": 170,
    "start_time": "2022-02-28T16:34:48.297Z"
   },
   {
    "duration": 220,
    "start_time": "2022-02-28T16:34:54.482Z"
   },
   {
    "duration": 11,
    "start_time": "2022-02-28T16:55:34.778Z"
   },
   {
    "duration": 320,
    "start_time": "2022-02-28T17:05:26.559Z"
   },
   {
    "duration": 339,
    "start_time": "2022-02-28T17:05:37.225Z"
   },
   {
    "duration": 365,
    "start_time": "2022-02-28T17:05:46.241Z"
   },
   {
    "duration": 424,
    "start_time": "2022-02-28T17:05:54.450Z"
   },
   {
    "duration": 1144,
    "start_time": "2022-03-01T11:02:35.370Z"
   },
   {
    "duration": 351,
    "start_time": "2022-03-01T11:02:36.515Z"
   },
   {
    "duration": 72,
    "start_time": "2022-03-01T11:02:36.868Z"
   },
   {
    "duration": 90,
    "start_time": "2022-03-01T11:02:36.942Z"
   },
   {
    "duration": 67,
    "start_time": "2022-03-01T11:02:37.034Z"
   },
   {
    "duration": 136,
    "start_time": "2022-03-01T11:02:37.103Z"
   },
   {
    "duration": 175,
    "start_time": "2022-03-01T11:02:37.241Z"
   },
   {
    "duration": 18,
    "start_time": "2022-03-01T11:02:37.418Z"
   },
   {
    "duration": 10,
    "start_time": "2022-03-01T11:02:37.437Z"
   },
   {
    "duration": 2010,
    "start_time": "2022-03-01T11:02:37.449Z"
   },
   {
    "duration": 1760,
    "start_time": "2022-03-01T11:02:39.461Z"
   },
   {
    "duration": 17,
    "start_time": "2022-03-01T11:02:41.223Z"
   },
   {
    "duration": 15,
    "start_time": "2022-03-01T11:02:41.241Z"
   },
   {
    "duration": 1477,
    "start_time": "2022-03-03T18:37:22.740Z"
   },
   {
    "duration": 495,
    "start_time": "2022-03-03T18:37:24.220Z"
   },
   {
    "duration": 145,
    "start_time": "2022-03-03T18:37:24.719Z"
   },
   {
    "duration": 135,
    "start_time": "2022-03-03T18:37:24.867Z"
   },
   {
    "duration": 110,
    "start_time": "2022-03-03T18:37:25.005Z"
   },
   {
    "duration": 247,
    "start_time": "2022-03-03T18:37:25.117Z"
   },
   {
    "duration": 286,
    "start_time": "2022-03-03T18:37:25.367Z"
   },
   {
    "duration": 31,
    "start_time": "2022-03-03T18:37:25.658Z"
   },
   {
    "duration": 13,
    "start_time": "2022-03-03T18:37:25.693Z"
   },
   {
    "duration": 3765,
    "start_time": "2022-03-03T18:37:25.708Z"
   },
   {
    "duration": 3233,
    "start_time": "2022-03-03T18:37:29.475Z"
   },
   {
    "duration": 51,
    "start_time": "2022-03-03T18:37:32.710Z"
   },
   {
    "duration": 1082,
    "start_time": "2022-03-04T07:47:19.412Z"
   },
   {
    "duration": 379,
    "start_time": "2022-03-04T07:47:20.496Z"
   },
   {
    "duration": 79,
    "start_time": "2022-03-04T07:47:20.876Z"
   },
   {
    "duration": 92,
    "start_time": "2022-03-04T07:47:20.957Z"
   },
   {
    "duration": 60,
    "start_time": "2022-03-04T07:47:21.051Z"
   },
   {
    "duration": 165,
    "start_time": "2022-03-04T07:47:21.133Z"
   },
   {
    "duration": 206,
    "start_time": "2022-03-04T07:47:21.300Z"
   },
   {
    "duration": 32,
    "start_time": "2022-03-04T07:47:21.507Z"
   },
   {
    "duration": 9,
    "start_time": "2022-03-04T07:47:21.541Z"
   },
   {
    "duration": 1907,
    "start_time": "2022-03-04T07:47:21.552Z"
   },
   {
    "duration": 1787,
    "start_time": "2022-03-04T07:47:23.461Z"
   },
   {
    "duration": 26,
    "start_time": "2022-03-04T07:47:25.249Z"
   },
   {
    "duration": 1277,
    "start_time": "2022-03-04T13:46:42.309Z"
   },
   {
    "duration": 462,
    "start_time": "2022-03-04T13:46:43.588Z"
   },
   {
    "duration": 103,
    "start_time": "2022-03-04T13:46:44.055Z"
   },
   {
    "duration": 113,
    "start_time": "2022-03-04T13:46:44.160Z"
   },
   {
    "duration": 82,
    "start_time": "2022-03-04T13:46:44.275Z"
   },
   {
    "duration": 162,
    "start_time": "2022-03-04T13:46:44.359Z"
   },
   {
    "duration": 209,
    "start_time": "2022-03-04T13:46:44.524Z"
   },
   {
    "duration": 21,
    "start_time": "2022-03-04T13:46:44.735Z"
   },
   {
    "duration": 9,
    "start_time": "2022-03-04T13:46:44.758Z"
   },
   {
    "duration": 2099,
    "start_time": "2022-03-04T13:46:44.769Z"
   },
   {
    "duration": 1900,
    "start_time": "2022-03-04T13:46:46.869Z"
   },
   {
    "duration": 21,
    "start_time": "2022-03-04T13:46:48.771Z"
   },
   {
    "duration": 1030,
    "start_time": "2022-03-05T09:10:23.093Z"
   },
   {
    "duration": 377,
    "start_time": "2022-03-05T09:10:24.125Z"
   },
   {
    "duration": 72,
    "start_time": "2022-03-05T09:10:24.505Z"
   },
   {
    "duration": 92,
    "start_time": "2022-03-05T09:10:24.578Z"
   },
   {
    "duration": 70,
    "start_time": "2022-03-05T09:10:24.671Z"
   },
   {
    "duration": 151,
    "start_time": "2022-03-05T09:10:24.743Z"
   },
   {
    "duration": 185,
    "start_time": "2022-03-05T09:10:24.902Z"
   },
   {
    "duration": 27,
    "start_time": "2022-03-05T09:10:25.089Z"
   },
   {
    "duration": 9,
    "start_time": "2022-03-05T09:10:25.117Z"
   },
   {
    "duration": 1961,
    "start_time": "2022-03-05T09:10:25.127Z"
   },
   {
    "duration": 1694,
    "start_time": "2022-03-05T09:10:27.089Z"
   },
   {
    "duration": 28,
    "start_time": "2022-03-05T09:10:28.785Z"
   },
   {
    "duration": 2710,
    "start_time": "2022-03-05T09:12:09.139Z"
   },
   {
    "duration": 1041,
    "start_time": "2022-03-05T09:12:44.487Z"
   },
   {
    "duration": 357,
    "start_time": "2022-03-05T09:12:45.530Z"
   },
   {
    "duration": 74,
    "start_time": "2022-03-05T09:12:45.889Z"
   },
   {
    "duration": 86,
    "start_time": "2022-03-05T09:12:45.965Z"
   },
   {
    "duration": 65,
    "start_time": "2022-03-05T09:12:46.053Z"
   },
   {
    "duration": 132,
    "start_time": "2022-03-05T09:12:46.119Z"
   },
   {
    "duration": 170,
    "start_time": "2022-03-05T09:12:46.253Z"
   },
   {
    "duration": 16,
    "start_time": "2022-03-05T09:12:46.425Z"
   },
   {
    "duration": 8,
    "start_time": "2022-03-05T09:12:46.443Z"
   },
   {
    "duration": 1866,
    "start_time": "2022-03-05T09:12:46.453Z"
   },
   {
    "duration": 2702,
    "start_time": "2022-03-05T09:12:48.320Z"
   },
   {
    "duration": -1648,
    "start_time": "2022-03-05T09:12:52.671Z"
   },
   {
    "duration": 1698,
    "start_time": "2022-03-05T09:14:43.319Z"
   },
   {
    "duration": 1721,
    "start_time": "2022-03-05T09:15:48.913Z"
   },
   {
    "duration": 18,
    "start_time": "2022-03-05T09:16:19.525Z"
   },
   {
    "duration": 3,
    "start_time": "2022-03-05T09:57:05.918Z"
   },
   {
    "duration": 13,
    "start_time": "2022-03-05T10:35:39.848Z"
   },
   {
    "duration": 5,
    "start_time": "2022-03-05T10:39:51.138Z"
   },
   {
    "duration": 1322,
    "start_time": "2022-03-05T10:40:15.576Z"
   },
   {
    "duration": 4248,
    "start_time": "2022-03-05T10:40:30.402Z"
   },
   {
    "duration": 4,
    "start_time": "2022-03-05T10:41:03.538Z"
   },
   {
    "duration": 5,
    "start_time": "2022-03-05T10:41:07.617Z"
   },
   {
    "duration": 5,
    "start_time": "2022-03-05T10:41:27.505Z"
   },
   {
    "duration": 5,
    "start_time": "2022-03-05T10:41:36.473Z"
   },
   {
    "duration": 250,
    "start_time": "2022-03-05T10:41:56.538Z"
   },
   {
    "duration": 259,
    "start_time": "2022-03-05T10:42:05.593Z"
   },
   {
    "duration": 4,
    "start_time": "2022-03-05T10:42:16.753Z"
   },
   {
    "duration": 268,
    "start_time": "2022-03-05T10:42:28.193Z"
   },
   {
    "duration": 5,
    "start_time": "2022-03-05T10:42:45.385Z"
   },
   {
    "duration": 256,
    "start_time": "2022-03-05T10:43:36.793Z"
   },
   {
    "duration": 267,
    "start_time": "2022-03-05T10:43:57.106Z"
   },
   {
    "duration": 5,
    "start_time": "2022-03-05T10:44:03.641Z"
   },
   {
    "duration": 244,
    "start_time": "2022-03-05T10:44:27.705Z"
   },
   {
    "duration": 4,
    "start_time": "2022-03-05T10:44:36.457Z"
   },
   {
    "duration": 5,
    "start_time": "2022-03-05T10:44:56.809Z"
   },
   {
    "duration": 5,
    "start_time": "2022-03-05T10:45:04.833Z"
   },
   {
    "duration": 5,
    "start_time": "2022-03-05T10:45:10.914Z"
   },
   {
    "duration": 246,
    "start_time": "2022-03-05T10:48:25.792Z"
   },
   {
    "duration": 252,
    "start_time": "2022-03-05T10:48:43.112Z"
   },
   {
    "duration": 3,
    "start_time": "2022-03-05T10:49:38.816Z"
   },
   {
    "duration": 249,
    "start_time": "2022-03-05T10:51:14.712Z"
   },
   {
    "duration": 245,
    "start_time": "2022-03-05T10:51:20.168Z"
   },
   {
    "duration": 250,
    "start_time": "2022-03-05T10:56:00.168Z"
   },
   {
    "duration": 238,
    "start_time": "2022-03-05T10:56:07.328Z"
   },
   {
    "duration": 492,
    "start_time": "2022-03-05T10:57:58.383Z"
   },
   {
    "duration": 509,
    "start_time": "2022-03-05T10:58:13.375Z"
   },
   {
    "duration": 479,
    "start_time": "2022-03-05T10:58:31.504Z"
   },
   {
    "duration": 555,
    "start_time": "2022-03-05T10:58:58.512Z"
   },
   {
    "duration": 261,
    "start_time": "2022-03-05T10:59:03.641Z"
   },
   {
    "duration": 249,
    "start_time": "2022-03-05T10:59:21.640Z"
   },
   {
    "duration": 251,
    "start_time": "2022-03-05T11:06:27.472Z"
   },
   {
    "duration": 241,
    "start_time": "2022-03-05T11:06:57.840Z"
   },
   {
    "duration": 239,
    "start_time": "2022-03-05T11:07:15.831Z"
   },
   {
    "duration": 236,
    "start_time": "2022-03-05T11:25:16.015Z"
   },
   {
    "duration": 237,
    "start_time": "2022-03-05T11:26:34.839Z"
   },
   {
    "duration": 13,
    "start_time": "2022-03-05T11:38:22.238Z"
   },
   {
    "duration": 1033,
    "start_time": "2022-03-05T11:39:10.124Z"
   },
   {
    "duration": 362,
    "start_time": "2022-03-05T11:39:11.159Z"
   },
   {
    "duration": 81,
    "start_time": "2022-03-05T11:39:11.523Z"
   },
   {
    "duration": 70,
    "start_time": "2022-03-05T11:39:11.606Z"
   },
   {
    "duration": 69,
    "start_time": "2022-03-05T11:39:11.678Z"
   },
   {
    "duration": 158,
    "start_time": "2022-03-05T11:39:11.748Z"
   },
   {
    "duration": 177,
    "start_time": "2022-03-05T11:39:11.907Z"
   },
   {
    "duration": 28,
    "start_time": "2022-03-05T11:39:12.087Z"
   },
   {
    "duration": 10,
    "start_time": "2022-03-05T11:39:12.117Z"
   },
   {
    "duration": 1959,
    "start_time": "2022-03-05T11:39:12.128Z"
   },
   {
    "duration": 1840,
    "start_time": "2022-03-05T11:39:14.101Z"
   },
   {
    "duration": 19,
    "start_time": "2022-03-05T11:39:15.942Z"
   },
   {
    "duration": 336,
    "start_time": "2022-03-05T11:39:15.963Z"
   },
   {
    "duration": -1656,
    "start_time": "2022-03-05T11:39:17.956Z"
   },
   {
    "duration": 262,
    "start_time": "2022-03-05T11:39:59.382Z"
   },
   {
    "duration": 14,
    "start_time": "2022-03-05T11:40:05.238Z"
   },
   {
    "duration": 237,
    "start_time": "2022-03-05T11:43:08.687Z"
   },
   {
    "duration": 994,
    "start_time": "2022-03-05T16:24:28.138Z"
   },
   {
    "duration": 357,
    "start_time": "2022-03-05T16:24:29.134Z"
   },
   {
    "duration": 80,
    "start_time": "2022-03-05T16:24:29.493Z"
   },
   {
    "duration": 91,
    "start_time": "2022-03-05T16:24:29.574Z"
   },
   {
    "duration": 64,
    "start_time": "2022-03-05T16:24:29.667Z"
   },
   {
    "duration": 133,
    "start_time": "2022-03-05T16:24:29.732Z"
   },
   {
    "duration": 197,
    "start_time": "2022-03-05T16:24:29.866Z"
   },
   {
    "duration": 11,
    "start_time": "2022-03-05T16:24:30.065Z"
   },
   {
    "duration": 1842,
    "start_time": "2022-03-05T16:24:30.101Z"
   },
   {
    "duration": 1882,
    "start_time": "2022-03-05T16:24:31.945Z"
   },
   {
    "duration": 16,
    "start_time": "2022-03-05T16:24:33.829Z"
   },
   {
    "duration": 256,
    "start_time": "2022-03-05T16:24:33.847Z"
   },
   {
    "duration": 241,
    "start_time": "2022-03-05T16:24:34.105Z"
   },
   {
    "duration": 12,
    "start_time": "2022-03-05T16:26:46.451Z"
   },
   {
    "duration": 27,
    "start_time": "2022-03-05T16:27:57.934Z"
   },
   {
    "duration": 40,
    "start_time": "2022-03-05T16:47:09.254Z"
   },
   {
    "duration": 100,
    "start_time": "2022-03-05T17:03:23.656Z"
   },
   {
    "duration": 340,
    "start_time": "2022-03-05T17:03:34.532Z"
   },
   {
    "duration": 5,
    "start_time": "2022-03-05T17:04:50.242Z"
   },
   {
    "duration": 6,
    "start_time": "2022-03-05T17:05:02.667Z"
   },
   {
    "duration": 259,
    "start_time": "2022-03-05T17:05:41.863Z"
   },
   {
    "duration": 5,
    "start_time": "2022-03-05T17:06:37.929Z"
   },
   {
    "duration": 5,
    "start_time": "2022-03-05T17:06:51.996Z"
   },
   {
    "duration": 5,
    "start_time": "2022-03-05T17:07:12.010Z"
   },
   {
    "duration": 241,
    "start_time": "2022-03-05T17:07:31.372Z"
   },
   {
    "duration": 271,
    "start_time": "2022-03-05T17:08:03.922Z"
   },
   {
    "duration": 262,
    "start_time": "2022-03-05T17:08:32.830Z"
   },
   {
    "duration": 5,
    "start_time": "2022-03-05T17:08:42.031Z"
   },
   {
    "duration": 8,
    "start_time": "2022-03-05T17:08:51.415Z"
   },
   {
    "duration": 12,
    "start_time": "2022-03-05T17:09:05.601Z"
   },
   {
    "duration": 5,
    "start_time": "2022-03-05T17:09:16.687Z"
   },
   {
    "duration": 249,
    "start_time": "2022-03-05T17:09:22.118Z"
   },
   {
    "duration": 6,
    "start_time": "2022-03-05T17:09:26.074Z"
   },
   {
    "duration": 6,
    "start_time": "2022-03-05T17:09:34.456Z"
   },
   {
    "duration": 5,
    "start_time": "2022-03-05T17:09:40.021Z"
   },
   {
    "duration": 261,
    "start_time": "2022-03-05T17:09:58.938Z"
   },
   {
    "duration": 278,
    "start_time": "2022-03-05T17:10:35.992Z"
   },
   {
    "duration": 1655,
    "start_time": "2022-03-05T17:11:16.963Z"
   },
   {
    "duration": 5,
    "start_time": "2022-03-05T17:11:28.852Z"
   },
   {
    "duration": 4,
    "start_time": "2022-03-05T17:11:35.195Z"
   },
   {
    "duration": 6,
    "start_time": "2022-03-05T17:11:38.886Z"
   },
   {
    "duration": 264,
    "start_time": "2022-03-05T17:11:43.431Z"
   },
   {
    "duration": 271,
    "start_time": "2022-03-05T17:11:55.221Z"
   },
   {
    "duration": 251,
    "start_time": "2022-03-05T17:12:05.997Z"
   },
   {
    "duration": 4,
    "start_time": "2022-03-05T17:12:12.407Z"
   },
   {
    "duration": 5,
    "start_time": "2022-03-05T17:12:30.410Z"
   },
   {
    "duration": 6,
    "start_time": "2022-03-05T17:12:34.776Z"
   },
   {
    "duration": 3850,
    "start_time": "2022-03-05T17:12:48.434Z"
   },
   {
    "duration": 7,
    "start_time": "2022-03-05T17:13:23.233Z"
   },
   {
    "duration": 6,
    "start_time": "2022-03-05T17:15:11.879Z"
   },
   {
    "duration": 3809,
    "start_time": "2022-03-05T17:15:14.108Z"
   },
   {
    "duration": 5,
    "start_time": "2022-03-05T17:18:26.800Z"
   },
   {
    "duration": 5,
    "start_time": "2022-03-05T17:18:35.220Z"
   },
   {
    "duration": 5,
    "start_time": "2022-03-05T17:20:39.781Z"
   },
   {
    "duration": 5,
    "start_time": "2022-03-05T17:21:32.067Z"
   },
   {
    "duration": 5,
    "start_time": "2022-03-05T17:21:38.640Z"
   },
   {
    "duration": 5,
    "start_time": "2022-03-05T17:21:45.822Z"
   },
   {
    "duration": 3779,
    "start_time": "2022-03-05T17:46:48.993Z"
   },
   {
    "duration": 3999,
    "start_time": "2022-03-05T17:48:15.921Z"
   },
   {
    "duration": 5,
    "start_time": "2022-03-05T17:48:48.898Z"
   },
   {
    "duration": 6,
    "start_time": "2022-03-05T17:48:54.702Z"
   },
   {
    "duration": 3889,
    "start_time": "2022-03-05T17:49:21.486Z"
   },
   {
    "duration": 4041,
    "start_time": "2022-03-05T17:49:51.908Z"
   },
   {
    "duration": 4035,
    "start_time": "2022-03-05T17:50:01.100Z"
   },
   {
    "duration": 5,
    "start_time": "2022-03-05T17:50:07.407Z"
   },
   {
    "duration": 4,
    "start_time": "2022-03-05T17:50:18.498Z"
   },
   {
    "duration": 5,
    "start_time": "2022-03-05T17:51:00.465Z"
   },
   {
    "duration": 6,
    "start_time": "2022-03-05T17:51:08.239Z"
   },
   {
    "duration": 3843,
    "start_time": "2022-03-05T17:51:25.368Z"
   },
   {
    "duration": 6,
    "start_time": "2022-03-05T17:52:02.487Z"
   },
   {
    "duration": 3918,
    "start_time": "2022-03-05T17:52:41.217Z"
   },
   {
    "duration": 5,
    "start_time": "2022-03-05T17:53:05.035Z"
   },
   {
    "duration": 3747,
    "start_time": "2022-03-05T17:53:11.166Z"
   },
   {
    "duration": 7,
    "start_time": "2022-03-05T17:53:19.304Z"
   },
   {
    "duration": 6,
    "start_time": "2022-03-05T17:53:36.003Z"
   },
   {
    "duration": 6,
    "start_time": "2022-03-05T17:53:44.690Z"
   },
   {
    "duration": 268,
    "start_time": "2022-03-05T17:53:59.796Z"
   },
   {
    "duration": 6,
    "start_time": "2022-03-05T17:54:07.095Z"
   },
   {
    "duration": 1691,
    "start_time": "2022-03-05T17:54:23.810Z"
   },
   {
    "duration": 89,
    "start_time": "2022-03-05T18:03:44.290Z"
   },
   {
    "duration": 83,
    "start_time": "2022-03-05T18:04:26.308Z"
   },
   {
    "duration": 268,
    "start_time": "2022-03-05T18:05:12.254Z"
   },
   {
    "duration": 1150,
    "start_time": "2022-03-05T18:05:20.554Z"
   },
   {
    "duration": 2731,
    "start_time": "2022-03-05T18:05:53.608Z"
   },
   {
    "duration": 4726,
    "start_time": "2022-03-05T19:33:31.015Z"
   },
   {
    "duration": 3371,
    "start_time": "2022-03-05T19:40:25.053Z"
   },
   {
    "duration": 3473,
    "start_time": "2022-03-05T20:27:28.107Z"
   },
   {
    "duration": 3463,
    "start_time": "2022-03-05T20:44:45.747Z"
   },
   {
    "duration": 3398,
    "start_time": "2022-03-05T20:45:20.141Z"
   },
   {
    "duration": 3385,
    "start_time": "2022-03-05T20:45:33.618Z"
   },
   {
    "duration": 1248,
    "start_time": "2022-03-05T20:48:37.464Z"
   },
   {
    "duration": 3541,
    "start_time": "2022-03-05T20:48:56.115Z"
   },
   {
    "duration": 3791,
    "start_time": "2022-03-05T20:50:39.893Z"
   },
   {
    "duration": 3731,
    "start_time": "2022-03-05T20:51:14.619Z"
   },
   {
    "duration": 4028,
    "start_time": "2022-03-05T20:52:13.770Z"
   },
   {
    "duration": 3606,
    "start_time": "2022-03-05T20:53:54.900Z"
   },
   {
    "duration": 3420,
    "start_time": "2022-03-05T20:54:14.823Z"
   },
   {
    "duration": 5280,
    "start_time": "2022-03-05T20:55:07.532Z"
   },
   {
    "duration": 1359,
    "start_time": "2022-03-05T20:55:32.821Z"
   },
   {
    "duration": 1518,
    "start_time": "2022-03-05T20:55:58.057Z"
   },
   {
    "duration": 3628,
    "start_time": "2022-03-05T20:56:08.895Z"
   },
   {
    "duration": 1023,
    "start_time": "2022-03-05T21:02:58.722Z"
   },
   {
    "duration": 378,
    "start_time": "2022-03-05T21:02:59.747Z"
   },
   {
    "duration": 72,
    "start_time": "2022-03-05T21:03:00.127Z"
   },
   {
    "duration": 74,
    "start_time": "2022-03-05T21:03:00.201Z"
   },
   {
    "duration": 70,
    "start_time": "2022-03-05T21:03:00.276Z"
   },
   {
    "duration": 173,
    "start_time": "2022-03-05T21:03:00.347Z"
   },
   {
    "duration": 192,
    "start_time": "2022-03-05T21:03:00.522Z"
   },
   {
    "duration": 9,
    "start_time": "2022-03-05T21:03:00.716Z"
   },
   {
    "duration": 1918,
    "start_time": "2022-03-05T21:03:00.726Z"
   },
   {
    "duration": 1701,
    "start_time": "2022-03-05T21:03:02.646Z"
   },
   {
    "duration": 18,
    "start_time": "2022-03-05T21:03:04.349Z"
   },
   {
    "duration": 3720,
    "start_time": "2022-03-05T21:03:04.369Z"
   },
   {
    "duration": 252,
    "start_time": "2022-03-05T21:03:08.090Z"
   },
   {
    "duration": 264,
    "start_time": "2022-03-05T21:03:08.343Z"
   },
   {
    "duration": 2,
    "start_time": "2022-03-05T21:04:33.464Z"
   },
   {
    "duration": 638,
    "start_time": "2022-03-05T21:04:38.710Z"
   },
   {
    "duration": 372,
    "start_time": "2022-03-05T21:04:39.349Z"
   },
   {
    "duration": 74,
    "start_time": "2022-03-05T21:04:39.723Z"
   },
   {
    "duration": 73,
    "start_time": "2022-03-05T21:04:39.801Z"
   },
   {
    "duration": 65,
    "start_time": "2022-03-05T21:04:39.876Z"
   },
   {
    "duration": 163,
    "start_time": "2022-03-05T21:04:39.942Z"
   },
   {
    "duration": 194,
    "start_time": "2022-03-05T21:04:40.107Z"
   },
   {
    "duration": 8,
    "start_time": "2022-03-05T21:04:40.303Z"
   },
   {
    "duration": 2026,
    "start_time": "2022-03-05T21:04:40.313Z"
   },
   {
    "duration": 1712,
    "start_time": "2022-03-05T21:04:42.340Z"
   },
   {
    "duration": 17,
    "start_time": "2022-03-05T21:04:44.053Z"
   },
   {
    "duration": 3837,
    "start_time": "2022-03-05T21:04:44.071Z"
   },
   {
    "duration": 577,
    "start_time": "2022-03-05T21:04:47.909Z"
   },
   {
    "duration": -73,
    "start_time": "2022-03-05T21:04:48.560Z"
   },
   {
    "duration": 14,
    "start_time": "2022-03-05T21:05:04.351Z"
   },
   {
    "duration": 482,
    "start_time": "2022-03-05T21:05:14.511Z"
   },
   {
    "duration": 790,
    "start_time": "2022-03-05T21:05:50.006Z"
   },
   {
    "duration": 519,
    "start_time": "2022-03-05T21:05:50.798Z"
   },
   {
    "duration": 120,
    "start_time": "2022-03-05T21:05:51.320Z"
   },
   {
    "duration": 124,
    "start_time": "2022-03-05T21:05:51.442Z"
   },
   {
    "duration": 89,
    "start_time": "2022-03-05T21:05:51.568Z"
   },
   {
    "duration": 165,
    "start_time": "2022-03-05T21:05:51.658Z"
   },
   {
    "duration": 197,
    "start_time": "2022-03-05T21:05:51.824Z"
   },
   {
    "duration": 8,
    "start_time": "2022-03-05T21:05:52.022Z"
   },
   {
    "duration": 1874,
    "start_time": "2022-03-05T21:05:52.033Z"
   },
   {
    "duration": 1754,
    "start_time": "2022-03-05T21:05:53.909Z"
   },
   {
    "duration": 40,
    "start_time": "2022-03-05T21:05:55.664Z"
   },
   {
    "duration": 3723,
    "start_time": "2022-03-05T21:05:55.705Z"
   },
   {
    "duration": 771,
    "start_time": "2022-03-05T21:05:59.430Z"
   },
   {
    "duration": -69,
    "start_time": "2022-03-05T21:06:00.272Z"
   },
   {
    "duration": 360,
    "start_time": "2022-03-05T21:06:40.025Z"
   },
   {
    "duration": 246,
    "start_time": "2022-03-05T21:06:54.769Z"
   },
   {
    "duration": 255,
    "start_time": "2022-03-05T21:06:59.704Z"
   },
   {
    "duration": 979,
    "start_time": "2022-03-05T21:07:07.841Z"
   },
   {
    "duration": 391,
    "start_time": "2022-03-05T21:07:08.822Z"
   },
   {
    "duration": 90,
    "start_time": "2022-03-05T21:07:09.215Z"
   },
   {
    "duration": 74,
    "start_time": "2022-03-05T21:07:09.307Z"
   },
   {
    "duration": 72,
    "start_time": "2022-03-05T21:07:09.383Z"
   },
   {
    "duration": 170,
    "start_time": "2022-03-05T21:07:09.457Z"
   },
   {
    "duration": 194,
    "start_time": "2022-03-05T21:07:09.628Z"
   },
   {
    "duration": 9,
    "start_time": "2022-03-05T21:07:09.825Z"
   },
   {
    "duration": 2014,
    "start_time": "2022-03-05T21:07:09.836Z"
   },
   {
    "duration": 1750,
    "start_time": "2022-03-05T21:07:11.852Z"
   },
   {
    "duration": 17,
    "start_time": "2022-03-05T21:07:13.604Z"
   },
   {
    "duration": 3800,
    "start_time": "2022-03-05T21:07:13.622Z"
   },
   {
    "duration": 261,
    "start_time": "2022-03-05T21:07:17.423Z"
   },
   {
    "duration": 256,
    "start_time": "2022-03-05T21:07:17.685Z"
   },
   {
    "duration": 5,
    "start_time": "2022-03-05T21:22:03.909Z"
   },
   {
    "duration": 6,
    "start_time": "2022-03-05T21:22:38.602Z"
   },
   {
    "duration": 1041,
    "start_time": "2022-03-06T01:52:29.121Z"
   },
   {
    "duration": 457,
    "start_time": "2022-03-06T01:52:30.164Z"
   },
   {
    "duration": 85,
    "start_time": "2022-03-06T01:52:30.623Z"
   },
   {
    "duration": 74,
    "start_time": "2022-03-06T01:52:30.710Z"
   },
   {
    "duration": 55,
    "start_time": "2022-03-06T01:52:30.802Z"
   },
   {
    "duration": 164,
    "start_time": "2022-03-06T01:52:30.859Z"
   },
   {
    "duration": 191,
    "start_time": "2022-03-06T01:52:31.024Z"
   },
   {
    "duration": 8,
    "start_time": "2022-03-06T01:52:31.216Z"
   },
   {
    "duration": 1862,
    "start_time": "2022-03-06T01:52:31.226Z"
   },
   {
    "duration": 1712,
    "start_time": "2022-03-06T01:52:33.090Z"
   },
   {
    "duration": 6,
    "start_time": "2022-03-06T01:52:34.803Z"
   },
   {
    "duration": 30,
    "start_time": "2022-03-06T01:52:34.810Z"
   },
   {
    "duration": 3730,
    "start_time": "2022-03-06T01:52:34.842Z"
   },
   {
    "duration": 269,
    "start_time": "2022-03-06T01:52:38.574Z"
   },
   {
    "duration": 249,
    "start_time": "2022-03-06T01:52:38.845Z"
   },
   {
    "duration": 2,
    "start_time": "2022-03-06T01:52:39.101Z"
   },
   {
    "duration": 8,
    "start_time": "2022-03-06T01:52:49.094Z"
   },
   {
    "duration": 316,
    "start_time": "2022-03-06T01:52:54.157Z"
   },
   {
    "duration": 3,
    "start_time": "2022-03-06T01:53:03.734Z"
   },
   {
    "duration": 4,
    "start_time": "2022-03-06T01:54:08.077Z"
   },
   {
    "duration": 6,
    "start_time": "2022-03-06T01:56:07.430Z"
   },
   {
    "duration": 4,
    "start_time": "2022-03-06T01:56:15.053Z"
   },
   {
    "duration": 956,
    "start_time": "2022-03-06T02:13:55.867Z"
   },
   {
    "duration": 393,
    "start_time": "2022-03-06T02:13:56.825Z"
   },
   {
    "duration": 71,
    "start_time": "2022-03-06T02:13:57.220Z"
   },
   {
    "duration": 72,
    "start_time": "2022-03-06T02:13:57.292Z"
   },
   {
    "duration": 66,
    "start_time": "2022-03-06T02:13:57.365Z"
   },
   {
    "duration": 154,
    "start_time": "2022-03-06T02:13:57.432Z"
   },
   {
    "duration": 190,
    "start_time": "2022-03-06T02:13:57.587Z"
   },
   {
    "duration": 22,
    "start_time": "2022-03-06T02:13:57.779Z"
   },
   {
    "duration": 1829,
    "start_time": "2022-03-06T02:13:57.803Z"
   },
   {
    "duration": 1710,
    "start_time": "2022-03-06T02:13:59.634Z"
   },
   {
    "duration": 5,
    "start_time": "2022-03-06T02:14:01.345Z"
   },
   {
    "duration": 20,
    "start_time": "2022-03-06T02:14:01.352Z"
   },
   {
    "duration": 3669,
    "start_time": "2022-03-06T02:14:01.374Z"
   },
   {
    "duration": 260,
    "start_time": "2022-03-06T02:14:05.044Z"
   },
   {
    "duration": 248,
    "start_time": "2022-03-06T02:14:05.306Z"
   },
   {
    "duration": 6,
    "start_time": "2022-03-06T02:14:05.556Z"
   },
   {
    "duration": 318,
    "start_time": "2022-03-07T13:15:38.995Z"
   },
   {
    "duration": 1135,
    "start_time": "2022-03-07T13:15:42.229Z"
   },
   {
    "duration": 420,
    "start_time": "2022-03-07T13:15:43.366Z"
   },
   {
    "duration": 83,
    "start_time": "2022-03-07T13:15:43.788Z"
   },
   {
    "duration": 80,
    "start_time": "2022-03-07T13:15:44.286Z"
   },
   {
    "duration": 102,
    "start_time": "2022-03-07T13:18:09.534Z"
   },
   {
    "duration": 59,
    "start_time": "2022-03-07T13:19:45.474Z"
   },
   {
    "duration": 144,
    "start_time": "2022-03-07T13:20:10.179Z"
   },
   {
    "duration": 177,
    "start_time": "2022-03-07T13:22:29.268Z"
   },
   {
    "duration": 9,
    "start_time": "2022-03-07T13:25:20.779Z"
   },
   {
    "duration": 16,
    "start_time": "2022-03-07T13:25:25.397Z"
   },
   {
    "duration": 1889,
    "start_time": "2022-03-07T13:25:36.503Z"
   },
   {
    "duration": 44,
    "start_time": "2022-03-07T13:50:27.202Z"
   },
   {
    "duration": 1721,
    "start_time": "2022-03-07T13:58:56.624Z"
   },
   {
    "duration": 6,
    "start_time": "2022-03-07T13:58:58.346Z"
   },
   {
    "duration": 18,
    "start_time": "2022-03-07T14:01:33.384Z"
   },
   {
    "duration": 7,
    "start_time": "2022-03-07T14:03:17.588Z"
   },
   {
    "duration": 324,
    "start_time": "2022-03-07T14:07:01.993Z"
   },
   {
    "duration": 348,
    "start_time": "2022-03-07T14:07:03.531Z"
   },
   {
    "duration": 15,
    "start_time": "2022-03-07T14:07:13.130Z"
   },
   {
    "duration": 4027,
    "start_time": "2022-03-07T14:30:11.667Z"
   },
   {
    "duration": 240,
    "start_time": "2022-03-07T14:41:06.803Z"
   },
   {
    "duration": 8,
    "start_time": "2022-03-07T14:41:28.955Z"
   },
   {
    "duration": 15,
    "start_time": "2022-03-07T14:41:53.679Z"
   },
   {
    "duration": 96,
    "start_time": "2022-03-07T14:42:15.287Z"
   },
   {
    "duration": 5,
    "start_time": "2022-03-07T14:42:16.893Z"
   },
   {
    "duration": 5,
    "start_time": "2022-03-07T14:42:20.513Z"
   },
   {
    "duration": 5,
    "start_time": "2022-03-07T14:42:45.352Z"
   },
   {
    "duration": 3,
    "start_time": "2022-03-07T14:48:33.806Z"
   },
   {
    "duration": 1013,
    "start_time": "2022-03-07T15:02:57.527Z"
   },
   {
    "duration": 399,
    "start_time": "2022-03-07T15:02:58.542Z"
   },
   {
    "duration": 79,
    "start_time": "2022-03-07T15:02:58.942Z"
   },
   {
    "duration": 70,
    "start_time": "2022-03-07T15:02:59.237Z"
   },
   {
    "duration": 59,
    "start_time": "2022-03-07T15:02:59.401Z"
   },
   {
    "duration": 146,
    "start_time": "2022-03-07T15:02:59.484Z"
   },
   {
    "duration": 187,
    "start_time": "2022-03-07T15:02:59.821Z"
   },
   {
    "duration": 8,
    "start_time": "2022-03-07T15:03:00.010Z"
   },
   {
    "duration": 2053,
    "start_time": "2022-03-07T15:03:00.071Z"
   },
   {
    "duration": 1797,
    "start_time": "2022-03-07T15:03:02.125Z"
   },
   {
    "duration": 6,
    "start_time": "2022-03-07T15:03:03.924Z"
   },
   {
    "duration": 23,
    "start_time": "2022-03-07T15:03:03.932Z"
   },
   {
    "duration": 3861,
    "start_time": "2022-03-07T15:03:03.957Z"
   },
   {
    "duration": 243,
    "start_time": "2022-03-07T15:03:16.016Z"
   },
   {
    "duration": 265,
    "start_time": "2022-03-07T15:03:18.905Z"
   },
   {
    "duration": 4,
    "start_time": "2022-03-07T15:03:20.204Z"
   },
   {
    "duration": 1099,
    "start_time": "2022-03-08T10:47:44.671Z"
   },
   {
    "duration": 389,
    "start_time": "2022-03-08T10:47:45.772Z"
   },
   {
    "duration": 91,
    "start_time": "2022-03-08T10:47:46.163Z"
   },
   {
    "duration": 111,
    "start_time": "2022-03-08T10:47:46.256Z"
   },
   {
    "duration": 81,
    "start_time": "2022-03-08T10:47:46.369Z"
   },
   {
    "duration": 189,
    "start_time": "2022-03-08T10:47:46.453Z"
   },
   {
    "duration": 225,
    "start_time": "2022-03-08T10:47:46.644Z"
   },
   {
    "duration": 33,
    "start_time": "2022-03-08T10:47:46.872Z"
   },
   {
    "duration": 2214,
    "start_time": "2022-03-08T10:47:46.907Z"
   },
   {
    "duration": 2106,
    "start_time": "2022-03-08T10:47:49.123Z"
   },
   {
    "duration": 7,
    "start_time": "2022-03-08T10:47:51.231Z"
   },
   {
    "duration": 23,
    "start_time": "2022-03-08T10:47:51.240Z"
   },
   {
    "duration": 4495,
    "start_time": "2022-03-08T10:47:51.264Z"
   },
   {
    "duration": 297,
    "start_time": "2022-03-08T10:47:55.761Z"
   },
   {
    "duration": 286,
    "start_time": "2022-03-08T10:47:56.060Z"
   },
   {
    "duration": 19,
    "start_time": "2022-03-08T10:47:56.347Z"
   },
   {
    "duration": 8,
    "start_time": "2022-03-08T11:21:57.154Z"
   },
   {
    "duration": 9,
    "start_time": "2022-03-08T11:23:07.335Z"
   },
   {
    "duration": 1106,
    "start_time": "2022-03-08T11:28:10.569Z"
   },
   {
    "duration": 394,
    "start_time": "2022-03-08T11:28:11.677Z"
   },
   {
    "duration": 89,
    "start_time": "2022-03-08T11:28:12.073Z"
   },
   {
    "duration": 82,
    "start_time": "2022-03-08T11:28:15.281Z"
   },
   {
    "duration": 70,
    "start_time": "2022-03-08T11:28:16.409Z"
   },
   {
    "duration": 161,
    "start_time": "2022-03-08T11:28:17.153Z"
   },
   {
    "duration": 219,
    "start_time": "2022-03-08T11:28:23.393Z"
   },
   {
    "duration": 14,
    "start_time": "2022-03-08T11:28:32.691Z"
   },
   {
    "duration": 13,
    "start_time": "2022-03-08T11:28:36.931Z"
   },
   {
    "duration": 27,
    "start_time": "2022-03-08T11:28:43.106Z"
   },
   {
    "duration": 7,
    "start_time": "2022-03-08T11:32:03.842Z"
   },
   {
    "duration": 3750,
    "start_time": "2022-03-08T11:32:51.402Z"
   },
   {
    "duration": 6,
    "start_time": "2022-03-08T11:33:13.354Z"
   },
   {
    "duration": 8,
    "start_time": "2022-03-08T11:33:37.882Z"
   },
   {
    "duration": 5,
    "start_time": "2022-03-08T11:33:46.837Z"
   },
   {
    "duration": 6,
    "start_time": "2022-03-08T11:36:14.682Z"
   },
   {
    "duration": 5,
    "start_time": "2022-03-08T11:36:27.609Z"
   },
   {
    "duration": 6,
    "start_time": "2022-03-08T11:36:33.664Z"
   },
   {
    "duration": 8,
    "start_time": "2022-03-08T11:39:04.349Z"
   },
   {
    "duration": 5,
    "start_time": "2022-03-08T11:55:31.540Z"
   },
   {
    "duration": 8,
    "start_time": "2022-03-08T11:57:12.864Z"
   },
   {
    "duration": 70,
    "start_time": "2022-03-08T12:16:16.570Z"
   },
   {
    "duration": 77,
    "start_time": "2022-03-08T12:19:31.333Z"
   },
   {
    "duration": 69,
    "start_time": "2022-03-08T12:22:34.092Z"
   },
   {
    "duration": 76,
    "start_time": "2022-03-08T12:23:02.999Z"
   },
   {
    "duration": 67,
    "start_time": "2022-03-08T12:24:40.381Z"
   },
   {
    "duration": 70,
    "start_time": "2022-03-08T12:24:56.855Z"
   },
   {
    "duration": 64,
    "start_time": "2022-03-08T12:25:29.870Z"
   },
   {
    "duration": 6,
    "start_time": "2022-03-08T12:26:16.966Z"
   },
   {
    "duration": 8,
    "start_time": "2022-03-08T12:26:32.742Z"
   },
   {
    "duration": 6,
    "start_time": "2022-03-08T12:26:45.879Z"
   },
   {
    "duration": 65,
    "start_time": "2022-03-08T12:27:08.405Z"
   },
   {
    "duration": 81,
    "start_time": "2022-03-08T12:27:53.854Z"
   },
   {
    "duration": 69,
    "start_time": "2022-03-08T12:28:22.631Z"
   },
   {
    "duration": 17,
    "start_time": "2022-03-08T12:31:11.639Z"
   },
   {
    "duration": 691,
    "start_time": "2022-03-08T12:32:26.120Z"
   },
   {
    "duration": 978,
    "start_time": "2022-03-08T12:32:40.832Z"
   },
   {
    "duration": 2582,
    "start_time": "2022-03-08T12:34:28.512Z"
   },
   {
    "duration": 17,
    "start_time": "2022-03-08T12:36:42.515Z"
   },
   {
    "duration": 377,
    "start_time": "2022-03-08T12:38:03.200Z"
   },
   {
    "duration": 17,
    "start_time": "2022-03-08T12:39:15.049Z"
   },
   {
    "duration": 407,
    "start_time": "2022-03-08T12:39:17.841Z"
   },
   {
    "duration": 235,
    "start_time": "2022-03-08T12:40:11.608Z"
   },
   {
    "duration": 170,
    "start_time": "2022-03-08T12:40:25.412Z"
   },
   {
    "duration": 7,
    "start_time": "2022-03-08T12:40:29.937Z"
   },
   {
    "duration": 2835,
    "start_time": "2022-03-08T12:40:34.344Z"
   },
   {
    "duration": 8,
    "start_time": "2022-03-08T12:40:42.032Z"
   },
   {
    "duration": 8,
    "start_time": "2022-03-08T12:42:18.888Z"
   },
   {
    "duration": 2765,
    "start_time": "2022-03-08T12:42:38.536Z"
   },
   {
    "duration": 6,
    "start_time": "2022-03-08T12:42:57.568Z"
   },
   {
    "duration": 7,
    "start_time": "2022-03-08T12:43:05.193Z"
   },
   {
    "duration": 6,
    "start_time": "2022-03-08T12:43:08.881Z"
   },
   {
    "duration": 6,
    "start_time": "2022-03-08T12:43:14.696Z"
   },
   {
    "duration": 16,
    "start_time": "2022-03-08T12:43:53.049Z"
   },
   {
    "duration": 3952,
    "start_time": "2022-03-08T12:43:56.101Z"
   },
   {
    "duration": 3550,
    "start_time": "2022-03-08T12:44:34.034Z"
   },
   {
    "duration": 7,
    "start_time": "2022-03-08T12:44:39.905Z"
   },
   {
    "duration": 16,
    "start_time": "2022-03-08T12:44:51.369Z"
   },
   {
    "duration": 6,
    "start_time": "2022-03-08T12:44:53.137Z"
   },
   {
    "duration": 3263,
    "start_time": "2022-03-08T12:44:54.040Z"
   },
   {
    "duration": 15,
    "start_time": "2022-03-08T12:45:08.576Z"
   },
   {
    "duration": 6,
    "start_time": "2022-03-08T12:45:09.177Z"
   },
   {
    "duration": 3132,
    "start_time": "2022-03-08T12:45:09.752Z"
   },
   {
    "duration": 2864,
    "start_time": "2022-03-08T12:45:44.337Z"
   },
   {
    "duration": 7,
    "start_time": "2022-03-08T12:45:53.033Z"
   },
   {
    "duration": 6,
    "start_time": "2022-03-08T12:46:06.944Z"
   },
   {
    "duration": 15,
    "start_time": "2022-03-08T12:47:46.505Z"
   },
   {
    "duration": 410,
    "start_time": "2022-03-08T12:47:51.465Z"
   },
   {
    "duration": 15,
    "start_time": "2022-03-08T12:48:04.267Z"
   },
   {
    "duration": 6,
    "start_time": "2022-03-08T12:48:05.489Z"
   },
   {
    "duration": 4076,
    "start_time": "2022-03-08T12:48:05.904Z"
   },
   {
    "duration": 8,
    "start_time": "2022-03-08T12:51:49.579Z"
   },
   {
    "duration": 7,
    "start_time": "2022-03-08T12:51:57.801Z"
   },
   {
    "duration": 17,
    "start_time": "2022-03-08T12:52:33.528Z"
   },
   {
    "duration": 6,
    "start_time": "2022-03-08T12:52:34.193Z"
   },
   {
    "duration": 4142,
    "start_time": "2022-03-08T12:52:38.018Z"
   },
   {
    "duration": 1062,
    "start_time": "2022-03-08T12:52:56.224Z"
   },
   {
    "duration": 395,
    "start_time": "2022-03-08T12:52:57.289Z"
   },
   {
    "duration": 115,
    "start_time": "2022-03-08T12:52:57.686Z"
   },
   {
    "duration": 82,
    "start_time": "2022-03-08T12:52:59.510Z"
   },
   {
    "duration": 77,
    "start_time": "2022-03-08T12:53:00.462Z"
   },
   {
    "duration": 177,
    "start_time": "2022-03-08T12:53:01.373Z"
   },
   {
    "duration": 205,
    "start_time": "2022-03-08T12:53:04.823Z"
   },
   {
    "duration": 25,
    "start_time": "2022-03-08T12:53:06.550Z"
   },
   {
    "duration": 16,
    "start_time": "2022-03-08T12:53:10.320Z"
   },
   {
    "duration": 3430,
    "start_time": "2022-03-08T12:53:12.678Z"
   },
   {
    "duration": 26,
    "start_time": "2022-03-08T12:54:05.550Z"
   },
   {
    "duration": 22,
    "start_time": "2022-03-08T12:54:09.670Z"
   },
   {
    "duration": 3866,
    "start_time": "2022-03-08T12:54:11.742Z"
   },
   {
    "duration": 6,
    "start_time": "2022-03-08T13:04:04.203Z"
   },
   {
    "duration": 74,
    "start_time": "2022-03-08T13:05:49.575Z"
   },
   {
    "duration": 304,
    "start_time": "2022-03-08T13:05:54.151Z"
   },
   {
    "duration": 67,
    "start_time": "2022-03-08T13:06:22.247Z"
   },
   {
    "duration": 220,
    "start_time": "2022-03-08T13:06:43.879Z"
   },
   {
    "duration": 69,
    "start_time": "2022-03-08T13:06:57.520Z"
   },
   {
    "duration": 196,
    "start_time": "2022-03-08T13:07:05.343Z"
   },
   {
    "duration": 212,
    "start_time": "2022-03-08T13:09:42.927Z"
   },
   {
    "duration": 184,
    "start_time": "2022-03-08T13:10:12.864Z"
   },
   {
    "duration": 8,
    "start_time": "2022-03-08T13:10:32.479Z"
   },
   {
    "duration": 7,
    "start_time": "2022-03-08T13:10:46.334Z"
   },
   {
    "duration": 208,
    "start_time": "2022-03-08T13:11:29.863Z"
   },
   {
    "duration": 188,
    "start_time": "2022-03-08T13:12:07.335Z"
   },
   {
    "duration": 192,
    "start_time": "2022-03-08T13:12:34.489Z"
   },
   {
    "duration": 207,
    "start_time": "2022-03-08T13:12:42.919Z"
   },
   {
    "duration": 183,
    "start_time": "2022-03-08T13:13:01.331Z"
   },
   {
    "duration": 6,
    "start_time": "2022-03-08T13:13:13.591Z"
   },
   {
    "duration": 197,
    "start_time": "2022-03-08T13:13:40.759Z"
   },
   {
    "duration": 205,
    "start_time": "2022-03-08T13:13:52.391Z"
   },
   {
    "duration": 6,
    "start_time": "2022-03-08T13:13:57.767Z"
   },
   {
    "duration": 247,
    "start_time": "2022-03-08T13:14:34.919Z"
   },
   {
    "duration": 6,
    "start_time": "2022-03-08T13:16:02.832Z"
   },
   {
    "duration": 188,
    "start_time": "2022-03-08T13:16:14.263Z"
   },
   {
    "duration": 7,
    "start_time": "2022-03-08T13:16:18.560Z"
   },
   {
    "duration": 2555,
    "start_time": "2022-03-08T13:16:31.721Z"
   },
   {
    "duration": 11,
    "start_time": "2022-03-08T13:16:39.800Z"
   },
   {
    "duration": 9,
    "start_time": "2022-03-08T13:16:44.000Z"
   },
   {
    "duration": 204,
    "start_time": "2022-03-08T13:17:16.423Z"
   },
   {
    "duration": 6,
    "start_time": "2022-03-08T13:17:41.056Z"
   },
   {
    "duration": 5,
    "start_time": "2022-03-08T13:17:49.233Z"
   },
   {
    "duration": 209,
    "start_time": "2022-03-08T13:17:53.720Z"
   },
   {
    "duration": 71,
    "start_time": "2022-03-08T13:17:58.494Z"
   },
   {
    "duration": 7,
    "start_time": "2022-03-08T13:18:01.241Z"
   },
   {
    "duration": 6,
    "start_time": "2022-03-08T13:23:06.647Z"
   },
   {
    "duration": 7,
    "start_time": "2022-03-08T13:23:17.111Z"
   },
   {
    "duration": 18,
    "start_time": "2022-03-08T13:23:23.919Z"
   },
   {
    "duration": 75,
    "start_time": "2022-03-08T13:25:35.711Z"
   },
   {
    "duration": 71,
    "start_time": "2022-03-08T13:25:40.910Z"
   },
   {
    "duration": 4,
    "start_time": "2022-03-08T13:26:54.654Z"
   },
   {
    "duration": 6,
    "start_time": "2022-03-08T13:26:57.887Z"
   },
   {
    "duration": 6,
    "start_time": "2022-03-08T13:27:13.447Z"
   },
   {
    "duration": 181,
    "start_time": "2022-03-08T13:28:04.886Z"
   },
   {
    "duration": 8,
    "start_time": "2022-03-08T13:30:39.694Z"
   },
   {
    "duration": 10,
    "start_time": "2022-03-08T15:01:50.981Z"
   },
   {
    "duration": 10,
    "start_time": "2022-03-08T15:02:00.716Z"
   },
   {
    "duration": 1098,
    "start_time": "2022-03-08T15:02:20.251Z"
   },
   {
    "duration": 829,
    "start_time": "2022-03-08T15:05:11.084Z"
   },
   {
    "duration": 11,
    "start_time": "2022-03-08T15:06:59.173Z"
   },
   {
    "duration": 942,
    "start_time": "2022-03-08T15:07:30.348Z"
   },
   {
    "duration": 1058,
    "start_time": "2022-03-08T15:09:30.528Z"
   },
   {
    "duration": 411,
    "start_time": "2022-03-08T15:09:31.588Z"
   },
   {
    "duration": 113,
    "start_time": "2022-03-08T15:09:32.001Z"
   },
   {
    "duration": 88,
    "start_time": "2022-03-08T15:09:33.151Z"
   },
   {
    "duration": 73,
    "start_time": "2022-03-08T15:09:33.783Z"
   },
   {
    "duration": 177,
    "start_time": "2022-03-08T15:09:34.360Z"
   },
   {
    "duration": 222,
    "start_time": "2022-03-08T15:09:36.327Z"
   },
   {
    "duration": 27,
    "start_time": "2022-03-08T15:09:40.951Z"
   },
   {
    "duration": 301,
    "start_time": "2022-03-08T15:39:54.691Z"
   },
   {
    "duration": 204,
    "start_time": "2022-03-08T15:40:34.113Z"
   },
   {
    "duration": 174,
    "start_time": "2022-03-08T15:41:08.848Z"
   },
   {
    "duration": 66,
    "start_time": "2022-03-08T15:41:26.434Z"
   },
   {
    "duration": 200,
    "start_time": "2022-03-08T15:41:29.995Z"
   },
   {
    "duration": 4939,
    "start_time": "2022-03-08T15:41:58.650Z"
   },
   {
    "duration": 197,
    "start_time": "2022-03-08T15:43:43.099Z"
   },
   {
    "duration": 7,
    "start_time": "2022-03-08T15:43:50.931Z"
   },
   {
    "duration": 5087,
    "start_time": "2022-03-08T15:43:57.626Z"
   },
   {
    "duration": 6,
    "start_time": "2022-03-08T15:44:20.266Z"
   },
   {
    "duration": 6,
    "start_time": "2022-03-08T15:44:54.027Z"
   },
   {
    "duration": 7,
    "start_time": "2022-03-08T15:45:46.059Z"
   },
   {
    "duration": 7,
    "start_time": "2022-03-08T15:46:49.188Z"
   },
   {
    "duration": 10,
    "start_time": "2022-03-08T15:46:53.474Z"
   },
   {
    "duration": 4489,
    "start_time": "2022-03-08T15:47:27.418Z"
   },
   {
    "duration": 10,
    "start_time": "2022-03-08T15:49:08.179Z"
   },
   {
    "duration": 4609,
    "start_time": "2022-03-08T15:49:26.124Z"
   },
   {
    "duration": 4434,
    "start_time": "2022-03-08T15:50:29.380Z"
   },
   {
    "duration": 9,
    "start_time": "2022-03-08T15:51:35.364Z"
   },
   {
    "duration": 9,
    "start_time": "2022-03-08T15:52:46.199Z"
   },
   {
    "duration": 50,
    "start_time": "2022-03-08T15:55:48.661Z"
   },
   {
    "duration": 15,
    "start_time": "2022-03-08T15:55:56.636Z"
   },
   {
    "duration": 9,
    "start_time": "2022-03-08T15:58:59.820Z"
   },
   {
    "duration": 24,
    "start_time": "2022-03-08T16:00:01.310Z"
   },
   {
    "duration": 3115,
    "start_time": "2022-03-08T16:00:19.972Z"
   },
   {
    "duration": 16091,
    "start_time": "2022-03-08T16:01:14.164Z"
   },
   {
    "duration": 16212,
    "start_time": "2022-03-08T16:01:55.197Z"
   },
   {
    "duration": 25,
    "start_time": "2022-03-08T16:02:26.925Z"
   },
   {
    "duration": 2269,
    "start_time": "2022-03-08T16:02:28.548Z"
   },
   {
    "duration": 1147,
    "start_time": "2022-03-08T16:04:44.488Z"
   },
   {
    "duration": 420,
    "start_time": "2022-03-08T16:04:45.638Z"
   },
   {
    "duration": 95,
    "start_time": "2022-03-08T16:04:46.061Z"
   },
   {
    "duration": 88,
    "start_time": "2022-03-08T16:04:47.192Z"
   },
   {
    "duration": 77,
    "start_time": "2022-03-08T16:04:47.897Z"
   },
   {
    "duration": 185,
    "start_time": "2022-03-08T16:04:48.120Z"
   },
   {
    "duration": 229,
    "start_time": "2022-03-08T16:04:49.225Z"
   },
   {
    "duration": 26,
    "start_time": "2022-03-08T16:04:50.176Z"
   },
   {
    "duration": 4,
    "start_time": "2022-03-08T16:04:51.168Z"
   },
   {
    "duration": 18,
    "start_time": "2022-03-08T16:04:52.866Z"
   },
   {
    "duration": 16583,
    "start_time": "2022-03-08T16:04:53.672Z"
   },
   {
    "duration": 2309,
    "start_time": "2022-03-08T16:08:15.146Z"
   },
   {
    "duration": 8,
    "start_time": "2022-03-08T16:08:17.458Z"
   },
   {
    "duration": 24,
    "start_time": "2022-03-08T16:10:05.913Z"
   },
   {
    "duration": 263,
    "start_time": "2022-03-08T18:21:58.226Z"
   },
   {
    "duration": 178,
    "start_time": "2022-03-08T18:22:08.815Z"
   },
   {
    "duration": 189,
    "start_time": "2022-03-08T18:22:27.657Z"
   },
   {
    "duration": 204,
    "start_time": "2022-03-08T18:23:12.664Z"
   },
   {
    "duration": 5219,
    "start_time": "2022-03-08T18:23:38.792Z"
   },
   {
    "duration": 7,
    "start_time": "2022-03-08T18:23:56.423Z"
   },
   {
    "duration": 177,
    "start_time": "2022-03-08T18:24:00.838Z"
   },
   {
    "duration": 6,
    "start_time": "2022-03-08T18:24:06.237Z"
   },
   {
    "duration": 6,
    "start_time": "2022-03-08T18:24:15.074Z"
   },
   {
    "duration": 6,
    "start_time": "2022-03-08T18:24:22.920Z"
   },
   {
    "duration": 9,
    "start_time": "2022-03-08T18:24:30.211Z"
   },
   {
    "duration": 5,
    "start_time": "2022-03-08T18:25:16.212Z"
   },
   {
    "duration": 6,
    "start_time": "2022-03-08T18:25:34.058Z"
   },
   {
    "duration": 5,
    "start_time": "2022-03-08T18:25:38.557Z"
   },
   {
    "duration": 214,
    "start_time": "2022-03-08T18:25:46.485Z"
   },
   {
    "duration": 5,
    "start_time": "2022-03-08T18:25:54.160Z"
   },
   {
    "duration": 6,
    "start_time": "2022-03-08T18:26:05.335Z"
   },
   {
    "duration": 257,
    "start_time": "2022-03-08T18:26:47.768Z"
   },
   {
    "duration": 222,
    "start_time": "2022-03-08T18:27:37.763Z"
   },
   {
    "duration": 4533,
    "start_time": "2022-03-08T18:27:51.862Z"
   },
   {
    "duration": 5064,
    "start_time": "2022-03-08T18:28:13.835Z"
   },
   {
    "duration": 4528,
    "start_time": "2022-03-08T18:28:40.826Z"
   },
   {
    "duration": 4540,
    "start_time": "2022-03-08T18:29:13.416Z"
   },
   {
    "duration": 4585,
    "start_time": "2022-03-08T18:29:38.092Z"
   },
   {
    "duration": 5,
    "start_time": "2022-03-08T18:29:51.885Z"
   },
   {
    "duration": 97,
    "start_time": "2022-03-08T18:30:36.288Z"
   },
   {
    "duration": 134,
    "start_time": "2022-03-08T18:30:46.018Z"
   },
   {
    "duration": 73,
    "start_time": "2022-03-08T18:33:20.369Z"
   },
   {
    "duration": 235,
    "start_time": "2022-03-08T18:34:13.054Z"
   },
   {
    "duration": 70,
    "start_time": "2022-03-08T18:34:41.516Z"
   },
   {
    "duration": 34,
    "start_time": "2022-03-08T18:35:00.891Z"
   },
   {
    "duration": 34,
    "start_time": "2022-03-08T18:40:17.191Z"
   },
   {
    "duration": 50,
    "start_time": "2022-03-08T18:59:20.032Z"
   },
   {
    "duration": 208,
    "start_time": "2022-03-08T19:01:08.925Z"
   },
   {
    "duration": 7,
    "start_time": "2022-03-08T19:01:35.646Z"
   },
   {
    "duration": 5,
    "start_time": "2022-03-08T19:02:46.419Z"
   },
   {
    "duration": 6,
    "start_time": "2022-03-08T19:04:08.032Z"
   },
   {
    "duration": 5,
    "start_time": "2022-03-08T19:04:12.724Z"
   },
   {
    "duration": 4,
    "start_time": "2022-03-08T19:04:40.554Z"
   },
   {
    "duration": 6,
    "start_time": "2022-03-08T19:05:54.744Z"
   },
   {
    "duration": 32,
    "start_time": "2022-03-08T19:51:04.192Z"
   },
   {
    "duration": 34,
    "start_time": "2022-03-08T19:52:40.468Z"
   },
   {
    "duration": 34,
    "start_time": "2022-03-08T19:52:52.952Z"
   },
   {
    "duration": 31,
    "start_time": "2022-03-08T19:53:27.336Z"
   },
   {
    "duration": 9,
    "start_time": "2022-03-08T19:54:50.896Z"
   },
   {
    "duration": 8,
    "start_time": "2022-03-08T19:55:05.920Z"
   },
   {
    "duration": 35,
    "start_time": "2022-03-08T19:55:15.047Z"
   },
   {
    "duration": 6,
    "start_time": "2022-03-08T19:56:40.526Z"
   },
   {
    "duration": 6,
    "start_time": "2022-03-08T19:56:48.004Z"
   },
   {
    "duration": 29,
    "start_time": "2022-03-08T19:58:25.731Z"
   },
   {
    "duration": 31,
    "start_time": "2022-03-08T20:09:56.916Z"
   },
   {
    "duration": 5,
    "start_time": "2022-03-08T20:11:50.736Z"
   },
   {
    "duration": 9,
    "start_time": "2022-03-08T20:14:39.237Z"
   },
   {
    "duration": 33,
    "start_time": "2022-03-08T20:15:12.069Z"
   },
   {
    "duration": 31,
    "start_time": "2022-03-08T20:15:34.192Z"
   },
   {
    "duration": 33,
    "start_time": "2022-03-08T20:16:03.276Z"
   },
   {
    "duration": 5,
    "start_time": "2022-03-08T20:17:49.264Z"
   },
   {
    "duration": 243,
    "start_time": "2022-03-08T20:18:00.546Z"
   },
   {
    "duration": 5,
    "start_time": "2022-03-08T20:18:10.897Z"
   },
   {
    "duration": 129,
    "start_time": "2022-03-08T20:20:02.987Z"
   },
   {
    "duration": 123,
    "start_time": "2022-03-08T20:20:43.101Z"
   },
   {
    "duration": 49,
    "start_time": "2022-03-08T20:21:20.436Z"
   },
   {
    "duration": 48,
    "start_time": "2022-03-08T20:21:34.109Z"
   },
   {
    "duration": 45,
    "start_time": "2022-03-08T20:21:38.668Z"
   },
   {
    "duration": 120,
    "start_time": "2022-03-08T20:21:48.763Z"
   },
   {
    "duration": 45,
    "start_time": "2022-03-08T20:23:11.928Z"
   },
   {
    "duration": 129,
    "start_time": "2022-03-08T20:23:25.431Z"
   },
   {
    "duration": 125,
    "start_time": "2022-03-08T20:25:45.147Z"
   },
   {
    "duration": 365,
    "start_time": "2022-03-08T20:26:29.753Z"
   },
   {
    "duration": 305,
    "start_time": "2022-03-08T20:26:41.937Z"
   },
   {
    "duration": 57,
    "start_time": "2022-03-08T20:27:20.043Z"
   },
   {
    "duration": 289,
    "start_time": "2022-03-08T20:27:27.036Z"
   },
   {
    "duration": 120,
    "start_time": "2022-03-08T20:27:47.152Z"
   },
   {
    "duration": 120,
    "start_time": "2022-03-08T20:28:47.971Z"
   },
   {
    "duration": 16,
    "start_time": "2022-03-08T20:31:39.770Z"
   },
   {
    "duration": 14,
    "start_time": "2022-03-08T20:31:50.886Z"
   },
   {
    "duration": 59,
    "start_time": "2022-03-08T20:32:45.904Z"
   },
   {
    "duration": 35,
    "start_time": "2022-03-08T20:39:15.000Z"
   },
   {
    "duration": 88,
    "start_time": "2022-03-08T20:39:43.139Z"
   },
   {
    "duration": 32,
    "start_time": "2022-03-08T20:40:43.973Z"
   },
   {
    "duration": 60,
    "start_time": "2022-03-08T20:43:29.283Z"
   },
   {
    "duration": 87,
    "start_time": "2022-03-08T20:43:42.695Z"
   },
   {
    "duration": 32,
    "start_time": "2022-03-08T20:48:43.703Z"
   },
   {
    "duration": 58,
    "start_time": "2022-03-08T20:53:32.813Z"
   },
   {
    "duration": 56,
    "start_time": "2022-03-08T20:54:02.464Z"
   },
   {
    "duration": 4458,
    "start_time": "2022-03-08T20:54:11.784Z"
   },
   {
    "duration": 72,
    "start_time": "2022-03-08T20:54:59.796Z"
   },
   {
    "duration": 87,
    "start_time": "2022-03-08T20:55:27.342Z"
   },
   {
    "duration": 54,
    "start_time": "2022-03-08T20:56:17.091Z"
   },
   {
    "duration": 72,
    "start_time": "2022-03-08T20:56:23.735Z"
   },
   {
    "duration": 80,
    "start_time": "2022-03-08T20:57:28.945Z"
   },
   {
    "duration": 72,
    "start_time": "2022-03-08T20:57:59.378Z"
   },
   {
    "duration": 73,
    "start_time": "2022-03-08T20:58:36.805Z"
   },
   {
    "duration": 89,
    "start_time": "2022-03-08T20:58:52.453Z"
   },
   {
    "duration": 4449,
    "start_time": "2022-03-08T20:59:16.196Z"
   },
   {
    "duration": 64,
    "start_time": "2022-03-08T21:56:25.381Z"
   },
   {
    "duration": 4166,
    "start_time": "2022-03-08T21:56:34.201Z"
   },
   {
    "duration": 4274,
    "start_time": "2022-03-08T21:57:45.521Z"
   },
   {
    "duration": 4288,
    "start_time": "2022-03-08T21:58:43.455Z"
   },
   {
    "duration": 4237,
    "start_time": "2022-03-08T21:59:39.431Z"
   },
   {
    "duration": 4433,
    "start_time": "2022-03-08T22:00:37.199Z"
   },
   {
    "duration": 4532,
    "start_time": "2022-03-08T22:01:07.855Z"
   },
   {
    "duration": 4,
    "start_time": "2022-03-08T22:02:13.863Z"
   },
   {
    "duration": 4219,
    "start_time": "2022-03-08T22:02:25.805Z"
   },
   {
    "duration": 4312,
    "start_time": "2022-03-08T22:02:46.902Z"
   },
   {
    "duration": 4352,
    "start_time": "2022-03-08T22:02:55.283Z"
   },
   {
    "duration": 4583,
    "start_time": "2022-03-08T22:03:08.853Z"
   },
   {
    "duration": 4746,
    "start_time": "2022-03-08T22:03:18.455Z"
   },
   {
    "duration": 10,
    "start_time": "2022-03-08T22:04:17.814Z"
   },
   {
    "duration": 5,
    "start_time": "2022-03-08T22:04:32.758Z"
   },
   {
    "duration": 536,
    "start_time": "2022-03-08T22:05:08.565Z"
   },
   {
    "duration": 541,
    "start_time": "2022-03-08T22:05:25.541Z"
   },
   {
    "duration": 4,
    "start_time": "2022-03-08T22:05:41.701Z"
   },
   {
    "duration": 548,
    "start_time": "2022-03-08T22:05:44.053Z"
   },
   {
    "duration": 550,
    "start_time": "2022-03-08T22:06:09.334Z"
   },
   {
    "duration": 4,
    "start_time": "2022-03-08T22:07:00.588Z"
   },
   {
    "duration": 668,
    "start_time": "2022-03-08T22:07:02.373Z"
   },
   {
    "duration": 3,
    "start_time": "2022-03-08T22:07:40.437Z"
   },
   {
    "duration": 580,
    "start_time": "2022-03-08T22:07:42.581Z"
   },
   {
    "duration": 800,
    "start_time": "2022-03-08T22:11:22.324Z"
   },
   {
    "duration": 4,
    "start_time": "2022-03-08T22:11:26.900Z"
   },
   {
    "duration": 724,
    "start_time": "2022-03-08T22:11:29.269Z"
   },
   {
    "duration": 4,
    "start_time": "2022-03-08T22:17:16.316Z"
   },
   {
    "duration": 65,
    "start_time": "2022-03-08T22:17:17.364Z"
   },
   {
    "duration": 723,
    "start_time": "2022-03-08T22:17:59.197Z"
   },
   {
    "duration": 6,
    "start_time": "2022-03-08T22:19:19.773Z"
   },
   {
    "duration": 7,
    "start_time": "2022-03-08T22:19:38.661Z"
   },
   {
    "duration": 6,
    "start_time": "2022-03-08T22:19:49.044Z"
   },
   {
    "duration": 4,
    "start_time": "2022-03-08T22:26:17.150Z"
   },
   {
    "duration": 1079,
    "start_time": "2022-03-08T22:26:17.818Z"
   },
   {
    "duration": 1069,
    "start_time": "2022-03-08T22:26:36.633Z"
   },
   {
    "duration": 4,
    "start_time": "2022-03-08T22:26:43.845Z"
   },
   {
    "duration": 935,
    "start_time": "2022-03-08T22:26:44.326Z"
   },
   {
    "duration": 13,
    "start_time": "2022-03-08T22:34:12.543Z"
   },
   {
    "duration": 173,
    "start_time": "2022-03-08T23:17:21.975Z"
   },
   {
    "duration": 176,
    "start_time": "2022-03-08T23:17:32.903Z"
   },
   {
    "duration": 186,
    "start_time": "2022-03-08T23:17:42.270Z"
   },
   {
    "duration": 178,
    "start_time": "2022-03-08T23:18:49.009Z"
   },
   {
    "duration": 25,
    "start_time": "2022-03-08T23:19:33.869Z"
   },
   {
    "duration": 4,
    "start_time": "2022-03-08T23:21:36.978Z"
   },
   {
    "duration": 926,
    "start_time": "2022-03-08T23:21:38.055Z"
   },
   {
    "duration": 24,
    "start_time": "2022-03-08T23:21:41.429Z"
   },
   {
    "duration": 10,
    "start_time": "2022-03-08T23:22:01.885Z"
   },
   {
    "duration": 4,
    "start_time": "2022-03-08T23:24:00.025Z"
   },
   {
    "duration": 4,
    "start_time": "2022-03-08T23:25:14.360Z"
   },
   {
    "duration": 949,
    "start_time": "2022-03-08T23:25:14.754Z"
   },
   {
    "duration": 8,
    "start_time": "2022-03-08T23:25:15.705Z"
   },
   {
    "duration": 4,
    "start_time": "2022-03-08T23:29:30.956Z"
   },
   {
    "duration": 950,
    "start_time": "2022-03-08T23:29:31.372Z"
   },
   {
    "duration": 9,
    "start_time": "2022-03-08T23:29:32.477Z"
   },
   {
    "duration": 24,
    "start_time": "2022-03-08T23:31:00.714Z"
   },
   {
    "duration": 6,
    "start_time": "2022-03-08T23:34:13.699Z"
   },
   {
    "duration": 1341,
    "start_time": "2022-03-09T16:39:20.511Z"
   },
   {
    "duration": 469,
    "start_time": "2022-03-09T16:39:21.855Z"
   },
   {
    "duration": 118,
    "start_time": "2022-03-09T16:39:22.327Z"
   },
   {
    "duration": 135,
    "start_time": "2022-03-09T16:39:22.447Z"
   },
   {
    "duration": 114,
    "start_time": "2022-03-09T16:39:22.585Z"
   },
   {
    "duration": 222,
    "start_time": "2022-03-09T16:39:22.701Z"
   },
   {
    "duration": 290,
    "start_time": "2022-03-09T16:39:22.925Z"
   },
   {
    "duration": 64,
    "start_time": "2022-03-09T16:39:23.218Z"
   },
   {
    "duration": 4,
    "start_time": "2022-03-09T16:39:23.285Z"
   },
   {
    "duration": 24,
    "start_time": "2022-03-09T16:39:23.291Z"
   },
   {
    "duration": 25373,
    "start_time": "2022-03-09T16:39:23.318Z"
   },
   {
    "duration": 3115,
    "start_time": "2022-03-09T16:39:48.694Z"
   },
   {
    "duration": 9,
    "start_time": "2022-03-09T16:39:51.811Z"
   },
   {
    "duration": 18,
    "start_time": "2022-03-09T16:39:51.822Z"
   },
   {
    "duration": 1679,
    "start_time": "2022-03-09T16:39:51.842Z"
   },
   {
    "duration": 32,
    "start_time": "2022-03-09T16:39:53.524Z"
   },
   {
    "duration": 492,
    "start_time": "2022-03-09T16:39:53.558Z"
   },
   {
    "duration": 477,
    "start_time": "2022-03-09T16:39:54.052Z"
   },
   {
    "duration": 5,
    "start_time": "2022-03-09T16:39:54.532Z"
   },
   {
    "duration": 259,
    "start_time": "2022-03-09T16:46:05.347Z"
   },
   {
    "duration": 292,
    "start_time": "2022-03-09T16:46:18.619Z"
   },
   {
    "duration": 299,
    "start_time": "2022-03-09T16:46:42.450Z"
   },
   {
    "duration": 300,
    "start_time": "2022-03-09T16:47:07.026Z"
   },
   {
    "duration": 302,
    "start_time": "2022-03-09T16:47:14.275Z"
   },
   {
    "duration": 327,
    "start_time": "2022-03-09T16:48:40.458Z"
   },
   {
    "duration": 354,
    "start_time": "2022-03-09T16:54:02.675Z"
   },
   {
    "duration": 427,
    "start_time": "2022-03-09T16:55:18.507Z"
   },
   {
    "duration": 355,
    "start_time": "2022-03-09T16:57:00.127Z"
   },
   {
    "duration": 387,
    "start_time": "2022-03-09T16:57:33.395Z"
   },
   {
    "duration": 369,
    "start_time": "2022-03-09T16:57:47.235Z"
   },
   {
    "duration": 398,
    "start_time": "2022-03-09T16:58:40.604Z"
   },
   {
    "duration": 1665,
    "start_time": "2022-03-09T17:03:06.717Z"
   },
   {
    "duration": 20,
    "start_time": "2022-03-09T17:10:42.688Z"
   },
   {
    "duration": 5395,
    "start_time": "2022-03-09T17:11:37.234Z"
   },
   {
    "duration": 22,
    "start_time": "2022-03-09T17:11:46.804Z"
   },
   {
    "duration": 500,
    "start_time": "2022-03-09T17:12:20.389Z"
   },
   {
    "duration": 23,
    "start_time": "2022-03-09T17:12:28.484Z"
   },
   {
    "duration": 95,
    "start_time": "2022-03-09T17:17:57.589Z"
   },
   {
    "duration": 75,
    "start_time": "2022-03-09T17:18:20.701Z"
   },
   {
    "duration": 212,
    "start_time": "2022-03-09T17:18:26.845Z"
   },
   {
    "duration": 234,
    "start_time": "2022-03-09T17:18:35.836Z"
   },
   {
    "duration": 228,
    "start_time": "2022-03-09T17:18:58.710Z"
   },
   {
    "duration": 6,
    "start_time": "2022-03-09T17:19:05.390Z"
   },
   {
    "duration": 7,
    "start_time": "2022-03-09T17:19:17.492Z"
   },
   {
    "duration": 74,
    "start_time": "2022-03-09T17:19:33.485Z"
   },
   {
    "duration": 135,
    "start_time": "2022-03-09T17:19:58.037Z"
   },
   {
    "duration": 313,
    "start_time": "2022-03-09T17:20:05.132Z"
   },
   {
    "duration": 1113,
    "start_time": "2022-03-09T17:20:36.173Z"
   },
   {
    "duration": 1125,
    "start_time": "2022-03-09T17:20:49.141Z"
   },
   {
    "duration": 1020,
    "start_time": "2022-03-09T17:21:06.365Z"
   },
   {
    "duration": 4,
    "start_time": "2022-03-10T03:05:24.911Z"
   },
   {
    "duration": 107,
    "start_time": "2022-03-10T03:06:15.667Z"
   },
   {
    "duration": 3572,
    "start_time": "2022-03-10T03:06:21.233Z"
   },
   {
    "duration": 23,
    "start_time": "2022-03-10T03:06:41.448Z"
   },
   {
    "duration": 216,
    "start_time": "2022-03-10T03:09:25.535Z"
   },
   {
    "duration": 1373,
    "start_time": "2022-03-10T03:09:31.338Z"
   },
   {
    "duration": 5340,
    "start_time": "2022-03-10T03:09:49.287Z"
   },
   {
    "duration": 24,
    "start_time": "2022-03-10T03:10:26.646Z"
   },
   {
    "duration": 239,
    "start_time": "2022-03-10T03:13:31.752Z"
   },
   {
    "duration": 228,
    "start_time": "2022-03-10T03:14:30.762Z"
   },
   {
    "duration": 2031,
    "start_time": "2022-03-10T03:15:12.642Z"
   },
   {
    "duration": 26,
    "start_time": "2022-03-10T03:15:23.349Z"
   },
   {
    "duration": 25,
    "start_time": "2022-03-10T03:15:31.498Z"
   },
   {
    "duration": 5,
    "start_time": "2022-03-10T03:16:04.417Z"
   },
   {
    "duration": 23,
    "start_time": "2022-03-10T03:17:21.000Z"
   },
   {
    "duration": 865,
    "start_time": "2022-03-10T03:18:33.513Z"
   },
   {
    "duration": 1064,
    "start_time": "2022-03-10T20:26:08.958Z"
   },
   {
    "duration": 371,
    "start_time": "2022-03-10T20:26:10.024Z"
   },
   {
    "duration": 96,
    "start_time": "2022-03-10T20:26:10.399Z"
   },
   {
    "duration": 100,
    "start_time": "2022-03-10T20:26:10.497Z"
   },
   {
    "duration": 85,
    "start_time": "2022-03-10T20:26:10.599Z"
   },
   {
    "duration": 161,
    "start_time": "2022-03-10T20:26:10.685Z"
   },
   {
    "duration": 220,
    "start_time": "2022-03-10T20:26:10.848Z"
   },
   {
    "duration": 23,
    "start_time": "2022-03-10T20:26:11.071Z"
   },
   {
    "duration": 4,
    "start_time": "2022-03-10T20:26:11.096Z"
   },
   {
    "duration": 17,
    "start_time": "2022-03-10T20:26:11.101Z"
   },
   {
    "duration": 15667,
    "start_time": "2022-03-10T20:26:11.119Z"
   },
   {
    "duration": 1961,
    "start_time": "2022-03-10T20:26:26.788Z"
   },
   {
    "duration": 11,
    "start_time": "2022-03-10T20:26:28.751Z"
   },
   {
    "duration": 3,
    "start_time": "2022-03-10T20:26:28.764Z"
   },
   {
    "duration": 929,
    "start_time": "2022-03-10T20:26:28.769Z"
   },
   {
    "duration": 21,
    "start_time": "2022-03-10T20:26:29.700Z"
   },
   {
    "duration": 1202,
    "start_time": "2022-03-10T20:26:29.723Z"
   },
   {
    "duration": 1167,
    "start_time": "2022-03-10T20:26:30.927Z"
   },
   {
    "duration": 520,
    "start_time": "2022-03-10T20:26:32.096Z"
   },
   {
    "duration": 4,
    "start_time": "2022-03-10T20:26:32.618Z"
   },
   {
    "duration": 7,
    "start_time": "2022-03-10T21:28:01.596Z"
   },
   {
    "duration": 5,
    "start_time": "2022-03-10T21:33:04.150Z"
   },
   {
    "duration": 16,
    "start_time": "2022-03-10T21:33:10.930Z"
   },
   {
    "duration": 14,
    "start_time": "2022-03-10T21:41:05.112Z"
   },
   {
    "duration": 17,
    "start_time": "2022-03-10T21:41:19.045Z"
   },
   {
    "duration": 14,
    "start_time": "2022-03-10T21:41:43.701Z"
   },
   {
    "duration": 5,
    "start_time": "2022-03-10T21:44:50.049Z"
   },
   {
    "duration": 1107,
    "start_time": "2022-03-10T21:56:22.872Z"
   },
   {
    "duration": 1127,
    "start_time": "2022-03-10T21:56:25.223Z"
   },
   {
    "duration": 1132,
    "start_time": "2022-03-10T21:56:27.468Z"
   },
   {
    "duration": 1131,
    "start_time": "2022-03-10T21:56:29.786Z"
   },
   {
    "duration": 1117,
    "start_time": "2022-03-10T21:56:32.090Z"
   },
   {
    "duration": 1127,
    "start_time": "2022-03-10T21:56:34.413Z"
   },
   {
    "duration": 1126,
    "start_time": "2022-03-10T21:56:36.825Z"
   },
   {
    "duration": 1112,
    "start_time": "2022-03-10T21:56:39.279Z"
   },
   {
    "duration": 60,
    "start_time": "2022-03-10T22:39:35.694Z"
   },
   {
    "duration": 1009,
    "start_time": "2022-03-10T23:00:19.925Z"
   },
   {
    "duration": 401,
    "start_time": "2022-03-10T23:00:20.936Z"
   },
   {
    "duration": 93,
    "start_time": "2022-03-10T23:00:21.339Z"
   },
   {
    "duration": 102,
    "start_time": "2022-03-10T23:00:21.434Z"
   },
   {
    "duration": 76,
    "start_time": "2022-03-10T23:00:21.538Z"
   },
   {
    "duration": 185,
    "start_time": "2022-03-10T23:00:21.616Z"
   },
   {
    "duration": 229,
    "start_time": "2022-03-10T23:00:21.802Z"
   },
   {
    "duration": 41,
    "start_time": "2022-03-10T23:00:22.033Z"
   },
   {
    "duration": 3,
    "start_time": "2022-03-10T23:00:22.076Z"
   },
   {
    "duration": 17,
    "start_time": "2022-03-10T23:00:22.081Z"
   },
   {
    "duration": 15512,
    "start_time": "2022-03-10T23:00:22.099Z"
   },
   {
    "duration": 1920,
    "start_time": "2022-03-10T23:00:37.613Z"
   },
   {
    "duration": 6,
    "start_time": "2022-03-10T23:00:39.534Z"
   },
   {
    "duration": 18,
    "start_time": "2022-03-10T23:00:39.542Z"
   },
   {
    "duration": 925,
    "start_time": "2022-03-10T23:00:39.561Z"
   },
   {
    "duration": 22,
    "start_time": "2022-03-10T23:00:40.488Z"
   },
   {
    "duration": 1203,
    "start_time": "2022-03-10T23:00:40.511Z"
   },
   {
    "duration": 1173,
    "start_time": "2022-03-10T23:00:41.715Z"
   },
   {
    "duration": 510,
    "start_time": "2022-03-10T23:00:42.890Z"
   },
   {
    "duration": 5,
    "start_time": "2022-03-10T23:00:43.402Z"
   },
   {
    "duration": 399,
    "start_time": "2022-03-10T23:44:19.919Z"
   },
   {
    "duration": 1418,
    "start_time": "2022-03-10T23:44:29.846Z"
   },
   {
    "duration": 544,
    "start_time": "2022-03-10T23:44:31.266Z"
   },
   {
    "duration": 124,
    "start_time": "2022-03-10T23:44:31.813Z"
   },
   {
    "duration": 143,
    "start_time": "2022-03-10T23:44:31.940Z"
   },
   {
    "duration": 112,
    "start_time": "2022-03-10T23:44:32.086Z"
   },
   {
    "duration": 283,
    "start_time": "2022-03-10T23:44:32.200Z"
   },
   {
    "duration": 320,
    "start_time": "2022-03-10T23:44:32.486Z"
   },
   {
    "duration": 65,
    "start_time": "2022-03-10T23:44:32.810Z"
   },
   {
    "duration": 4,
    "start_time": "2022-03-10T23:44:32.878Z"
   },
   {
    "duration": 24,
    "start_time": "2022-03-10T23:44:32.884Z"
   },
   {
    "duration": 26274,
    "start_time": "2022-03-10T23:44:32.911Z"
   },
   {
    "duration": 44,
    "start_time": "2022-03-10T23:44:59.187Z"
   },
   {
    "duration": 3443,
    "start_time": "2022-03-10T23:44:59.233Z"
   },
   {
    "duration": 12,
    "start_time": "2022-03-10T23:45:02.679Z"
   },
   {
    "duration": 11,
    "start_time": "2022-03-10T23:45:02.694Z"
   },
   {
    "duration": 1593,
    "start_time": "2022-03-10T23:45:02.708Z"
   },
   {
    "duration": 34,
    "start_time": "2022-03-10T23:45:04.304Z"
   },
   {
    "duration": 1781,
    "start_time": "2022-03-10T23:45:04.341Z"
   },
   {
    "duration": 2100,
    "start_time": "2022-03-10T23:45:06.124Z"
   },
   {
    "duration": 917,
    "start_time": "2022-03-10T23:45:08.227Z"
   },
   {
    "duration": 10,
    "start_time": "2022-03-10T23:45:09.147Z"
   },
   {
    "duration": 46,
    "start_time": "2022-03-11T00:04:01.772Z"
   },
   {
    "duration": 53,
    "start_time": "2022-03-11T00:07:11.581Z"
   },
   {
    "duration": 998,
    "start_time": "2022-03-11T13:07:41.745Z"
   },
   {
    "duration": 406,
    "start_time": "2022-03-11T13:07:42.745Z"
   },
   {
    "duration": 74,
    "start_time": "2022-03-11T13:07:43.153Z"
   },
   {
    "duration": 85,
    "start_time": "2022-03-11T13:07:43.229Z"
   },
   {
    "duration": 56,
    "start_time": "2022-03-11T13:07:43.316Z"
   },
   {
    "duration": 169,
    "start_time": "2022-03-11T13:07:43.373Z"
   },
   {
    "duration": 189,
    "start_time": "2022-03-11T13:07:43.544Z"
   },
   {
    "duration": 21,
    "start_time": "2022-03-11T13:07:43.735Z"
   },
   {
    "duration": 2,
    "start_time": "2022-03-11T13:07:43.758Z"
   },
   {
    "duration": 43,
    "start_time": "2022-03-11T13:07:43.762Z"
   },
   {
    "duration": 13943,
    "start_time": "2022-03-11T13:07:43.807Z"
   },
   {
    "duration": 27,
    "start_time": "2022-03-11T13:07:57.752Z"
   },
   {
    "duration": 1760,
    "start_time": "2022-03-11T13:07:57.780Z"
   },
   {
    "duration": 7,
    "start_time": "2022-03-11T13:07:59.542Z"
   },
   {
    "duration": 4,
    "start_time": "2022-03-11T13:07:59.551Z"
   },
   {
    "duration": 826,
    "start_time": "2022-03-11T13:07:59.557Z"
   },
   {
    "duration": 30,
    "start_time": "2022-03-11T13:08:00.385Z"
   },
   {
    "duration": 1011,
    "start_time": "2022-03-11T13:08:00.417Z"
   },
   {
    "duration": 1017,
    "start_time": "2022-03-11T13:08:01.429Z"
   },
   {
    "duration": 448,
    "start_time": "2022-03-11T13:08:02.448Z"
   },
   {
    "duration": 4,
    "start_time": "2022-03-11T13:08:02.901Z"
   },
   {
    "duration": 1007,
    "start_time": "2022-03-11T14:06:19.401Z"
   },
   {
    "duration": 965,
    "start_time": "2022-03-11T14:17:41.472Z"
   },
   {
    "duration": 372,
    "start_time": "2022-03-11T14:17:42.438Z"
   },
   {
    "duration": 71,
    "start_time": "2022-03-11T14:17:42.812Z"
   },
   {
    "duration": 81,
    "start_time": "2022-03-11T14:17:42.885Z"
   },
   {
    "duration": 65,
    "start_time": "2022-03-11T14:17:42.967Z"
   },
   {
    "duration": 137,
    "start_time": "2022-03-11T14:17:43.034Z"
   },
   {
    "duration": 180,
    "start_time": "2022-03-11T14:17:43.172Z"
   },
   {
    "duration": 19,
    "start_time": "2022-03-11T14:17:43.354Z"
   },
   {
    "duration": 3,
    "start_time": "2022-03-11T14:17:43.374Z"
   },
   {
    "duration": 36,
    "start_time": "2022-03-11T14:17:43.378Z"
   },
   {
    "duration": 13710,
    "start_time": "2022-03-11T14:17:43.415Z"
   },
   {
    "duration": 26,
    "start_time": "2022-03-11T14:17:57.126Z"
   },
   {
    "duration": 1759,
    "start_time": "2022-03-11T14:17:57.154Z"
   },
   {
    "duration": 6,
    "start_time": "2022-03-11T14:17:58.914Z"
   },
   {
    "duration": 4,
    "start_time": "2022-03-11T14:17:58.921Z"
   },
   {
    "duration": 841,
    "start_time": "2022-03-11T14:17:58.927Z"
   },
   {
    "duration": 18,
    "start_time": "2022-03-11T14:17:59.770Z"
   },
   {
    "duration": 962,
    "start_time": "2022-03-11T14:17:59.802Z"
   },
   {
    "duration": 99,
    "start_time": "2022-03-11T14:18:00.766Z"
   },
   {
    "duration": -67,
    "start_time": "2022-03-11T14:18:00.934Z"
   },
   {
    "duration": -70,
    "start_time": "2022-03-11T14:18:00.938Z"
   },
   {
    "duration": 1324,
    "start_time": "2022-03-11T14:19:01.869Z"
   },
   {
    "duration": 1042,
    "start_time": "2022-03-11T14:19:25.759Z"
   },
   {
    "duration": 1052,
    "start_time": "2022-03-11T14:19:32.755Z"
   },
   {
    "duration": 1038,
    "start_time": "2022-03-11T14:23:15.490Z"
   },
   {
    "duration": 992,
    "start_time": "2022-03-11T14:43:34.539Z"
   },
   {
    "duration": 388,
    "start_time": "2022-03-11T14:43:35.533Z"
   },
   {
    "duration": 75,
    "start_time": "2022-03-11T14:43:35.923Z"
   },
   {
    "duration": 75,
    "start_time": "2022-03-11T14:43:36.001Z"
   },
   {
    "duration": 72,
    "start_time": "2022-03-11T14:43:36.078Z"
   },
   {
    "duration": 178,
    "start_time": "2022-03-11T14:43:36.151Z"
   },
   {
    "duration": 188,
    "start_time": "2022-03-11T14:43:36.331Z"
   },
   {
    "duration": 20,
    "start_time": "2022-03-11T14:43:36.520Z"
   },
   {
    "duration": 3,
    "start_time": "2022-03-11T14:43:36.542Z"
   },
   {
    "duration": 14,
    "start_time": "2022-03-11T14:43:36.547Z"
   },
   {
    "duration": 13897,
    "start_time": "2022-03-11T14:43:36.562Z"
   },
   {
    "duration": 28,
    "start_time": "2022-03-11T14:43:50.460Z"
   },
   {
    "duration": 1785,
    "start_time": "2022-03-11T14:43:50.501Z"
   },
   {
    "duration": 13,
    "start_time": "2022-03-11T14:43:52.288Z"
   },
   {
    "duration": 12,
    "start_time": "2022-03-11T14:43:52.303Z"
   },
   {
    "duration": 811,
    "start_time": "2022-03-11T14:43:52.316Z"
   },
   {
    "duration": 17,
    "start_time": "2022-03-11T14:43:53.129Z"
   },
   {
    "duration": 939,
    "start_time": "2022-03-11T14:43:53.147Z"
   },
   {
    "duration": 1132,
    "start_time": "2022-03-11T14:43:54.088Z"
   },
   {
    "duration": 464,
    "start_time": "2022-03-11T14:43:55.221Z"
   },
   {
    "duration": 3,
    "start_time": "2022-03-11T14:43:55.687Z"
   },
   {
    "duration": 3,
    "start_time": "2022-03-11T14:45:35.924Z"
   },
   {
    "duration": 1021,
    "start_time": "2022-03-11T14:47:39.140Z"
   },
   {
    "duration": 1139,
    "start_time": "2022-03-11T14:49:36.536Z"
   },
   {
    "duration": 13,
    "start_time": "2022-03-11T15:05:13.231Z"
   },
   {
    "duration": 5,
    "start_time": "2022-03-11T15:05:57.481Z"
   },
   {
    "duration": 4,
    "start_time": "2022-03-11T15:07:23.062Z"
   },
   {
    "duration": 359,
    "start_time": "2022-03-11T15:09:58.559Z"
   },
   {
    "duration": 276,
    "start_time": "2022-03-11T15:10:37.383Z"
   },
   {
    "duration": 270,
    "start_time": "2022-03-11T15:12:17.134Z"
   },
   {
    "duration": 254,
    "start_time": "2022-03-11T15:13:18.973Z"
   },
   {
    "duration": 2996,
    "start_time": "2022-03-11T15:14:16.495Z"
   },
   {
    "duration": 277,
    "start_time": "2022-03-11T15:14:26.364Z"
   },
   {
    "duration": 3032,
    "start_time": "2022-03-11T15:21:35.028Z"
   },
   {
    "duration": 3036,
    "start_time": "2022-03-11T15:21:50.365Z"
   },
   {
    "duration": 15,
    "start_time": "2022-03-11T15:21:55.257Z"
   },
   {
    "duration": 277,
    "start_time": "2022-03-11T15:22:01.325Z"
   },
   {
    "duration": 14,
    "start_time": "2022-03-11T15:22:22.364Z"
   },
   {
    "duration": 13,
    "start_time": "2022-03-11T15:22:35.140Z"
   },
   {
    "duration": 3,
    "start_time": "2022-03-11T15:22:40.681Z"
   },
   {
    "duration": 3120,
    "start_time": "2022-03-11T15:22:58.423Z"
   },
   {
    "duration": 15,
    "start_time": "2022-03-11T15:23:02.400Z"
   },
   {
    "duration": 23,
    "start_time": "2022-03-11T15:23:07.343Z"
   },
   {
    "duration": 14,
    "start_time": "2022-03-11T15:28:40.895Z"
   },
   {
    "duration": 14,
    "start_time": "2022-03-11T15:29:16.158Z"
   },
   {
    "duration": 15,
    "start_time": "2022-03-11T15:29:24.757Z"
   },
   {
    "duration": 4,
    "start_time": "2022-03-11T15:31:34.558Z"
   },
   {
    "duration": 3,
    "start_time": "2022-03-11T15:32:46.401Z"
   },
   {
    "duration": 3,
    "start_time": "2022-03-11T15:33:22.671Z"
   },
   {
    "duration": 4,
    "start_time": "2022-03-11T15:35:13.593Z"
   },
   {
    "duration": 884,
    "start_time": "2022-03-11T15:35:14.271Z"
   },
   {
    "duration": 4,
    "start_time": "2022-03-11T15:35:16.638Z"
   },
   {
    "duration": 3124,
    "start_time": "2022-03-11T15:35:47.265Z"
   },
   {
    "duration": 3,
    "start_time": "2022-03-11T15:35:50.391Z"
   },
   {
    "duration": 4,
    "start_time": "2022-03-11T15:36:49.176Z"
   },
   {
    "duration": 847,
    "start_time": "2022-03-11T15:36:49.600Z"
   },
   {
    "duration": 19,
    "start_time": "2022-03-11T15:36:52.791Z"
   },
   {
    "duration": 3016,
    "start_time": "2022-03-11T15:37:15.999Z"
   },
   {
    "duration": 3,
    "start_time": "2022-03-11T15:37:19.017Z"
   },
   {
    "duration": 22,
    "start_time": "2022-03-11T15:37:19.022Z"
   },
   {
    "duration": 14,
    "start_time": "2022-03-11T15:39:10.489Z"
   },
   {
    "duration": 6353,
    "start_time": "2022-03-11T15:39:32.642Z"
   },
   {
    "duration": 14,
    "start_time": "2022-03-11T15:39:42.260Z"
   },
   {
    "duration": 16,
    "start_time": "2022-03-11T15:40:30.843Z"
   },
   {
    "duration": 19,
    "start_time": "2022-03-11T15:40:38.343Z"
   },
   {
    "duration": 19,
    "start_time": "2022-03-11T15:40:52.302Z"
   },
   {
    "duration": 14,
    "start_time": "2022-03-11T15:41:22.230Z"
   },
   {
    "duration": 15,
    "start_time": "2022-03-11T15:41:26.663Z"
   },
   {
    "duration": 22,
    "start_time": "2022-03-11T15:41:31.207Z"
   },
   {
    "duration": 920,
    "start_time": "2022-03-11T15:42:09.582Z"
   },
   {
    "duration": 3,
    "start_time": "2022-03-11T15:42:20.634Z"
   },
   {
    "duration": 92,
    "start_time": "2022-03-11T15:42:21.206Z"
   },
   {
    "duration": 990,
    "start_time": "2022-03-11T15:42:31.751Z"
   },
   {
    "duration": 382,
    "start_time": "2022-03-11T15:42:32.743Z"
   },
   {
    "duration": 74,
    "start_time": "2022-03-11T15:42:33.127Z"
   },
   {
    "duration": 70,
    "start_time": "2022-03-11T15:42:33.203Z"
   },
   {
    "duration": 72,
    "start_time": "2022-03-11T15:42:33.275Z"
   },
   {
    "duration": 168,
    "start_time": "2022-03-11T15:42:33.349Z"
   },
   {
    "duration": 201,
    "start_time": "2022-03-11T15:42:33.518Z"
   },
   {
    "duration": 21,
    "start_time": "2022-03-11T15:42:33.720Z"
   },
   {
    "duration": 2,
    "start_time": "2022-03-11T15:42:33.744Z"
   },
   {
    "duration": 14,
    "start_time": "2022-03-11T15:42:33.748Z"
   },
   {
    "duration": 13938,
    "start_time": "2022-03-11T15:42:33.764Z"
   },
   {
    "duration": 1717,
    "start_time": "2022-03-11T15:42:47.703Z"
   },
   {
    "duration": 5,
    "start_time": "2022-03-11T15:42:49.422Z"
   },
   {
    "duration": 4,
    "start_time": "2022-03-11T15:42:49.428Z"
   },
   {
    "duration": 119,
    "start_time": "2022-03-11T15:42:49.434Z"
   },
   {
    "duration": -35,
    "start_time": "2022-03-11T15:42:49.590Z"
   },
   {
    "duration": -37,
    "start_time": "2022-03-11T15:42:49.593Z"
   },
   {
    "duration": -39,
    "start_time": "2022-03-11T15:42:49.596Z"
   },
   {
    "duration": -41,
    "start_time": "2022-03-11T15:42:49.599Z"
   },
   {
    "duration": -43,
    "start_time": "2022-03-11T15:42:49.602Z"
   },
   {
    "duration": -46,
    "start_time": "2022-03-11T15:42:49.606Z"
   },
   {
    "duration": -47,
    "start_time": "2022-03-11T15:42:49.608Z"
   },
   {
    "duration": 816,
    "start_time": "2022-03-11T15:43:13.152Z"
   },
   {
    "duration": 3064,
    "start_time": "2022-03-11T15:43:19.190Z"
   },
   {
    "duration": 3,
    "start_time": "2022-03-11T15:43:22.256Z"
   },
   {
    "duration": 21,
    "start_time": "2022-03-11T15:43:23.001Z"
   },
   {
    "duration": 4,
    "start_time": "2022-03-11T15:44:37.983Z"
   },
   {
    "duration": 989,
    "start_time": "2022-03-11T15:45:01.121Z"
   },
   {
    "duration": 950,
    "start_time": "2022-03-11T15:45:23.781Z"
   },
   {
    "duration": 998,
    "start_time": "2022-03-11T15:45:41.643Z"
   },
   {
    "duration": 369,
    "start_time": "2022-03-11T15:45:42.642Z"
   },
   {
    "duration": 73,
    "start_time": "2022-03-11T15:45:43.013Z"
   },
   {
    "duration": 83,
    "start_time": "2022-03-11T15:45:43.088Z"
   },
   {
    "duration": 67,
    "start_time": "2022-03-11T15:45:43.172Z"
   },
   {
    "duration": 151,
    "start_time": "2022-03-11T15:45:43.240Z"
   },
   {
    "duration": 188,
    "start_time": "2022-03-11T15:45:43.393Z"
   },
   {
    "duration": 35,
    "start_time": "2022-03-11T15:45:43.582Z"
   },
   {
    "duration": 2,
    "start_time": "2022-03-11T15:45:43.620Z"
   },
   {
    "duration": 14,
    "start_time": "2022-03-11T15:45:43.624Z"
   },
   {
    "duration": 13914,
    "start_time": "2022-03-11T15:45:43.639Z"
   },
   {
    "duration": 1736,
    "start_time": "2022-03-11T15:45:57.555Z"
   },
   {
    "duration": 13,
    "start_time": "2022-03-11T15:45:59.292Z"
   },
   {
    "duration": 7,
    "start_time": "2022-03-11T15:45:59.307Z"
   },
   {
    "duration": 886,
    "start_time": "2022-03-11T15:45:59.316Z"
   },
   {
    "duration": 3082,
    "start_time": "2022-03-11T15:46:00.204Z"
   },
   {
    "duration": 34,
    "start_time": "2022-03-11T15:46:03.288Z"
   },
   {
    "duration": 969,
    "start_time": "2022-03-11T15:46:03.324Z"
   },
   {
    "duration": 1034,
    "start_time": "2022-03-11T15:46:04.295Z"
   },
   {
    "duration": 455,
    "start_time": "2022-03-11T15:46:05.331Z"
   },
   {
    "duration": 5,
    "start_time": "2022-03-11T15:46:05.788Z"
   },
   {
    "duration": 926,
    "start_time": "2022-03-11T15:46:26.819Z"
   },
   {
    "duration": 15,
    "start_time": "2022-03-11T15:47:15.141Z"
   },
   {
    "duration": 900,
    "start_time": "2022-03-11T15:47:40.309Z"
   },
   {
    "duration": 878,
    "start_time": "2022-03-11T15:47:51.366Z"
   },
   {
    "duration": 15,
    "start_time": "2022-03-11T15:48:29.606Z"
   },
   {
    "duration": 15,
    "start_time": "2022-03-11T15:48:40.173Z"
   },
   {
    "duration": 1105,
    "start_time": "2022-03-11T15:50:40.698Z"
   },
   {
    "duration": 3071,
    "start_time": "2022-03-11T15:56:35.815Z"
   },
   {
    "duration": 26,
    "start_time": "2022-03-11T15:56:38.888Z"
   },
   {
    "duration": 815,
    "start_time": "2022-03-11T15:56:52.226Z"
   },
   {
    "duration": 4,
    "start_time": "2022-03-11T15:56:55.630Z"
   },
   {
    "duration": 821,
    "start_time": "2022-03-11T15:56:56.016Z"
   },
   {
    "duration": 5,
    "start_time": "2022-03-11T15:57:03.944Z"
   },
   {
    "duration": 15,
    "start_time": "2022-03-11T15:57:26.164Z"
   },
   {
    "duration": 19,
    "start_time": "2022-03-11T15:57:34.406Z"
   },
   {
    "duration": 4,
    "start_time": "2022-03-11T16:04:56.965Z"
   },
   {
    "duration": 3043,
    "start_time": "2022-03-11T16:05:09.926Z"
   },
   {
    "duration": 4,
    "start_time": "2022-03-11T16:05:14.105Z"
   },
   {
    "duration": 924,
    "start_time": "2022-03-11T16:11:00.488Z"
   },
   {
    "duration": 940,
    "start_time": "2022-03-11T16:11:10.769Z"
   },
   {
    "duration": 896,
    "start_time": "2022-03-11T16:11:54.575Z"
   },
   {
    "duration": 897,
    "start_time": "2022-03-11T16:12:07.792Z"
   },
   {
    "duration": 950,
    "start_time": "2022-03-11T16:13:10.315Z"
   },
   {
    "duration": 883,
    "start_time": "2022-03-11T16:13:34.368Z"
   },
   {
    "duration": 858,
    "start_time": "2022-03-11T16:13:43.097Z"
   },
   {
    "duration": 938,
    "start_time": "2022-03-11T16:13:47.925Z"
   },
   {
    "duration": 931,
    "start_time": "2022-03-11T16:14:06.506Z"
   },
   {
    "duration": 911,
    "start_time": "2022-03-11T16:14:16.408Z"
   },
   {
    "duration": 951,
    "start_time": "2022-03-11T16:14:20.821Z"
   },
   {
    "duration": 1151,
    "start_time": "2022-03-11T16:14:50.972Z"
   },
   {
    "duration": 1010,
    "start_time": "2022-03-11T16:15:00.138Z"
   },
   {
    "duration": 914,
    "start_time": "2022-03-11T16:15:21.753Z"
   },
   {
    "duration": 968,
    "start_time": "2022-03-11T16:16:04.766Z"
   },
   {
    "duration": 279,
    "start_time": "2022-03-11T16:17:46.022Z"
   },
   {
    "duration": 234,
    "start_time": "2022-03-11T16:18:21.121Z"
   },
   {
    "duration": 13,
    "start_time": "2022-03-11T16:18:36.242Z"
   },
   {
    "duration": 1012,
    "start_time": "2022-03-11T16:19:03.845Z"
   },
   {
    "duration": 254,
    "start_time": "2022-03-11T16:19:10.164Z"
   },
   {
    "duration": 291,
    "start_time": "2022-03-11T16:19:53.504Z"
   },
   {
    "duration": 226,
    "start_time": "2022-03-11T16:20:02.892Z"
   },
   {
    "duration": 3179,
    "start_time": "2022-03-11T16:25:43.587Z"
   },
   {
    "duration": 3225,
    "start_time": "2022-03-11T16:25:50.978Z"
   },
   {
    "duration": 3154,
    "start_time": "2022-03-11T16:26:10.668Z"
   },
   {
    "duration": 14,
    "start_time": "2022-03-11T16:27:21.298Z"
   },
   {
    "duration": 12,
    "start_time": "2022-03-11T16:28:03.759Z"
   },
   {
    "duration": 632,
    "start_time": "2022-03-11T16:35:48.606Z"
   },
   {
    "duration": 361,
    "start_time": "2022-03-11T16:36:03.818Z"
   },
   {
    "duration": 14,
    "start_time": "2022-03-11T16:36:10.629Z"
   },
   {
    "duration": 16,
    "start_time": "2022-03-11T16:36:26.929Z"
   },
   {
    "duration": 220,
    "start_time": "2022-03-11T16:56:08.540Z"
   },
   {
    "duration": 6,
    "start_time": "2022-03-11T17:07:37.805Z"
   },
   {
    "duration": 265,
    "start_time": "2022-03-11T17:15:14.703Z"
   },
   {
    "duration": 278,
    "start_time": "2022-03-11T17:15:22.398Z"
   },
   {
    "duration": 273,
    "start_time": "2022-03-11T17:19:51.966Z"
   },
   {
    "duration": 8,
    "start_time": "2022-03-11T17:20:45.105Z"
   },
   {
    "duration": 7,
    "start_time": "2022-03-11T17:21:15.315Z"
   },
   {
    "duration": 85,
    "start_time": "2022-03-11T17:22:19.637Z"
   },
   {
    "duration": 267,
    "start_time": "2022-03-11T17:22:43.956Z"
   },
   {
    "duration": 89,
    "start_time": "2022-03-11T17:23:06.172Z"
   },
   {
    "duration": 274,
    "start_time": "2022-03-11T17:25:34.943Z"
   },
   {
    "duration": 71,
    "start_time": "2022-03-12T14:35:04.909Z"
   },
   {
    "duration": 1130,
    "start_time": "2022-03-12T14:53:18.588Z"
   },
   {
    "duration": 514,
    "start_time": "2022-03-12T14:53:19.721Z"
   },
   {
    "duration": 124,
    "start_time": "2022-03-12T14:53:20.237Z"
   },
   {
    "duration": 105,
    "start_time": "2022-03-12T14:53:20.364Z"
   },
   {
    "duration": 79,
    "start_time": "2022-03-12T14:53:20.471Z"
   },
   {
    "duration": 194,
    "start_time": "2022-03-12T14:53:20.551Z"
   },
   {
    "duration": 223,
    "start_time": "2022-03-12T14:53:20.747Z"
   },
   {
    "duration": 51,
    "start_time": "2022-03-12T14:53:20.972Z"
   },
   {
    "duration": 3,
    "start_time": "2022-03-12T14:53:21.026Z"
   },
   {
    "duration": 17,
    "start_time": "2022-03-12T14:53:21.031Z"
   },
   {
    "duration": 16470,
    "start_time": "2022-03-12T14:53:21.050Z"
   },
   {
    "duration": 2020,
    "start_time": "2022-03-12T14:53:37.522Z"
   },
   {
    "duration": 7,
    "start_time": "2022-03-12T14:53:39.543Z"
   },
   {
    "duration": 15,
    "start_time": "2022-03-12T14:53:39.552Z"
   },
   {
    "duration": 969,
    "start_time": "2022-03-12T14:53:39.569Z"
   },
   {
    "duration": 4,
    "start_time": "2022-03-12T14:53:40.540Z"
   },
   {
    "duration": 3774,
    "start_time": "2022-03-12T14:53:40.546Z"
   },
   {
    "duration": 25,
    "start_time": "2022-03-12T14:53:44.321Z"
   },
   {
    "duration": 1166,
    "start_time": "2022-03-12T14:53:44.348Z"
   },
   {
    "duration": 1236,
    "start_time": "2022-03-12T14:53:45.516Z"
   },
   {
    "duration": 1243,
    "start_time": "2022-03-12T14:53:46.754Z"
   },
   {
    "duration": 18,
    "start_time": "2022-03-12T14:53:48.002Z"
   },
   {
    "duration": 297,
    "start_time": "2022-03-12T14:53:48.022Z"
   },
   {
    "duration": 5,
    "start_time": "2022-03-12T14:53:48.321Z"
   },
   {
    "duration": 6,
    "start_time": "2022-03-12T15:31:17.330Z"
   },
   {
    "duration": 7,
    "start_time": "2022-03-12T15:31:26.065Z"
   },
   {
    "duration": 7,
    "start_time": "2022-03-12T15:31:30.499Z"
   },
   {
    "duration": 17,
    "start_time": "2022-03-12T15:31:37.504Z"
   },
   {
    "duration": 5,
    "start_time": "2022-03-12T15:31:58.607Z"
   },
   {
    "duration": 17,
    "start_time": "2022-03-12T15:32:08.722Z"
   },
   {
    "duration": 7,
    "start_time": "2022-03-12T15:32:14.700Z"
   },
   {
    "duration": 5,
    "start_time": "2022-03-12T15:32:33.738Z"
   },
   {
    "duration": 6,
    "start_time": "2022-03-12T15:32:47.031Z"
   },
   {
    "duration": 5,
    "start_time": "2022-03-12T15:33:05.335Z"
   },
   {
    "duration": 6,
    "start_time": "2022-03-12T15:33:09.384Z"
   },
   {
    "duration": 18,
    "start_time": "2022-03-12T15:33:19.870Z"
   },
   {
    "duration": 15,
    "start_time": "2022-03-12T15:41:02.703Z"
   },
   {
    "duration": 15,
    "start_time": "2022-03-12T15:41:09.643Z"
   },
   {
    "duration": 6,
    "start_time": "2022-03-12T15:41:19.842Z"
   },
   {
    "duration": 5,
    "start_time": "2022-03-12T15:43:09.614Z"
   },
   {
    "duration": 675,
    "start_time": "2022-03-12T15:43:10.233Z"
   },
   {
    "duration": 13,
    "start_time": "2022-03-12T15:43:19.670Z"
   },
   {
    "duration": 12,
    "start_time": "2022-03-12T15:43:23.059Z"
   },
   {
    "duration": 12,
    "start_time": "2022-03-12T15:43:41.738Z"
   },
   {
    "duration": 312,
    "start_time": "2022-03-12T15:45:16.068Z"
   },
   {
    "duration": 216,
    "start_time": "2022-03-12T15:54:53.921Z"
   },
   {
    "duration": 12,
    "start_time": "2022-03-12T15:55:01.324Z"
   },
   {
    "duration": 13,
    "start_time": "2022-03-12T15:55:31.868Z"
   },
   {
    "duration": 2643,
    "start_time": "2022-03-12T15:55:34.115Z"
   },
   {
    "duration": 14,
    "start_time": "2022-03-12T15:56:36.398Z"
   },
   {
    "duration": 11,
    "start_time": "2022-03-12T15:56:41.940Z"
   },
   {
    "duration": 7,
    "start_time": "2022-03-12T15:56:44.750Z"
   },
   {
    "duration": 3714,
    "start_time": "2022-03-12T15:56:48.737Z"
   },
   {
    "duration": 5,
    "start_time": "2022-03-12T15:56:56.539Z"
   },
   {
    "duration": 6,
    "start_time": "2022-03-12T15:56:59.683Z"
   },
   {
    "duration": 7,
    "start_time": "2022-03-12T15:58:42.259Z"
   },
   {
    "duration": 6,
    "start_time": "2022-03-12T15:58:47.259Z"
   },
   {
    "duration": 7,
    "start_time": "2022-03-12T15:58:53.692Z"
   },
   {
    "duration": 12,
    "start_time": "2022-03-12T15:58:55.902Z"
   },
   {
    "duration": 18,
    "start_time": "2022-03-12T15:59:01.930Z"
   },
   {
    "duration": 10,
    "start_time": "2022-03-12T15:59:06.067Z"
   },
   {
    "duration": 18,
    "start_time": "2022-03-12T15:59:08.350Z"
   },
   {
    "duration": 21,
    "start_time": "2022-03-12T15:59:21.640Z"
   },
   {
    "duration": 15,
    "start_time": "2022-03-12T16:00:48.957Z"
   },
   {
    "duration": 227,
    "start_time": "2022-03-12T16:01:56.074Z"
   },
   {
    "duration": 264,
    "start_time": "2022-03-12T16:02:32.725Z"
   },
   {
    "duration": 3,
    "start_time": "2022-03-12T16:04:30.744Z"
   },
   {
    "duration": 3,
    "start_time": "2022-03-12T16:04:33.876Z"
   },
   {
    "duration": 3,
    "start_time": "2022-03-12T16:04:44.740Z"
   },
   {
    "duration": 3,
    "start_time": "2022-03-12T16:04:48.804Z"
   },
   {
    "duration": 22,
    "start_time": "2022-03-12T16:05:04.533Z"
   },
   {
    "duration": 5,
    "start_time": "2022-03-12T16:05:23.465Z"
   },
   {
    "duration": 4,
    "start_time": "2022-03-12T16:05:28.854Z"
   },
   {
    "duration": 4,
    "start_time": "2022-03-12T16:05:47.314Z"
   },
   {
    "duration": 3,
    "start_time": "2022-03-12T16:05:56.513Z"
   },
   {
    "duration": 68,
    "start_time": "2022-03-12T16:06:11.884Z"
   },
   {
    "duration": 275,
    "start_time": "2022-03-12T16:06:16.696Z"
   },
   {
    "duration": 5,
    "start_time": "2022-03-12T16:06:34.712Z"
   },
   {
    "duration": 3,
    "start_time": "2022-03-12T16:06:41.005Z"
   },
   {
    "duration": 3,
    "start_time": "2022-03-12T16:06:43.960Z"
   },
   {
    "duration": 4,
    "start_time": "2022-03-12T16:06:49.095Z"
   },
   {
    "duration": 72,
    "start_time": "2022-03-12T16:06:58.996Z"
   },
   {
    "duration": 78,
    "start_time": "2022-03-12T16:07:06.306Z"
   },
   {
    "duration": 5,
    "start_time": "2022-03-12T16:07:17.939Z"
   },
   {
    "duration": 233,
    "start_time": "2022-03-12T16:07:37.440Z"
   },
   {
    "duration": 91,
    "start_time": "2022-03-12T16:07:40.975Z"
   },
   {
    "duration": 4,
    "start_time": "2022-03-12T16:08:10.258Z"
   },
   {
    "duration": 5,
    "start_time": "2022-03-12T16:08:15.055Z"
   },
   {
    "duration": 5,
    "start_time": "2022-03-12T16:08:20.897Z"
   },
   {
    "duration": 3,
    "start_time": "2022-03-12T16:08:24.505Z"
   },
   {
    "duration": 4,
    "start_time": "2022-03-12T16:08:30.814Z"
   },
   {
    "duration": 696,
    "start_time": "2022-03-12T16:08:33.921Z"
   },
   {
    "duration": 413,
    "start_time": "2022-03-12T16:08:35.720Z"
   },
   {
    "duration": 5,
    "start_time": "2022-03-12T16:09:17.588Z"
   },
   {
    "duration": 5,
    "start_time": "2022-03-12T16:09:24.195Z"
   },
   {
    "duration": 222,
    "start_time": "2022-03-12T16:09:41.680Z"
   },
   {
    "duration": 3,
    "start_time": "2022-03-12T16:12:37.281Z"
   },
   {
    "duration": 3,
    "start_time": "2022-03-12T16:12:41.336Z"
   },
   {
    "duration": 14802,
    "start_time": "2022-03-12T16:12:42.578Z"
   },
   {
    "duration": -3,
    "start_time": "2022-03-12T16:12:57.387Z"
   },
   {
    "duration": 5,
    "start_time": "2022-03-12T16:14:56.091Z"
   },
   {
    "duration": 224,
    "start_time": "2022-03-12T16:15:03.681Z"
   },
   {
    "duration": 18,
    "start_time": "2022-03-12T16:28:45.512Z"
   },
   {
    "duration": 15,
    "start_time": "2022-03-12T16:29:13.516Z"
   },
   {
    "duration": 15,
    "start_time": "2022-03-12T16:29:18.386Z"
   },
   {
    "duration": 242,
    "start_time": "2022-03-12T16:29:30.621Z"
   },
   {
    "duration": 17,
    "start_time": "2022-03-12T16:29:34.723Z"
   },
   {
    "duration": 13,
    "start_time": "2022-03-12T16:29:43.181Z"
   },
   {
    "duration": 82,
    "start_time": "2022-03-12T16:29:47.273Z"
   },
   {
    "duration": 72,
    "start_time": "2022-03-12T16:29:50.379Z"
   },
   {
    "duration": 1194,
    "start_time": "2022-03-12T16:29:52.411Z"
   },
   {
    "duration": 15,
    "start_time": "2022-03-12T16:29:56.348Z"
   },
   {
    "duration": 227,
    "start_time": "2022-03-12T16:30:05.005Z"
   },
   {
    "duration": 18,
    "start_time": "2022-03-12T16:31:37.824Z"
   },
   {
    "duration": 220,
    "start_time": "2022-03-12T16:31:42.125Z"
   },
   {
    "duration": 17,
    "start_time": "2022-03-12T16:31:57.757Z"
   },
   {
    "duration": 13,
    "start_time": "2022-03-12T16:32:08.791Z"
   },
   {
    "duration": 6,
    "start_time": "2022-03-12T16:32:23.277Z"
   },
   {
    "duration": 16,
    "start_time": "2022-03-12T16:36:11.660Z"
   },
   {
    "duration": 1214,
    "start_time": "2022-03-12T16:38:45.258Z"
   },
   {
    "duration": 1179,
    "start_time": "2022-03-12T16:44:17.988Z"
   },
   {
    "duration": 18,
    "start_time": "2022-03-12T16:44:26.701Z"
   },
   {
    "duration": 5,
    "start_time": "2022-03-12T16:44:34.041Z"
   },
   {
    "duration": 3946,
    "start_time": "2022-03-12T16:44:41.163Z"
   },
   {
    "duration": 4,
    "start_time": "2022-03-12T16:45:05.499Z"
   },
   {
    "duration": 7244,
    "start_time": "2022-03-12T16:45:08.865Z"
   },
   {
    "duration": 19,
    "start_time": "2022-03-12T16:58:09.031Z"
   },
   {
    "duration": 4,
    "start_time": "2022-03-12T16:58:32.566Z"
   },
   {
    "duration": 16,
    "start_time": "2022-03-12T16:58:42.398Z"
   },
   {
    "duration": 6,
    "start_time": "2022-03-12T16:58:47.218Z"
   },
   {
    "duration": 7,
    "start_time": "2022-03-12T16:58:56.716Z"
   },
   {
    "duration": 8,
    "start_time": "2022-03-12T16:59:35.272Z"
   },
   {
    "duration": 5,
    "start_time": "2022-03-12T16:59:42.555Z"
   },
   {
    "duration": 4,
    "start_time": "2022-03-12T16:59:49.087Z"
   },
   {
    "duration": 4,
    "start_time": "2022-03-12T17:01:03.548Z"
   },
   {
    "duration": 6,
    "start_time": "2022-03-12T17:01:49.332Z"
   },
   {
    "duration": 1259,
    "start_time": "2022-03-12T17:10:49.900Z"
   },
   {
    "duration": 4,
    "start_time": "2022-03-12T17:11:38.621Z"
   },
   {
    "duration": 5,
    "start_time": "2022-03-12T17:13:23.265Z"
   },
   {
    "duration": 37,
    "start_time": "2022-03-12T17:13:29.104Z"
   },
   {
    "duration": 697,
    "start_time": "2022-03-12T17:13:36.852Z"
   }
  ],
  "kernelspec": {
   "display_name": "Python 3 (ipykernel)",
   "language": "python",
   "name": "python3"
  },
  "language_info": {
   "codemirror_mode": {
    "name": "ipython",
    "version": 3
   },
   "file_extension": ".py",
   "mimetype": "text/x-python",
   "name": "python",
   "nbconvert_exporter": "python",
   "pygments_lexer": "ipython3",
   "version": "3.9.12"
  },
  "toc": {
   "base_numbering": 1,
   "nav_menu": {},
   "number_sections": true,
   "sideBar": true,
   "skip_h1_title": true,
   "title_cell": "Table of Contents",
   "title_sidebar": "Contents",
   "toc_cell": false,
   "toc_position": {},
   "toc_section_display": true,
   "toc_window_display": false
  }
 },
 "nbformat": 4,
 "nbformat_minor": 4
}
